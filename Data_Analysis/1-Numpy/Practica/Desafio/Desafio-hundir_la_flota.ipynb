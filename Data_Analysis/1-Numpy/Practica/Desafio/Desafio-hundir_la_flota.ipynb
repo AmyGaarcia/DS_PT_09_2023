{
 "cells": [
  {
   "cell_type": "markdown",
   "metadata": {},
   "source": [
    "## Reto 1: Hundir la Flota (Batalla Naval)\n",
    "### Objetivo: Implementar una versión simplificada del juego de Batalla Naval usando Python y Numpy para manejar el tablero del juego.\n",
    "\n",
    "- Crear un tablero 10x10 usando Numpy arrays.\n",
    "- Colocar 5 barcos de diferentes tamaños en posiciones aleatorias en el tablero.\n",
    "- Permitir que el jugador ingrese coordenadas para \"disparar\".\n",
    "- Mostrar un mensaje si el jugador acierta o falla, y actualizar el tablero acorde.\n",
    "- Seguir jugando hasta que todos los barcos sean hundidos.\n",
    "#### Habilidades aplicadas: Uso de arrays de Numpy, generación de números aleatorios, estructuras de control en Python.\n",
    "\n",
    "## Reto 2: Tres en Raya (Tic-Tac-Toe)\n",
    "### Objetivo: Implementar el juego de Tres en Raya.\n",
    "\n",
    "- Crear un tablero 3x3 usando Numpy arrays.\n",
    "- Permitir a dos jugadores ingresar sus movimientos alternadamente.\n",
    "- Verificar después de cada movimiento si alguno de los jugadores ha ganado.\n",
    "- Mostrar el tablero después de cada turno.\n",
    "- Terminar el juego si hay un ganador o si el tablero está lleno.\n",
    "#### Habilidades aplicadas: Manipulación de arrays, estructuras de control, funciones en Python.\n",
    "\n",
    "## Reto 3: Torres de Hanoi\n",
    "### Objetivo: Implementar el juego de las Torres de Hanoi usando Python.\n",
    "\n",
    "- Crear tres pilas para representar los tres postes del juego.\n",
    "- Implementar la lógica para mover un disco de un poste a otro, siguiendo las reglas del juego.\n",
    "- Desarrollar una función recursiva para resolver el juego.\n",
    "- Permitir al usuario elegir el número de discos con los que jugará.\n",
    "#### Habilidades aplicadas: Recursividad, estructuras de datos (pilas), funciones en Python."
   ]
  },
  {
   "cell_type": "markdown",
   "metadata": {},
   "source": [
    "``Deberas hacer por lo menos uno de los tres para de la fecha de entrega, pero antes de terminar el modulo de analisis de datos tendras que entregar todos..``"
   ]
  },
  {
   "cell_type": "markdown",
   "metadata": {},
   "source": [
    "como se cual debo hacer muy simple introduce tu fecha de cumpleaños en la siguiente funcion"
   ]
  },
  {
   "cell_type": "code",
   "execution_count": 1,
   "metadata": {},
   "outputs": [],
   "source": [
    "def cual_es_mi_reto(fecha: str) -> str:\n",
    "    \"\"\"\n",
    "    Args:\n",
    "    ------\n",
    "    fecha: str el formato de la fecha es DD-MM-YYYY\n",
    "    Returns:\n",
    "    -------\n",
    "    str: el numero del reto\n",
    "    \"\"\"\n",
    "    try:\n",
    "        return int(fecha.split('-')[0]) % 3 + 1\n",
    "    except:\n",
    "        return 'La fecha tiene que ser en este formato DD-MM-YYYY'"
   ]
  },
  {
   "cell_type": "code",
   "execution_count": 2,
   "metadata": {},
   "outputs": [
    {
     "data": {
      "text/plain": [
       "1"
      ]
     },
     "execution_count": 2,
     "metadata": {},
     "output_type": "execute_result"
    }
   ],
   "source": [
    "cual_es_mi_reto(fecha='06-09-1994')"
   ]
  },
  {
   "cell_type": "markdown",
   "metadata": {},
   "source": [
    "### EJERCICIO 1 HUNDIR LA FLOTA:"
   ]
  },
  {
   "cell_type": "code",
   "execution_count": 2,
   "metadata": {},
   "outputs": [],
   "source": [
    "import random\n",
    "import numpy as np"
   ]
  },
  {
   "cell_type": "code",
   "execution_count": 3,
   "metadata": {},
   "outputs": [],
   "source": [
    "tablero = np.full((10,10), ' ')\n",
    "simb_barco= \"O\"\n",
    "simb_disparo = \"X\"\n",
    "simb_disparofallido = \"-\""
   ]
  },
  {
   "cell_type": "code",
   "execution_count": 4,
   "metadata": {},
   "outputs": [],
   "source": [
    "def fyp_barco(formas, tablero):\n",
    "    orientacion = random.choice([\"horizontal\", \"vertical\"])\n",
    "    filas, columnas = tablero.shape\n",
    "\n",
    "    if orientacion == \"horizontal\":\n",
    "        fila = random.randint(0, filas - 1)\n",
    "        columna = random.randint(0, columnas - formas)\n",
    "    else:\n",
    "        fila = random.randint(0, filas - formas)\n",
    "        columna = random.randint(0, columnas - 1)\n",
    "\n",
    "    barco = []\n",
    "    for i in range(formas):\n",
    "        barco.append((fila, columna))\n",
    "        if orientacion == \"horizontal\":\n",
    "            columna += 1\n",
    "        else:\n",
    "            fila += 1\n",
    "    return barco"
   ]
  },
  {
   "cell_type": "code",
   "execution_count": 5,
   "metadata": {},
   "outputs": [],
   "source": [
    "def colocar_barcos(tablero):\n",
    "    barcos_colocados = 0\n",
    "\n",
    "    while barcos_colocados < 5:\n",
    "        if barcos_colocados == 0:\n",
    "            formas = 4\n",
    "        elif barcos_colocados < 3:\n",
    "            formas = 3\n",
    "        else:\n",
    "            formas = 2\n",
    "\n",
    "        orientacion = random.choice([\"horizontal\", \"vertical\"])\n",
    "        filas, columnas = tablero.shape\n",
    "\n",
    "        if orientacion == \"horizontal\":\n",
    "            fila = random.randint(0, filas - 1)\n",
    "            columna = random.randint(0, columnas - formas)\n",
    "        else:\n",
    "            fila = random.randint(0, filas - formas)\n",
    "            columna = random.randint(0, columnas - 1)\n",
    "\n",
    "        barco = []\n",
    "        for i in range(formas):\n",
    "            barco.append((fila, columna))\n",
    "            if orientacion == \"horizontal\":\n",
    "                columna += 1\n",
    "            else:\n",
    "                fila += 1\n",
    "\n",
    "        for fila, columna in barco:\n",
    "            tablero[fila][columna] = simb_barco\n",
    "            \n",
    "        barcos_colocados += 1\n"
   ]
  },
  {
   "cell_type": "code",
   "execution_count": 6,
   "metadata": {},
   "outputs": [],
   "source": [
    "def imp_tablero(tablero):\n",
    "    print(tablero)"
   ]
  },
  {
   "cell_type": "code",
   "execution_count": 7,
   "metadata": {},
   "outputs": [],
   "source": [
    "def disparo(tablero1, tablero2):\n",
    "    while True:\n",
    "        coordenadas = input(\"Escribe las coordenadas: \")\n",
    "        fila, columna = map(int, coordenadas.split(','))\n",
    "\n",
    "        if 0 <= fila < tablero1.shape[0] and 0 <= columna < tablero1.shape[1]:\n",
    "            if tablero2[fila][columna] == simb_barco:\n",
    "                tablero2[fila][columna] = simb_disparo\n",
    "                print(\"Impacto!!!!!!!!\")\n",
    "            elif tablero2[fila][columna] == simb_disparo:\n",
    "                print(\"Ya has disparado esa coordenada....\")\n",
    "            else:\n",
    "                tablero2[fila][columna] = simb_disparofallido\n",
    "                print(\"Has fallado...:(\")\n",
    "        return\n",
    "              "
   ]
  },
  {
   "cell_type": "code",
   "execution_count": 8,
   "metadata": {},
   "outputs": [],
   "source": [
    "def victoria(tablero):\n",
    "    for fila in tablero:\n",
    "        for casilla in fila:\n",
    "            if casilla == simb_barco:\n",
    "                return False\n",
    "    return True"
   ]
  },
  {
   "cell_type": "code",
   "execution_count": 9,
   "metadata": {},
   "outputs": [],
   "source": [
    "tablero_user1 = np.full((10, 10), ' ')\n",
    "tablero_user2 = np.full((10, 10), ' ')\n",
    "\n",
    "colocar_barcos(tablero_user1)\n",
    "colocar_barcos(tablero_user2)"
   ]
  },
  {
   "cell_type": "code",
   "execution_count": 10,
   "metadata": {},
   "outputs": [
    {
     "name": "stdout",
     "output_type": "stream",
     "text": [
      "Turno de user1:\n",
      "[[' ' ' ' 'O' ' ' ' ' 'O' 'O' 'O' ' ' ' ']\n",
      " [' ' ' ' 'O' ' ' ' ' ' ' ' ' ' ' ' ' ' ']\n",
      " [' ' ' ' 'O' ' ' 'O' ' ' ' ' ' ' ' ' ' ']\n",
      " [' ' ' ' 'O' ' ' 'O' ' ' ' ' ' ' ' ' ' ']\n",
      " [' ' ' ' ' ' ' ' 'O' ' ' ' ' ' ' ' ' ' ']\n",
      " [' ' ' ' ' ' ' ' ' ' ' ' ' ' ' ' ' ' ' ']\n",
      " [' ' ' ' ' ' ' ' ' ' ' ' 'O' 'O' ' ' ' ']\n",
      " [' ' ' ' ' ' ' ' ' ' ' ' ' ' ' ' ' ' ' ']\n",
      " [' ' ' ' ' ' ' ' ' ' ' ' ' ' ' ' ' ' 'O']\n",
      " [' ' ' ' ' ' ' ' ' ' ' ' ' ' ' ' ' ' 'O']]\n",
      "Impacto!!!!!!!!\n",
      "Turno de user2:\n",
      "[[' ' ' ' ' ' ' ' ' ' ' ' ' ' ' ' 'O' 'O']\n",
      " [' ' ' ' ' ' ' ' ' ' ' ' ' ' ' ' ' ' ' ']\n",
      " [' ' ' ' ' ' ' ' ' ' ' ' ' ' ' ' ' ' ' ']\n",
      " [' ' ' ' ' ' ' ' 'O' ' ' ' ' ' ' ' ' ' ']\n",
      " [' ' ' ' ' ' ' ' 'O' ' ' ' ' ' ' ' ' ' ']\n",
      " [' ' ' ' ' ' 'O' 'O' ' ' ' ' ' ' ' ' ' ']\n",
      " [' ' ' ' ' ' 'O' 'O' ' ' ' ' ' ' ' ' ' ']\n",
      " [' ' ' ' ' ' 'O' ' ' ' ' ' ' ' ' ' ' ' ']\n",
      " [' ' ' ' ' ' ' ' ' ' ' ' ' ' 'O' 'O' 'O']\n",
      " [' ' ' ' ' ' ' ' ' ' ' ' ' ' 'O' 'O' ' ']]\n"
     ]
    }
   ],
   "source": [
    "\n",
    "turno_user1 = True\n",
    "\n",
    "while True:\n",
    "    if turno_user1:\n",
    "        print(\"Turno de user1:\")\n",
    "        imp_tablero(tablero_user1)\n",
    "        disparo(tablero_user2, tablero_user1)\n",
    "        if victoria(tablero_user2):\n",
    "            print(\"user1 ha ganado!!!!!!!\")\n",
    "            break\n",
    "    else:\n",
    "        print(\"Turno de user2:\")\n",
    "        imp_tablero(tablero_user2)\n",
    "        disparo(tablero_user1, tablero_user2)\n",
    "        if victoria(tablero_user1):\n",
    "            print(\"user2 ha ganado!\")\n",
    "            break\n",
    "\n",
    "    turno_user1 = not turno_user1\n",
    "\n",
    " "
   ]
  },
  {
   "cell_type": "code",
   "execution_count": null,
   "metadata": {},
   "outputs": [],
   "source": [
    "\"\"\" \n",
    "-Me han faltado algunas cosas como por ejemplo que si uno de los users acierta tiene otro \n",
    "tiro hasta que falle pero me han salido errores y mejor lo dejo como esta.\n",
    "\n",
    "-En pycharm me funciona mejor pero aqui me ha dado algun problema.\n",
    "\n",
    "\"\"\""
   ]
  }
 ],
 "metadata": {
  "kernelspec": {
   "display_name": "este",
   "language": "python",
   "name": "python3"
  },
  "language_info": {
   "codemirror_mode": {
    "name": "ipython",
    "version": 3
   },
   "file_extension": ".py",
   "mimetype": "text/x-python",
   "name": "python",
   "nbconvert_exporter": "python",
   "pygments_lexer": "ipython3",
   "version": "3.11.3"
  }
 },
 "nbformat": 4,
 "nbformat_minor": 2
}
