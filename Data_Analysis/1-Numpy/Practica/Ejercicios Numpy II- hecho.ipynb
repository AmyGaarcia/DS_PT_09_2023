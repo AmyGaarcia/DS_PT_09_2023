{
 "cells": [
  {
   "cell_type": "markdown",
   "metadata": {},
   "source": [
    "![imagen](./img/ejercicios.png)"
   ]
  },
  {
   "cell_type": "markdown",
   "metadata": {},
   "source": [
    "## Ejercicio 1\n",
    "1. Crea un array que vaya del 0 al 9 y que se llame `my_array`\n",
    "2. Imprime por pantalla los elementos [9 7 5 3 1] en ese orden."
   ]
  },
  {
   "cell_type": "code",
   "execution_count": 2,
   "metadata": {},
   "outputs": [
    {
     "name": "stdout",
     "output_type": "stream",
     "text": [
      "[9 7 5 3 1]\n"
     ]
    }
   ],
   "source": [
    "import numpy as np\n",
    "my_array = np.array([0,1,2,3,4,5,6,7,8,9])\n",
    "\n",
    "print(my_array[-1:0:-2])"
   ]
  },
  {
   "cell_type": "markdown",
   "metadata": {},
   "source": [
    "## Ejercicio 2\n",
    "Imprime por pantalla la secuencia [8 7] del array `my_array`"
   ]
  },
  {
   "cell_type": "code",
   "execution_count": 37,
   "metadata": {},
   "outputs": [
    {
     "name": "stdout",
     "output_type": "stream",
     "text": [
      "[8 7]\n"
     ]
    }
   ],
   "source": [
    "print(my_array[-2:-4:-1])"
   ]
  },
  {
   "cell_type": "markdown",
   "metadata": {},
   "source": [
    "## Ejercicio 3\n",
    "Imprime por pantalla la secuencia [2 1 0] de `my_array`"
   ]
  },
  {
   "cell_type": "code",
   "execution_count": 66,
   "metadata": {},
   "outputs": [
    {
     "name": "stdout",
     "output_type": "stream",
     "text": [
      "[2 1 0]\n"
     ]
    }
   ],
   "source": [
    "print(my_array[-8:-11:-1])\n"
   ]
  },
  {
   "cell_type": "markdown",
   "metadata": {},
   "source": [
    "## Ejercicio 4\n",
    "1. Crea una matriz de 4x5, con una secuencia del 1 al 20\n",
    "2. Invierte totalmente la matriz. Tanto las filas, como las columnas"
   ]
  },
  {
   "cell_type": "code",
   "execution_count": 77,
   "metadata": {},
   "outputs": [
    {
     "name": "stdout",
     "output_type": "stream",
     "text": [
      "[[ 0  1  2  3  4]\n",
      " [ 5  6  7  8  9]\n",
      " [10 11 12 13 14]\n",
      " [15 16 17 18 19]]\n"
     ]
    }
   ],
   "source": [
    "my_matrix = np.arange(20).reshape(4, 5) #No me deja poner 21 en arange, me sale error\n",
    "print(my_matrix)"
   ]
  },
  {
   "cell_type": "code",
   "execution_count": 81,
   "metadata": {},
   "outputs": [
    {
     "name": "stdout",
     "output_type": "stream",
     "text": [
      "[[19 18 17 16 15]\n",
      " [14 13 12 11 10]\n",
      " [ 9  8  7  6  5]\n",
      " [ 4  3  2  1  0]]\n"
     ]
    }
   ],
   "source": [
    "print(my_matrix[::-1,::-1])"
   ]
  },
  {
   "cell_type": "code",
   "execution_count": 86,
   "metadata": {},
   "outputs": [
    {
     "name": "stdout",
     "output_type": "stream",
     "text": [
      "[[ 1  2  3  4  5]\n",
      " [ 6  7  8  9 10]\n",
      " [11 12 13 14 15]\n",
      " [16 17 18 19 20]]\n"
     ]
    }
   ],
   "source": [
    "my_matrix1= np.array([[1,2,3,4,5],\n",
    "                     [6,7,8,9,10],\n",
    "                     [11,12,13,14,15],\n",
    "                     [16,17,18,19,20]])\n",
    "print(my_matrix1)"
   ]
  },
  {
   "cell_type": "code",
   "execution_count": 87,
   "metadata": {},
   "outputs": [
    {
     "name": "stdout",
     "output_type": "stream",
     "text": [
      "[[20 19 18 17 16]\n",
      " [15 14 13 12 11]\n",
      " [10  9  8  7  6]\n",
      " [ 5  4  3  2  1]]\n"
     ]
    }
   ],
   "source": [
    "print(my_matrix1[::-1,::-1])"
   ]
  },
  {
   "cell_type": "markdown",
   "metadata": {},
   "source": [
    "## Ejercicio 5\n",
    "\n",
    "Obtén el siguiente array, partiendo de la matriz del ejercicio 4\n",
    "```Python\n",
    "array([[1, 2],\n",
    "       [6, 7]])\n",
    "```"
   ]
  },
  {
   "cell_type": "code",
   "execution_count": 88,
   "metadata": {},
   "outputs": [
    {
     "name": "stdout",
     "output_type": "stream",
     "text": [
      "[[ 1  2  3  4  5]\n",
      " [ 6  7  8  9 10]\n",
      " [11 12 13 14 15]\n",
      " [16 17 18 19 20]]\n"
     ]
    }
   ],
   "source": [
    "print(my_matrix1)"
   ]
  },
  {
   "cell_type": "code",
   "execution_count": 90,
   "metadata": {},
   "outputs": [
    {
     "data": {
      "text/plain": [
       "array([[1, 2],\n",
       "       [6, 7]])"
      ]
     },
     "execution_count": 90,
     "metadata": {},
     "output_type": "execute_result"
    }
   ],
   "source": [
    "my_matrix1[:2,:2]"
   ]
  },
  {
   "cell_type": "markdown",
   "metadata": {},
   "source": [
    "## Ejercicio 6\n",
    "Obtén el siguiente array, partiendo de la matriz del ejercicio 4\n",
    "```Python\n",
    "array([[ 1,  3,  5],\n",
    "       [11, 13, 15]])\n",
    "```"
   ]
  },
  {
   "cell_type": "code",
   "execution_count": 91,
   "metadata": {},
   "outputs": [
    {
     "name": "stdout",
     "output_type": "stream",
     "text": [
      "[[ 1  2  3  4  5]\n",
      " [ 6  7  8  9 10]\n",
      " [11 12 13 14 15]\n",
      " [16 17 18 19 20]]\n"
     ]
    }
   ],
   "source": [
    "print(my_matrix1)"
   ]
  },
  {
   "cell_type": "code",
   "execution_count": 98,
   "metadata": {},
   "outputs": [
    {
     "data": {
      "text/plain": [
       "array([[ 1,  3,  5],\n",
       "       [ 6,  8, 10]])"
      ]
     },
     "execution_count": 98,
     "metadata": {},
     "output_type": "execute_result"
    }
   ],
   "source": [
    "my_matrix1[:2,::2]"
   ]
  },
  {
   "cell_type": "markdown",
   "metadata": {},
   "source": [
    "## Ejercicio 7\n",
    "Obtén el siguiente array, partiendo de la matriz del ejercicio 4\n",
    "```Python\n",
    "array([[ 5,  4,  3,  2,  1],\n",
    "       [10,  9,  8,  7,  6],\n",
    "       [15, 14, 13, 12, 11]])\n",
    "```"
   ]
  },
  {
   "cell_type": "code",
   "execution_count": 99,
   "metadata": {},
   "outputs": [
    {
     "name": "stdout",
     "output_type": "stream",
     "text": [
      "[[ 1  2  3  4  5]\n",
      " [ 6  7  8  9 10]\n",
      " [11 12 13 14 15]\n",
      " [16 17 18 19 20]]\n"
     ]
    }
   ],
   "source": [
    "print(my_matrix1)"
   ]
  },
  {
   "cell_type": "code",
   "execution_count": 102,
   "metadata": {},
   "outputs": [
    {
     "name": "stdout",
     "output_type": "stream",
     "text": [
      "[[ 5  4  3  2  1]\n",
      " [10  9  8  7  6]\n",
      " [15 14 13 12 11]]\n"
     ]
    }
   ],
   "source": [
    "print(my_matrix1[:3,::-1])"
   ]
  },
  {
   "cell_type": "markdown",
   "metadata": {},
   "source": [
    "## Ejercicio 8\n",
    "Dado el siguiente array:\n",
    "\n",
    "```Python\n",
    "x = np.array([\"Loro\", \"Perro\", \"Gato\", \"Loro\", \"Perro\"])\n",
    "```\n",
    "\n",
    "Filtra el array para quedarte únicamente con los loros.\n",
    "\n",
    "Resuélvelo de dos maneras diferentes"
   ]
  },
  {
   "cell_type": "code",
   "execution_count": 108,
   "metadata": {},
   "outputs": [
    {
     "name": "stdout",
     "output_type": "stream",
     "text": [
      "['Loro' 'Perro' 'Gato' 'Loro' 'Perro']\n"
     ]
    }
   ],
   "source": [
    "a = np.array([\"Loro\", \"Perro\", \"Gato\", \"Loro\", \"Perro\"])\n",
    "print(a)\n"
   ]
  },
  {
   "cell_type": "code",
   "execution_count": 118,
   "metadata": {},
   "outputs": [
    {
     "name": "stdout",
     "output_type": "stream",
     "text": [
      "[ True False False  True False]\n"
     ]
    }
   ],
   "source": [
    "print(a == \"Loro\")"
   ]
  },
  {
   "cell_type": "code",
   "execution_count": 115,
   "metadata": {},
   "outputs": [
    {
     "name": "stdout",
     "output_type": "stream",
     "text": [
      "[ True False False  True False]\n",
      "['Loro' 'Loro']\n"
     ]
    }
   ],
   "source": [
    "b = a == \"Loro\"\n",
    "print(b)\n",
    "print(a[b])"
   ]
  },
  {
   "cell_type": "markdown",
   "metadata": {},
   "source": [
    "## Ejercicio 9\n",
    "Crea una secuencia de 20 elementos y transformala en un array compuesto por 2 matrices de 5x2"
   ]
  },
  {
   "cell_type": "code",
   "execution_count": 121,
   "metadata": {},
   "outputs": [
    {
     "name": "stdout",
     "output_type": "stream",
     "text": [
      "[[[ 0  1]\n",
      "  [ 2  3]\n",
      "  [ 4  5]\n",
      "  [ 6  7]\n",
      "  [ 8  9]]\n",
      "\n",
      " [[10 11]\n",
      "  [12 13]\n",
      "  [14 15]\n",
      "  [16 17]\n",
      "  [18 19]]]\n"
     ]
    }
   ],
   "source": [
    "my_array = np.arange(20).reshape(2,5,2)\n",
    "print(my_array)"
   ]
  },
  {
   "cell_type": "markdown",
   "metadata": {},
   "source": [
    "## Ejercicio 10\n",
    "Obtén el siguiente array, partiendo de la matriz del ejercicio 4\n",
    "```Python\n",
    "array([[20, 19, 18, 17, 16],\n",
    "       [15, 14, 13, 12, 11],\n",
    "       [10,  9,  8,  7,  6],\n",
    "       [ 5,  4,  3,  2,  1]])\n",
    "```"
   ]
  },
  {
   "cell_type": "code",
   "execution_count": 126,
   "metadata": {},
   "outputs": [
    {
     "data": {
      "text/plain": [
       "array([[ 1,  2,  3,  4,  5],\n",
       "       [ 6,  7,  8,  9, 10],\n",
       "       [11, 12, 13, 14, 15],\n",
       "       [16, 17, 18, 19, 20]])"
      ]
     },
     "execution_count": 126,
     "metadata": {},
     "output_type": "execute_result"
    }
   ],
   "source": [
    "np.array(my_matrix1)"
   ]
  },
  {
   "cell_type": "code",
   "execution_count": 128,
   "metadata": {},
   "outputs": [
    {
     "data": {
      "text/plain": [
       "array([[20, 19, 18, 17, 16],\n",
       "       [15, 14, 13, 12, 11],\n",
       "       [10,  9,  8,  7,  6],\n",
       "       [ 5,  4,  3,  2,  1]])"
      ]
     },
     "execution_count": 128,
     "metadata": {},
     "output_type": "execute_result"
    }
   ],
   "source": [
    "a[::-1, ::-1]"
   ]
  },
  {
   "cell_type": "markdown",
   "metadata": {},
   "source": [
    "## Ejercicio 11\n",
    "Crea un array de 10 0s. ¿Cuánto ocupa en memoria?\n",
    "\n",
    "Sustituye el 4to elemento por 1, e imprime el array por pantalla"
   ]
  },
  {
   "cell_type": "code",
   "execution_count": 142,
   "metadata": {},
   "outputs": [
    {
     "name": "stdout",
     "output_type": "stream",
     "text": [
      "[0. 0. 0. 0. 0. 0. 0. 0. 0. 0.]\n",
      "8\n",
      "80\n",
      "float64\n"
     ]
    }
   ],
   "source": [
    "my_array = np.full(10,0.)\n",
    "\n",
    "print(my_array)\n",
    "\n",
    "print(my_array.itemsize)\n",
    "print(my_array.nbytes)\n",
    "print(my_array.dtype)"
   ]
  },
  {
   "cell_type": "code",
   "execution_count": 153,
   "metadata": {},
   "outputs": [
    {
     "name": "stdout",
     "output_type": "stream",
     "text": [
      "[0. 0. 0. 0. 1. 0. 0. 0. 0. 0.]\n",
      "float64\n"
     ]
    }
   ],
   "source": [
    "my_array = np.full(10,0.)\n",
    "\n",
    "my_array[4] = 1.\n",
    "\n",
    "print(my_array)\n",
    "\n",
    "print(my_array.dtype)"
   ]
  },
  {
   "cell_type": "markdown",
   "metadata": {},
   "source": [
    "## Ejercicio 12\n",
    "Crea un vector que vaya del 10 al 49\n",
    "\n",
    "Inviértelo"
   ]
  },
  {
   "cell_type": "code",
   "execution_count": 158,
   "metadata": {},
   "outputs": [
    {
     "name": "stdout",
     "output_type": "stream",
     "text": [
      "[10 11 12 13 14 15 16 17 18 19 20 21 22 23 24 25 26 27 28 29 30 31 32 33\n",
      " 34 35 36 37 38 39 40 41 42 43 44 45 46 47 48 49]\n",
      "[49 48 47 46 45 44 43 42 41 40 39 38 37 36 35 34 33 32 31 30 29 28 27 26\n",
      " 25 24 23 22 21 20 19 18 17 16 15 14 13 12 11 10]\n"
     ]
    }
   ],
   "source": [
    "v = np.arange(10,50)\n",
    "print(v)\n",
    "\n",
    "print(v[::-1])"
   ]
  },
  {
   "cell_type": "markdown",
   "metadata": {},
   "source": [
    "## Ejericio 13\n",
    "Encuentra los indices de los valores que no sean 0 del siguiente vector [1,2,0,0,4,0]. El output sería [0, 1, 4]. [Encuentra el método apropiado en la documentación.](https://numpy.org/doc/)"
   ]
  },
  {
   "cell_type": "code",
   "execution_count": 170,
   "metadata": {},
   "outputs": [
    {
     "name": "stdout",
     "output_type": "stream",
     "text": [
      "[0 1 4]\n"
     ]
    }
   ],
   "source": [
    "a= np.array([1,2,0,0,4,0])\n",
    "num = 0\n",
    "\n",
    "i= np.where(a != num)[0]\n",
    "\n",
    "print(i)\n",
    "\n"
   ]
  },
  {
   "cell_type": "code",
   "execution_count": null,
   "metadata": {},
   "outputs": [],
   "source": []
  },
  {
   "cell_type": "markdown",
   "metadata": {},
   "source": [
    "## Ejercicio 14\n",
    "Crea una matriz de numeros aleatorios 10x10. Encuentra los valores mínimo y máximo."
   ]
  },
  {
   "cell_type": "code",
   "execution_count": 184,
   "metadata": {},
   "outputs": [
    {
     "name": "stdout",
     "output_type": "stream",
     "text": [
      "[[33 83 42 88 60 78 98  7 83 64]\n",
      " [87 62 61 52 14 40 76 24 86 52]\n",
      " [46  9 18  1 23 42 51 64  5 88]\n",
      " [87  5 97 22 35 62 88  9  7 79]\n",
      " [16 43 44 90 88 66 51 47 97 70]\n",
      " [53 31 33 72 31 68  2 47 72 14]\n",
      " [53 51 71 58 24 14 67 54 31 56]\n",
      " [76 73 44 88 55 50 83 86 88 91]\n",
      " [ 4  3 80 81 50  4 81 43 74 85]\n",
      " [85 80 12  7 61 72 99 91 37 14]]\n",
      "99\n",
      "1\n"
     ]
    }
   ],
   "source": [
    "m = np.random.randint(1,100, size =(10,10))\n",
    "print(m)\n",
    "\n",
    "print(np.max(m))\n",
    "print(np.min(m))"
   ]
  },
  {
   "cell_type": "markdown",
   "metadata": {},
   "source": [
    "## Ejercicio 15\n",
    "Crea un vector aleatorio de tamaño 30 y calcula su media"
   ]
  },
  {
   "cell_type": "code",
   "execution_count": 193,
   "metadata": {},
   "outputs": [
    {
     "name": "stdout",
     "output_type": "stream",
     "text": [
      "[0.3871955  0.97685447 0.84923152 0.47755566 0.74352262 0.44072568\n",
      " 0.1949525  0.82692223 0.34199176 0.75828297 0.8610355  0.65070494\n",
      " 0.52334917 0.81449431 0.48971778 0.58664193 0.90504694 0.55034152\n",
      " 0.82042245 0.77266054 0.062801   0.0351812  0.62595792 0.28955605\n",
      " 0.24191545 0.81186333 0.279517   0.69839216 0.48808428 0.54338431]\n",
      "0.5682767562659946\n"
     ]
    }
   ],
   "source": [
    "m = np.random.rand(30)\n",
    "print(m)\n",
    "\n",
    "media = np.mean(m)\n",
    "print(media)"
   ]
  },
  {
   "cell_type": "markdown",
   "metadata": {},
   "source": [
    "## Ejercicio 16\n",
    "Crea un array cuadrado de 2D, con las dimensiones que quiras, pero que todo el borde esté compuesto por 1s, y el interior por 0s"
   ]
  },
  {
   "cell_type": "code",
   "execution_count": 196,
   "metadata": {},
   "outputs": [
    {
     "name": "stdout",
     "output_type": "stream",
     "text": [
      "[[1. 1. 1. 1. 1.]\n",
      " [1. 1. 1. 1. 1.]\n",
      " [1. 1. 1. 1. 1.]\n",
      " [1. 1. 1. 1. 1.]\n",
      " [1. 1. 1. 1. 1.]]\n"
     ]
    }
   ],
   "source": [
    "a = np.full((5,5), 1.)\n",
    "\n",
    "print(a)"
   ]
  },
  {
   "cell_type": "code",
   "execution_count": 213,
   "metadata": {},
   "outputs": [
    {
     "name": "stdout",
     "output_type": "stream",
     "text": [
      "[[1. 1. 1. 1. 1.]\n",
      " [1. 0. 0. 0. 1.]\n",
      " [1. 0. 0. 0. 1.]\n",
      " [1. 0. 0. 0. 1.]\n",
      " [1. 1. 1. 1. 1.]]\n"
     ]
    }
   ],
   "source": [
    "a= np.zeros((5,5))\n",
    "\n",
    "a[0, :] = 1.\n",
    "a[-1, :] = 1.\n",
    "a[:, 0] = 1.\n",
    "a[:, -1] = 1.\n",
    "\n",
    "print(a)\n",
    "\n",
    "\n"
   ]
  },
  {
   "cell_type": "markdown",
   "metadata": {},
   "source": [
    "## Ejercicio 17\n",
    "Crea una mtriz de 8x8, y rellénala con 0s y 1s. Tienes que replicar:\n",
    "```Python\n",
    "[[0 1 0 1 0 1 0 1]\n",
    " [1 0 1 0 1 0 1 0]\n",
    " [0 1 0 1 0 1 0 1]\n",
    " [1 0 1 0 1 0 1 0]\n",
    " [0 1 0 1 0 1 0 1]\n",
    " [1 0 1 0 1 0 1 0]\n",
    " [0 1 0 1 0 1 0 1]\n",
    " [1 0 1 0 1 0 1 0]]\n",
    "```"
   ]
  },
  {
   "cell_type": "code",
   "execution_count": 242,
   "metadata": {},
   "outputs": [
    {
     "name": "stdout",
     "output_type": "stream",
     "text": [
      "[[0 1 0 1 0 1 0 1]\n",
      " [1 0 1 0 1 0 1 0]\n",
      " [0 1 0 1 0 1 0 1]\n",
      " [1 0 1 0 1 0 1 0]\n",
      " [0 1 0 1 0 1 0 1]\n",
      " [1 0 1 0 1 0 1 0]\n",
      " [0 1 0 1 0 1 0 1]\n",
      " [1 0 1 0 1 0 1 0]]\n"
     ]
    }
   ],
   "source": [
    "a = np.zeros((8,8), np.int32)\n",
    "\n",
    "a[1::2, ::2] = 1\n",
    "a[::2, 1::2] = 1\n",
    "print(a)"
   ]
  },
  {
   "cell_type": "code",
   "execution_count": 243,
   "metadata": {},
   "outputs": [
    {
     "name": "stdout",
     "output_type": "stream",
     "text": [
      "[[0 1 0 1 0 1 0 1]\n",
      " [0 1 0 1 0 1 0 1]\n",
      " [0 1 0 1 0 1 0 1]\n",
      " [0 1 0 1 0 1 0 1]\n",
      " [0 1 0 1 0 1 0 1]\n",
      " [0 1 0 1 0 1 0 1]\n",
      " [0 1 0 1 0 1 0 1]\n",
      " [0 1 0 1 0 1 0 1]]\n"
     ]
    }
   ],
   "source": [
    "m_copy = m.copy()\n",
    "\n",
    "print(m_copy)"
   ]
  },
  {
   "cell_type": "markdown",
   "metadata": {},
   "source": [
    "## Ejercicio 18\n",
    "Replica la matriz del apartado anterior, pero en este caso usando [la función `tile`](https://numpy.org/doc/stable/reference/generated/numpy.tile.html)"
   ]
  },
  {
   "cell_type": "code",
   "execution_count": 244,
   "metadata": {},
   "outputs": [
    {
     "name": "stdout",
     "output_type": "stream",
     "text": [
      "[[0 1 0 1 0 1 0 1]\n",
      " [0 1 0 1 0 1 0 1]\n",
      " [0 1 0 1 0 1 0 1]\n",
      " [0 1 0 1 0 1 0 1]\n",
      " [0 1 0 1 0 1 0 1]\n",
      " [0 1 0 1 0 1 0 1]\n",
      " [0 1 0 1 0 1 0 1]\n",
      " [0 1 0 1 0 1 0 1]]\n"
     ]
    }
   ],
   "source": [
    "a = np.array([0, 1])\n",
    "\n",
    "m= np.tile(a, (8,4))\n",
    "\n",
    "print(m)"
   ]
  },
  {
   "cell_type": "markdown",
   "metadata": {},
   "source": [
    "## Ejercicio 19\n",
    "Crea una matriz aleatoria de 5x5 y normaliza sus valores. Para normalizar tienes que restar sus valores por la media(`np.mean`) y dividir el resultado por la desviación estándar(`np.std`)."
   ]
  },
  {
   "cell_type": "code",
   "execution_count": 270,
   "metadata": {},
   "outputs": [
    {
     "name": "stdout",
     "output_type": "stream",
     "text": [
      "[[0.54467734 0.14624509 0.75054356 0.75635158 0.46302655]\n",
      " [0.39493806 0.47904134 0.57964404 0.29389347 0.7573645 ]\n",
      " [0.9153777  0.46221047 0.86528602 0.15549977 0.89427479]\n",
      " [0.2826887  0.7353058  0.99531741 0.27039524 0.91418059]\n",
      " [0.55999854 0.02398419 0.12661049 0.83111095 0.42398055]]\n"
     ]
    }
   ],
   "source": [
    "m = np.random.rand(5,5)\n",
    "print(m)"
   ]
  },
  {
   "cell_type": "code",
   "execution_count": 271,
   "metadata": {},
   "outputs": [
    {
     "name": "stdout",
     "output_type": "stream",
     "text": [
      "Valores de la media:  0.5448778698663421\n",
      "Desviacion estandar:  0.2808511323691407\n"
     ]
    }
   ],
   "source": [
    "print(\"Valores de la media: \", m.mean())\n",
    "print(\"Desviacion estandar: \", m.std())"
   ]
  },
  {
   "cell_type": "markdown",
   "metadata": {},
   "source": [
    "## Ejercicio 20\n",
    "1. Crea una secuencia de números que vayan del 0 al 10.\n",
    "2. Crea un nuevo array, que parta del anterior, pero sustituya por el valor -1, todos los elementos cuyo valor se encuentre entre el 3 y el 8.\n",
    "3. Crea un nuevo array que niegue todos los elementos entre el 3 y el 8"
   ]
  },
  {
   "cell_type": "code",
   "execution_count": 286,
   "metadata": {},
   "outputs": [
    {
     "name": "stdout",
     "output_type": "stream",
     "text": [
      "[ 1  2  3  4  5  6  7  8  9 10]\n",
      "[ 1  2  3 -1 -1 -1 -1 -1  9 10]\n"
     ]
    }
   ],
   "source": [
    "a = np.arange(1,11)\n",
    "print(a)\n",
    "\n",
    "a[3:8] = -1\n",
    "\n",
    "print(a)\n"
   ]
  },
  {
   "cell_type": "code",
   "execution_count": 287,
   "metadata": {},
   "outputs": [
    {
     "name": "stdout",
     "output_type": "stream",
     "text": [
      "[ 1  2  3 -4 -5 -6 -7 -8  9 10]\n"
     ]
    }
   ],
   "source": [
    "a = np.arange(1,11)\n",
    "a[3:8] = -a[3:8]\n",
    "\n",
    "print(a)"
   ]
  },
  {
   "cell_type": "markdown",
   "metadata": {},
   "source": [
    "## Ejercicio 21\n",
    "#### Bonus track. Mini hundir la flota\n",
    "1. Crea un tablero de 10x10 relleno del carácter espacio ( ).\n",
    "2. Posiciona un par de barcos en [(0,1), (1,1)] y [(1,3), (1,4), (1,5), (1,6)]. Los barcos serán Os mayúsculas. Como ves, un barco de dos posiciones de eslora y otro de cuatro.\n",
    "3. Recibe un disparo en uno de los barcos, sustituyendo la O por una X\n",
    "4. Recibe un disparo en agua, sustituyendo uno de los espacios por un guión: -\n",
    "5. Ignorando los disparos recibidos, ahora prueba a posicionar otro barco de 4 posiciones dentro del tablero, pero **de manera ALEATORIA.**\n",
    "\n",
    "**TIP apartado 5**: El barco tendrá una posición inicial aleatoria dentro del tablero, y una orientación también aleatoria (N,S,E,O).\n",
    "\n",
    "Por ejemplo, si tu posicion inicial fuese (5,0) y la orientación O, no podrias ponerlo porque se sale del tablero. Ahora bien, si fuese orientación este, si podrías, y ocuparía las posiciones [(5,0), (5,1), (5,2), (5,3)]. Por tanto tendrás que iterar con un bucle si es posible encajar el barco en el tablero, y el bucle terminará cuando lo consigas encajar. **Ojo con las posiciones donde ya hay barco!!!**\n",
    "\n",
    "Usa `import random` para elegir las coordenadas aleatorias."
   ]
  },
  {
   "cell_type": "code",
   "execution_count": 4,
   "metadata": {},
   "outputs": [
    {
     "name": "stdout",
     "output_type": "stream",
     "text": [
      "[[' ' ' ' ' ' ' ' ' ' ' ' ' ' ' ' ' ' ' ']\n",
      " [' ' ' ' ' ' ' ' ' ' ' ' ' ' ' ' ' ' ' ']\n",
      " [' ' ' ' ' ' ' ' ' ' ' ' ' ' ' ' ' ' ' ']\n",
      " [' ' ' ' ' ' ' ' ' ' ' ' ' ' ' ' ' ' ' ']\n",
      " [' ' ' ' ' ' ' ' ' ' ' ' ' ' ' ' ' ' ' ']\n",
      " [' ' ' ' ' ' ' ' ' ' ' ' ' ' ' ' ' ' ' ']\n",
      " [' ' ' ' ' ' ' ' ' ' ' ' ' ' ' ' ' ' ' ']\n",
      " [' ' ' ' ' ' ' ' ' ' ' ' ' ' ' ' ' ' ' ']\n",
      " [' ' ' ' ' ' ' ' ' ' ' ' ' ' ' ' ' ' ' ']\n",
      " [' ' ' ' ' ' ' ' ' ' ' ' ' ' ' ' ' ' ' ']]\n"
     ]
    }
   ],
   "source": [
    "tablero = np.full((10,10), ' ')\n",
    "print(tablero)"
   ]
  },
  {
   "cell_type": "code",
   "execution_count": 5,
   "metadata": {},
   "outputs": [
    {
     "name": "stdout",
     "output_type": "stream",
     "text": [
      "[[' ' 'O' ' ' ' ' ' ' ' ' ' ' ' ' ' ' ' ']\n",
      " [' ' 'O' ' ' ' ' ' ' ' ' ' ' ' ' ' ' ' ']\n",
      " [' ' ' ' ' ' ' ' ' ' ' ' ' ' ' ' ' ' ' ']\n",
      " [' ' ' ' ' ' ' ' 'O' ' ' ' ' ' ' ' ' ' ']\n",
      " [' ' ' ' ' ' ' ' ' ' ' ' ' ' ' ' ' ' ' ']\n",
      " [' ' ' ' ' ' ' ' ' ' ' ' ' ' ' ' ' ' ' ']\n",
      " [' ' ' ' ' ' ' ' ' ' ' ' ' ' ' ' ' ' ' ']\n",
      " [' ' ' ' ' ' ' ' ' ' ' ' ' ' ' ' ' ' ' ']\n",
      " [' ' ' ' ' ' ' ' ' ' ' ' ' ' ' ' ' ' ' ']\n",
      " [' ' ' ' ' ' ' ' ' ' ' ' ' ' ' ' ' ' ' ']]\n"
     ]
    }
   ],
   "source": [
    "tablero[(0,1), (1,1)] = \"O\"\n",
    "tablero[(1,3),(1,4)] = \"O\"\n",
    "print(tablero)"
   ]
  },
  {
   "cell_type": "code",
   "execution_count": 6,
   "metadata": {},
   "outputs": [
    {
     "name": "stdout",
     "output_type": "stream",
     "text": [
      "[[' ' 'O' ' ' ' ' ' ' ' ' ' ' ' ' ' ' ' ']\n",
      " [' ' 'O' ' ' ' ' 'O' ' ' ' ' ' ' ' ' ' ']\n",
      " [' ' ' ' ' ' ' ' 'O' ' ' ' ' ' ' ' ' ' ']\n",
      " [' ' ' ' ' ' ' ' 'O' ' ' ' ' ' ' ' ' ' ']\n",
      " [' ' ' ' ' ' ' ' ' ' ' ' ' ' ' ' ' ' ' ']\n",
      " [' ' ' ' ' ' ' ' ' ' ' ' ' ' ' ' ' ' ' ']\n",
      " [' ' ' ' ' ' ' ' ' ' ' ' ' ' ' ' ' ' ' ']\n",
      " [' ' ' ' ' ' ' ' ' ' ' ' ' ' ' ' ' ' ' ']\n",
      " [' ' ' ' ' ' ' ' ' ' ' ' ' ' ' ' ' ' ' ']\n",
      " [' ' ' ' ' ' ' ' ' ' ' ' ' ' ' ' ' ' ' ']]\n"
     ]
    }
   ],
   "source": [
    "tablero[(1,2),(1,4)]= \"O\"\n",
    "tablero[(1,1),(1,4)]= \"O\"\n",
    "print(tablero)"
   ]
  },
  {
   "cell_type": "code",
   "execution_count": 7,
   "metadata": {},
   "outputs": [
    {
     "name": "stdout",
     "output_type": "stream",
     "text": [
      "[[' ' 'O' ' ' ' ' ' ' ' ' ' ' ' ' ' ' ' ']\n",
      " [' ' 'O' ' ' ' ' 'O' ' ' ' ' ' ' ' ' ' ']\n",
      " [' ' ' ' ' ' ' ' 'O' ' ' ' ' ' ' ' ' ' ']\n",
      " [' ' ' ' ' ' ' ' 'O' ' ' ' ' ' ' ' ' ' ']\n",
      " [' ' ' ' ' ' ' ' ' ' ' ' ' ' ' ' ' ' ' ']\n",
      " [' ' ' ' ' ' ' ' ' ' ' ' ' ' ' ' ' ' ' ']\n",
      " [' ' ' ' ' ' ' ' ' ' 'O' 'O' 'O' ' ' ' ']\n",
      " [' ' ' ' ' ' ' ' ' ' ' ' ' ' ' ' ' ' ' ']\n",
      " [' ' ' ' ' ' ' ' ' ' ' ' ' ' ' ' ' ' ' ']\n",
      " [' ' ' ' ' ' ' ' ' ' ' ' ' ' ' ' ' ' ' ']]\n"
     ]
    }
   ],
   "source": [
    "tablero[(1,6), (1,7)]= \"O\"\n",
    "tablero[(1,6),(1,6)]= \"O\"\n",
    "tablero[(1,6),(1,5)]= \"O\"\n",
    "print(tablero)"
   ]
  },
  {
   "cell_type": "code",
   "execution_count": 8,
   "metadata": {},
   "outputs": [
    {
     "name": "stdout",
     "output_type": "stream",
     "text": [
      "[[' ' 'O' ' ' ' ' ' ' ' ' ' ' ' ' ' ' ' ']\n",
      " [' ' 'X' ' ' ' ' 'O' ' ' ' ' ' ' ' ' ' ']\n",
      " [' ' ' ' ' ' ' ' 'X' ' ' ' ' ' ' ' ' ' ']\n",
      " [' ' ' ' ' ' ' ' 'O' ' ' ' ' ' ' ' ' ' ']\n",
      " [' ' ' ' ' ' ' ' ' ' ' ' ' ' ' ' ' ' ' ']\n",
      " [' ' ' ' ' ' ' ' ' ' ' ' ' ' ' ' ' ' ' ']\n",
      " [' ' ' ' ' ' ' ' ' ' 'O' 'O' 'O' ' ' ' ']\n",
      " [' ' ' ' ' ' ' ' ' ' ' ' ' ' ' ' ' ' ' ']\n",
      " [' ' ' ' ' ' ' ' ' ' ' ' ' ' ' ' ' ' ' ']\n",
      " [' ' ' ' ' ' ' ' ' ' ' ' ' ' ' ' ' ' ' ']]\n"
     ]
    }
   ],
   "source": [
    "tablero[(1,2),(1,4)]= \"X\"\n",
    "print(tablero)"
   ]
  },
  {
   "cell_type": "code",
   "execution_count": 9,
   "metadata": {},
   "outputs": [
    {
     "name": "stdout",
     "output_type": "stream",
     "text": [
      "[[' ' 'O' ' ' ' ' ' ' ' ' ' ' ' ' ' ' ' ']\n",
      " [' ' '-' ' ' ' ' 'O' ' ' ' ' ' ' ' ' ' ']\n",
      " [' ' ' ' ' ' ' ' 'X' ' ' ' ' ' ' ' ' ' ']\n",
      " [' ' ' ' ' ' ' ' 'O' ' ' ' ' ' ' ' ' ' ']\n",
      " [' ' ' ' ' ' ' ' ' ' ' ' ' ' ' ' ' ' ' ']\n",
      " [' ' ' ' ' ' ' ' ' ' ' ' ' ' ' ' ' ' ' ']\n",
      " [' ' ' ' ' ' ' ' ' ' 'O' 'O' 'O' ' ' ' ']\n",
      " [' ' ' ' ' ' ' ' ' ' ' ' ' ' ' ' ' ' ' ']\n",
      " [' ' ' ' ' ' ' ' ' ' '-' ' ' ' ' ' ' ' ']\n",
      " [' ' ' ' ' ' ' ' ' ' ' ' ' ' ' ' ' ' ' ']]\n"
     ]
    }
   ],
   "source": [
    "tablero[(1,8),(1,5)]= \"-\"\n",
    "print(tablero)"
   ]
  },
  {
   "cell_type": "code",
   "execution_count": 10,
   "metadata": {},
   "outputs": [
    {
     "name": "stdout",
     "output_type": "stream",
     "text": [
      "[[' ' 'O' ' ' ' ' ' ' ' ' ' ' ' ' ' ' ' ']\n",
      " [' ' '-' ' ' 'O' 'O' ' ' ' ' ' ' ' ' ' ']\n",
      " [' ' ' ' ' ' 'O' 'X' ' ' ' ' ' ' ' ' ' ']\n",
      " [' ' ' ' ' ' 'O' 'O' ' ' ' ' ' ' ' ' ' ']\n",
      " [' ' ' ' ' ' 'O' ' ' ' ' ' ' ' ' ' ' ' ']\n",
      " [' ' ' ' ' ' ' ' ' ' ' ' ' ' ' ' ' ' ' ']\n",
      " [' ' ' ' ' ' ' ' ' ' 'O' 'O' 'O' ' ' ' ']\n",
      " [' ' ' ' ' ' ' ' ' ' ' ' ' ' ' ' ' ' ' ']\n",
      " [' ' ' ' ' ' ' ' ' ' '-' ' ' ' ' ' ' ' ']\n",
      " [' ' ' ' ' ' ' ' ' ' ' ' ' ' ' ' ' ' ' ']]\n"
     ]
    }
   ],
   "source": [
    "fila = np.random.randint(0, 7)\n",
    "columna = np.random.randint(0, 7)\n",
    "tablero[fila:fila+4, columna:columna+1] = \"O\"\n",
    "print(tablero)"
   ]
  }
 ],
 "metadata": {
  "interpreter": {
   "hash": "7c77fdb427e7cbc9bc1367dd530fc2b36aacdbbde1ac83c85833b10dfa8b831c"
  },
  "kernelspec": {
   "display_name": "Python 3.7.4 64-bit",
   "name": "python3"
  },
  "language_info": {
   "codemirror_mode": {
    "name": "ipython",
    "version": 3
   },
   "file_extension": ".py",
   "mimetype": "text/x-python",
   "name": "python",
   "nbconvert_exporter": "python",
   "pygments_lexer": "ipython3",
   "version": "3.11.3"
  }
 },
 "nbformat": 4,
 "nbformat_minor": 4
}
