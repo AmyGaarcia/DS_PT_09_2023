{
 "cells": [
  {
   "attachments": {},
   "cell_type": "markdown",
   "metadata": {},
   "source": [
    "![marvel](https://www.emp-online.es/dw/image/v2/BBQV_PRD/on/demandware.static/-/Library-Sites-EMPSharedLibrary/default/dwe169dcbd/100151_MT_Marvel.jpg?sw=350)"
   ]
  },
  {
   "attachments": {},
   "cell_type": "markdown",
   "metadata": {},
   "source": [
    "Para esta practica vamos a utilizar la api de [`Marvel`](developer.marvel.com)"
   ]
  },
  {
   "attachments": {},
   "cell_type": "markdown",
   "metadata": {},
   "source": [
    "Primero, necesitarás una clave API de Marvel, que puedes obtener registrándote en https://developer.marvel.com/"
   ]
  },
  {
   "attachments": {},
   "cell_type": "markdown",
   "metadata": {},
   "source": [
    "La practica consiste en crear un DataFrame de los personajes"
   ]
  },
  {
   "attachments": {},
   "cell_type": "markdown",
   "metadata": {},
   "source": [
    "Necesitamos que el DataFrame tenga la siguiente informacion:\n",
    "1. id\n",
    "2. nombre\n",
    "3. url imagen\n",
    "4. comics donde aparece\n",
    "5. creador\n"
   ]
  },
  {
   "attachments": {},
   "cell_type": "markdown",
   "metadata": {},
   "source": [
    "## **Librerias**"
   ]
  },
  {
   "cell_type": "code",
   "execution_count": 31,
   "metadata": {},
   "outputs": [],
   "source": [
    "import requests\n",
    "import pandas as pd\n",
    "import hashlib\n",
    "import datetime"
   ]
  },
  {
   "attachments": {},
   "cell_type": "markdown",
   "metadata": {},
   "source": [
    "## **Crear DataFrame** atacando la `API`"
   ]
  },
  {
   "cell_type": "code",
   "execution_count": 32,
   "metadata": {},
   "outputs": [],
   "source": [
    "def hash_params(timestamp,priv_key,pub_key):\n",
    "    hash_md5 =hashlib.md5()\n",
    "    hash_md5.update(f\"{timestamp}{priv_key}{pub_key}\".encode(\"utf-8\"))\n",
    "    hashed_params = hash_md5.hexdigest()\n",
    "\n",
    "    return hashed_params"
   ]
  },
  {
   "cell_type": "code",
   "execution_count": 33,
   "metadata": {},
   "outputs": [],
   "source": [
    "timestamp= datetime.datetime.now().strftime(\"%Y-%m-%d %H:%M:%S\")\n",
    "pub_key = \"5d60cde0a07bf2f83ab0de2f238e4330\"\n",
    "priv_key = \"1c103fc6b67c4a8267ce0b89ff5d5ff9822d6992\"\n",
    "params= {\"limit\": 100,\n",
    "          \"nameStartsWith\": \"A\",\n",
    "          \"ts\": timestamp,\n",
    "          \"apikey\": pub_key,\n",
    "          \"hash\": hash_params(timestamp,priv_key,pub_key)};"
   ]
  },
  {
   "cell_type": "code",
   "execution_count": 34,
   "metadata": {},
   "outputs": [],
   "source": [
    "url= \"http://gateway.marvel.com/v1/public/characters\"\n",
    "\n",
    "res= requests.get(url,params=params)"
   ]
  },
  {
   "cell_type": "code",
   "execution_count": 35,
   "metadata": {},
   "outputs": [],
   "source": [
    "data = res.json()"
   ]
  },
  {
   "cell_type": "code",
   "execution_count": 36,
   "metadata": {},
   "outputs": [],
   "source": [
    "marvel= pd.DataFrame(data.get(\"data\",{}).get(\"results\",[]))"
   ]
  },
  {
   "cell_type": "code",
   "execution_count": 37,
   "metadata": {},
   "outputs": [],
   "source": [
    "columnas = [\"id\",\"name\", \"thumbnail\",\"comics\"]\n",
    "marvel= marvel[columnas]"
   ]
  },
  {
   "cell_type": "code",
   "execution_count": 38,
   "metadata": {},
   "outputs": [],
   "source": [
    "marvel[\"comics\"] =marvel[\"comics\"].apply(lambda x:[comic[\"name\"] for comic in x[\"items\"]])"
   ]
  },
  {
   "cell_type": "code",
   "execution_count": 29,
   "metadata": {},
   "outputs": [],
   "source": []
  },
  {
   "cell_type": "code",
   "execution_count": 39,
   "metadata": {},
   "outputs": [
    {
     "data": {
      "text/html": [
       "<div>\n",
       "<style scoped>\n",
       "    .dataframe tbody tr th:only-of-type {\n",
       "        vertical-align: middle;\n",
       "    }\n",
       "\n",
       "    .dataframe tbody tr th {\n",
       "        vertical-align: top;\n",
       "    }\n",
       "\n",
       "    .dataframe thead th {\n",
       "        text-align: right;\n",
       "    }\n",
       "</style>\n",
       "<table border=\"1\" class=\"dataframe\">\n",
       "  <thead>\n",
       "    <tr style=\"text-align: right;\">\n",
       "      <th></th>\n",
       "      <th>id</th>\n",
       "      <th>name</th>\n",
       "      <th>thumbnail</th>\n",
       "      <th>comics</th>\n",
       "    </tr>\n",
       "  </thead>\n",
       "  <tbody>\n",
       "    <tr>\n",
       "      <th>0</th>\n",
       "      <td>1017100</td>\n",
       "      <td>A-Bomb (HAS)</td>\n",
       "      <td>{'path': 'http://i.annihil.us/u/prod/marvel/i/...</td>\n",
       "      <td>[FREE COMIC BOOK DAY 2013 1 (2013) #1, Hulk (2...</td>\n",
       "    </tr>\n",
       "    <tr>\n",
       "      <th>1</th>\n",
       "      <td>1009144</td>\n",
       "      <td>A.I.M.</td>\n",
       "      <td>{'path': 'http://i.annihil.us/u/prod/marvel/i/...</td>\n",
       "      <td>[Ant-Man &amp; the Wasp (2010) #3, Avengers (1998)...</td>\n",
       "    </tr>\n",
       "    <tr>\n",
       "      <th>2</th>\n",
       "      <td>1010699</td>\n",
       "      <td>Aaron Stack</td>\n",
       "      <td>{'path': 'http://i.annihil.us/u/prod/marvel/i/...</td>\n",
       "      <td>[Dark Avengers (2012) #177, Dark Avengers (201...</td>\n",
       "    </tr>\n",
       "    <tr>\n",
       "      <th>3</th>\n",
       "      <td>1009146</td>\n",
       "      <td>Abomination (Emil Blonsky)</td>\n",
       "      <td>{'path': 'http://i.annihil.us/u/prod/marvel/i/...</td>\n",
       "      <td>[Abominations (1996) #1, Abominations (1996) #...</td>\n",
       "    </tr>\n",
       "    <tr>\n",
       "      <th>4</th>\n",
       "      <td>1016823</td>\n",
       "      <td>Abomination (Ultimate)</td>\n",
       "      <td>{'path': 'http://i.annihil.us/u/prod/marvel/i/...</td>\n",
       "      <td>[Hulk (2008) #50, Ultimate X-Men (2001) #26]</td>\n",
       "    </tr>\n",
       "    <tr>\n",
       "      <th>...</th>\n",
       "      <td>...</td>\n",
       "      <td>...</td>\n",
       "      <td>...</td>\n",
       "      <td>...</td>\n",
       "    </tr>\n",
       "    <tr>\n",
       "      <th>79</th>\n",
       "      <td>1009163</td>\n",
       "      <td>Aurora</td>\n",
       "      <td>{'path': 'http://i.annihil.us/u/prod/marvel/i/...</td>\n",
       "      <td>[Age of Apocalypse: The Chosen (1995) #1, Alph...</td>\n",
       "    </tr>\n",
       "    <tr>\n",
       "      <th>80</th>\n",
       "      <td>1009164</td>\n",
       "      <td>Avalanche</td>\n",
       "      <td>{'path': 'http://i.annihil.us/u/prod/marvel/i/...</td>\n",
       "      <td>[Age of X: Alpha (2010) #1, Avengers Annual (1...</td>\n",
       "    </tr>\n",
       "    <tr>\n",
       "      <th>81</th>\n",
       "      <td>1009165</td>\n",
       "      <td>Avengers</td>\n",
       "      <td>{'path': 'http://i.annihil.us/u/prod/marvel/i/...</td>\n",
       "      <td>[A.X.E.: Avengers (2022) #1, A.X.E.: Eve Of Ju...</td>\n",
       "    </tr>\n",
       "    <tr>\n",
       "      <th>82</th>\n",
       "      <td>1015239</td>\n",
       "      <td>Avengers (Ultimate)</td>\n",
       "      <td>{'path': 'http://i.annihil.us/u/prod/marvel/i/...</td>\n",
       "      <td>[THE ULTIMATES MGC 1 (2011) #1, Ultimate Aveng...</td>\n",
       "    </tr>\n",
       "    <tr>\n",
       "      <th>83</th>\n",
       "      <td>1011766</td>\n",
       "      <td>Azazel (Mutant)</td>\n",
       "      <td>{'path': 'http://i.annihil.us/u/prod/marvel/i/...</td>\n",
       "      <td>[Dark X-Men (2023) #1, Dark X-Men (2023) #4, D...</td>\n",
       "    </tr>\n",
       "  </tbody>\n",
       "</table>\n",
       "<p>84 rows × 4 columns</p>\n",
       "</div>"
      ],
      "text/plain": [
       "         id                        name  \\\n",
       "0   1017100                A-Bomb (HAS)   \n",
       "1   1009144                      A.I.M.   \n",
       "2   1010699                 Aaron Stack   \n",
       "3   1009146  Abomination (Emil Blonsky)   \n",
       "4   1016823      Abomination (Ultimate)   \n",
       "..      ...                         ...   \n",
       "79  1009163                      Aurora   \n",
       "80  1009164                   Avalanche   \n",
       "81  1009165                    Avengers   \n",
       "82  1015239         Avengers (Ultimate)   \n",
       "83  1011766             Azazel (Mutant)   \n",
       "\n",
       "                                            thumbnail  \\\n",
       "0   {'path': 'http://i.annihil.us/u/prod/marvel/i/...   \n",
       "1   {'path': 'http://i.annihil.us/u/prod/marvel/i/...   \n",
       "2   {'path': 'http://i.annihil.us/u/prod/marvel/i/...   \n",
       "3   {'path': 'http://i.annihil.us/u/prod/marvel/i/...   \n",
       "4   {'path': 'http://i.annihil.us/u/prod/marvel/i/...   \n",
       "..                                                ...   \n",
       "79  {'path': 'http://i.annihil.us/u/prod/marvel/i/...   \n",
       "80  {'path': 'http://i.annihil.us/u/prod/marvel/i/...   \n",
       "81  {'path': 'http://i.annihil.us/u/prod/marvel/i/...   \n",
       "82  {'path': 'http://i.annihil.us/u/prod/marvel/i/...   \n",
       "83  {'path': 'http://i.annihil.us/u/prod/marvel/i/...   \n",
       "\n",
       "                                               comics  \n",
       "0   [FREE COMIC BOOK DAY 2013 1 (2013) #1, Hulk (2...  \n",
       "1   [Ant-Man & the Wasp (2010) #3, Avengers (1998)...  \n",
       "2   [Dark Avengers (2012) #177, Dark Avengers (201...  \n",
       "3   [Abominations (1996) #1, Abominations (1996) #...  \n",
       "4        [Hulk (2008) #50, Ultimate X-Men (2001) #26]  \n",
       "..                                                ...  \n",
       "79  [Age of Apocalypse: The Chosen (1995) #1, Alph...  \n",
       "80  [Age of X: Alpha (2010) #1, Avengers Annual (1...  \n",
       "81  [A.X.E.: Avengers (2022) #1, A.X.E.: Eve Of Ju...  \n",
       "82  [THE ULTIMATES MGC 1 (2011) #1, Ultimate Aveng...  \n",
       "83  [Dark X-Men (2023) #1, Dark X-Men (2023) #4, D...  \n",
       "\n",
       "[84 rows x 4 columns]"
      ]
     },
     "execution_count": 39,
     "metadata": {},
     "output_type": "execute_result"
    }
   ],
   "source": [
    "marvel\n",
    "# No se si tiene que salir asi thumbnail y comics. creator no lo he puesto por que me daba error."
   ]
  }
 ],
 "metadata": {
  "kernelspec": {
   "display_name": ".venv",
   "language": "python",
   "name": "python3"
  },
  "language_info": {
   "codemirror_mode": {
    "name": "ipython",
    "version": 3
   },
   "file_extension": ".py",
   "mimetype": "text/x-python",
   "name": "python",
   "nbconvert_exporter": "python",
   "pygments_lexer": "ipython3",
   "version": "3.11.3"
  },
  "orig_nbformat": 4
 },
 "nbformat": 4,
 "nbformat_minor": 2
}
