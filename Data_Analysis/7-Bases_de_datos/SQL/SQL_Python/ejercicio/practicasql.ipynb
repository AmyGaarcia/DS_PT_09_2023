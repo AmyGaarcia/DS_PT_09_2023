{
 "cells": [
  {
   "cell_type": "markdown",
   "metadata": {},
   "source": [
    "# Librerias"
   ]
  },
  {
   "cell_type": "code",
   "execution_count": 26,
   "metadata": {},
   "outputs": [],
   "source": [
    "import pandas as pd\n",
    "import sqlite3"
   ]
  },
  {
   "cell_type": "markdown",
   "metadata": {},
   "source": [
    "## Instancia de BBDD"
   ]
  },
  {
   "cell_type": "code",
   "execution_count": 27,
   "metadata": {},
   "outputs": [],
   "source": [
    "# Conectamos con la base de datos chinook.db\n",
    "connection = sqlite3.connect(\"data/bartb.db\")\n",
    "\n",
    "# Obtenemos un cursor que utilizaremos para hacer las queries\n",
    "crsr = connection.cursor()"
   ]
  },
  {
   "cell_type": "markdown",
   "metadata": {},
   "source": [
    "### FUNCION PARA INTERACTUAR CON LA BASE DE DATOS"
   ]
  },
  {
   "cell_type": "code",
   "execution_count": 28,
   "metadata": {},
   "outputs": [],
   "source": [
    "# Con esta función leemos los datos y lo pasamos a un DataFrame de Pandas\n",
    "def sql_query(query):\n",
    "\n",
    "    # Ejecuta la query\n",
    "    crsr.execute(query)\n",
    "\n",
    "    # Almacena los datos de la query \n",
    "    ans = crsr.fetchall()\n",
    "\n",
    "    # Obtenemos los nombres de las columnas de la tabla\n",
    "    names = [description[0] for description in crsr.description]\n",
    "\n",
    "    return pd.DataFrame(ans,columns=names)"
   ]
  },
  {
   "cell_type": "markdown",
   "metadata": {},
   "source": [
    "## Crear las tablas"
   ]
  },
  {
   "cell_type": "code",
   "execution_count": 29,
   "metadata": {},
   "outputs": [],
   "source": [
    "res = crsr.execute(\"SELECT name FROM sqlite_master WHERE type='table'\")\n",
    "for name in res:\n",
    "    print(name[0])"
   ]
  },
  {
   "cell_type": "markdown",
   "metadata": {},
   "source": [
    "### Tabla cerveza"
   ]
  },
  {
   "cell_type": "code",
   "execution_count": 25,
   "metadata": {},
   "outputs": [
    {
     "ename": "OperationalError",
     "evalue": "near \")\": syntax error",
     "output_type": "error",
     "traceback": [
      "\u001b[1;31m---------------------------------------------------------------------------\u001b[0m",
      "\u001b[1;31mOperationalError\u001b[0m                          Traceback (most recent call last)",
      "\u001b[1;32mc:\\Users\\Amy\\OneDrive\\Escritorio\\The bridge\\septiembre\\Repositorio-sep\\DS_PT_09_2023- Amy\\DS_PT_09_2023\\Data_Analysis\\7-Bases_de_datos\\SQL\\SQL_Python\\ejercicio\\practicasql.ipynb Cell 11\u001b[0m line \u001b[0;36m1\n\u001b[0;32m      <a href='vscode-notebook-cell:/c%3A/Users/Amy/OneDrive/Escritorio/The%20bridge/septiembre/Repositorio-sep/DS_PT_09_2023-%20Amy/DS_PT_09_2023/Data_Analysis/7-Bases_de_datos/SQL/SQL_Python/ejercicio/practicasql.ipynb#X15sZmlsZQ%3D%3D?line=0'>1</a>\u001b[0m query_cerveza \u001b[39m=\u001b[39m \u001b[39m\"\"\"\u001b[39m\n\u001b[0;32m      <a href='vscode-notebook-cell:/c%3A/Users/Amy/OneDrive/Escritorio/The%20bridge/septiembre/Repositorio-sep/DS_PT_09_2023-%20Amy/DS_PT_09_2023/Data_Analysis/7-Bases_de_datos/SQL/SQL_Python/ejercicio/practicasql.ipynb#X15sZmlsZQ%3D%3D?line=1'>2</a>\u001b[0m \u001b[39mCREATE TABLE cerveza(\u001b[39m\n\u001b[0;32m      <a href='vscode-notebook-cell:/c%3A/Users/Amy/OneDrive/Escritorio/The%20bridge/septiembre/Repositorio-sep/DS_PT_09_2023-%20Amy/DS_PT_09_2023/Data_Analysis/7-Bases_de_datos/SQL/SQL_Python/ejercicio/practicasql.ipynb#X15sZmlsZQ%3D%3D?line=2'>3</a>\u001b[0m \u001b[39mCodC VARCHAR(3),\u001b[39m\n\u001b[1;32m   (...)\u001b[0m\n\u001b[0;32m      <a href='vscode-notebook-cell:/c%3A/Users/Amy/OneDrive/Escritorio/The%20bridge/septiembre/Repositorio-sep/DS_PT_09_2023-%20Amy/DS_PT_09_2023/Data_Analysis/7-Bases_de_datos/SQL/SQL_Python/ejercicio/practicasql.ipynb#X15sZmlsZQ%3D%3D?line=6'>7</a>\u001b[0m \u001b[39m)\u001b[39m\n\u001b[0;32m      <a href='vscode-notebook-cell:/c%3A/Users/Amy/OneDrive/Escritorio/The%20bridge/septiembre/Repositorio-sep/DS_PT_09_2023-%20Amy/DS_PT_09_2023/Data_Analysis/7-Bases_de_datos/SQL/SQL_Python/ejercicio/practicasql.ipynb#X15sZmlsZQ%3D%3D?line=7'>8</a>\u001b[0m \u001b[39m\"\"\"\u001b[39m\n\u001b[1;32m---> <a href='vscode-notebook-cell:/c%3A/Users/Amy/OneDrive/Escritorio/The%20bridge/septiembre/Repositorio-sep/DS_PT_09_2023-%20Amy/DS_PT_09_2023/Data_Analysis/7-Bases_de_datos/SQL/SQL_Python/ejercicio/practicasql.ipynb#X15sZmlsZQ%3D%3D?line=10'>11</a>\u001b[0m crsr\u001b[39m.\u001b[39;49mexecute(query_cerveza)\n",
      "\u001b[1;31mOperationalError\u001b[0m: near \")\": syntax error"
     ]
    }
   ],
   "source": [
    "query_cerveza = \"\"\"\n",
    "CREATE TABLE cerveza(\n",
    "CodC VARCHAR(3),\n",
    "Envase VARCHAR(50),\n",
    "Capacidad FLOAT,\n",
    "Stock INT,\n",
    ")\n",
    "\"\"\"\n",
    "\n",
    "\n",
    "crsr.execute(query_cerveza)"
   ]
  },
  {
   "cell_type": "markdown",
   "metadata": {},
   "source": [
    "### Tabla bares"
   ]
  },
  {
   "cell_type": "code",
   "execution_count": 33,
   "metadata": {},
   "outputs": [
    {
     "ename": "OperationalError",
     "evalue": "near \")\": syntax error",
     "output_type": "error",
     "traceback": [
      "\u001b[1;31m---------------------------------------------------------------------------\u001b[0m",
      "\u001b[1;31mOperationalError\u001b[0m                          Traceback (most recent call last)",
      "\u001b[1;32mc:\\Users\\Amy\\OneDrive\\Escritorio\\The bridge\\septiembre\\Repositorio-sep\\DS_PT_09_2023- Amy\\DS_PT_09_2023\\Data_Analysis\\7-Bases_de_datos\\SQL\\SQL_Python\\ejercicio\\practicasql.ipynb Cell 12\u001b[0m line \u001b[0;36m1\n\u001b[0;32m      <a href='vscode-notebook-cell:/c%3A/Users/Amy/OneDrive/Escritorio/The%20bridge/septiembre/Repositorio-sep/DS_PT_09_2023-%20Amy/DS_PT_09_2023/Data_Analysis/7-Bases_de_datos/SQL/SQL_Python/ejercicio/practicasql.ipynb#X21sZmlsZQ%3D%3D?line=0'>1</a>\u001b[0m query_bares \u001b[39m=\u001b[39m \u001b[39m\"\"\"\u001b[39m\n\u001b[0;32m      <a href='vscode-notebook-cell:/c%3A/Users/Amy/OneDrive/Escritorio/The%20bridge/septiembre/Repositorio-sep/DS_PT_09_2023-%20Amy/DS_PT_09_2023/Data_Analysis/7-Bases_de_datos/SQL/SQL_Python/ejercicio/practicasql.ipynb#X21sZmlsZQ%3D%3D?line=1'>2</a>\u001b[0m \u001b[39mCREATE TABLE bares (\u001b[39m\n\u001b[0;32m      <a href='vscode-notebook-cell:/c%3A/Users/Amy/OneDrive/Escritorio/The%20bridge/septiembre/Repositorio-sep/DS_PT_09_2023-%20Amy/DS_PT_09_2023/Data_Analysis/7-Bases_de_datos/SQL/SQL_Python/ejercicio/practicasql.ipynb#X21sZmlsZQ%3D%3D?line=2'>3</a>\u001b[0m \u001b[39m  CodB VARCHAR(4),\u001b[39m\n\u001b[1;32m   (...)\u001b[0m\n\u001b[0;32m      <a href='vscode-notebook-cell:/c%3A/Users/Amy/OneDrive/Escritorio/The%20bridge/septiembre/Repositorio-sep/DS_PT_09_2023-%20Amy/DS_PT_09_2023/Data_Analysis/7-Bases_de_datos/SQL/SQL_Python/ejercicio/practicasql.ipynb#X21sZmlsZQ%3D%3D?line=6'>7</a>\u001b[0m \u001b[39m)\u001b[39m\n\u001b[0;32m      <a href='vscode-notebook-cell:/c%3A/Users/Amy/OneDrive/Escritorio/The%20bridge/septiembre/Repositorio-sep/DS_PT_09_2023-%20Amy/DS_PT_09_2023/Data_Analysis/7-Bases_de_datos/SQL/SQL_Python/ejercicio/practicasql.ipynb#X21sZmlsZQ%3D%3D?line=7'>8</a>\u001b[0m \u001b[39m\"\"\"\u001b[39m\n\u001b[1;32m---> <a href='vscode-notebook-cell:/c%3A/Users/Amy/OneDrive/Escritorio/The%20bridge/septiembre/Repositorio-sep/DS_PT_09_2023-%20Amy/DS_PT_09_2023/Data_Analysis/7-Bases_de_datos/SQL/SQL_Python/ejercicio/practicasql.ipynb#X21sZmlsZQ%3D%3D?line=10'>11</a>\u001b[0m crsr\u001b[39m.\u001b[39;49mexecute(query_bares)\n",
      "\u001b[1;31mOperationalError\u001b[0m: near \")\": syntax error"
     ]
    }
   ],
   "source": [
    "query_bares = \"\"\"\n",
    "CREATE TABLE bares (\n",
    "  CodB VARCHAR(4),\n",
    "  Nombre VARCHAR(50),\n",
    "  Cif VARCHAR(10),\n",
    "  Localidad VARCHAR(50),\n",
    ")\n",
    "\"\"\"\n",
    "\n",
    "\n",
    "crsr.execute(query_bares)"
   ]
  },
  {
   "cell_type": "markdown",
   "metadata": {},
   "source": [
    "### Tabla empleados"
   ]
  },
  {
   "cell_type": "markdown",
   "metadata": {},
   "source": [
    "### Tabla Reparto"
   ]
  }
 ],
 "metadata": {
  "kernelspec": {
   "display_name": ".venv",
   "language": "python",
   "name": "python3"
  },
  "language_info": {
   "codemirror_mode": {
    "name": "ipython",
    "version": 3
   },
   "file_extension": ".py",
   "mimetype": "text/x-python",
   "name": "python",
   "nbconvert_exporter": "python",
   "pygments_lexer": "ipython3",
   "version": "3.11.3"
  }
 },
 "nbformat": 4,
 "nbformat_minor": 2
}
