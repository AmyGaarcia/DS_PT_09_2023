{
 "cells": [
  {
   "cell_type": "markdown",
   "metadata": {},
   "source": [
    "<img src=\"./0930a77ee0324179b794b6f574efc129.jpg\" alt=\"EREN\" width=\"98%\" />"
   ]
  },
  {
   "cell_type": "markdown",
   "metadata": {},
   "source": [
    "<h1 style=\"font-size: 7em; text-align: center;\"><span style=\"color:#2E4053\">LA POPULARIDAD DEL ANIME</span></h1>"
   ]
  },
  {
   "cell_type": "markdown",
   "metadata": {},
   "source": [
    " # <span style=\"color:#AEB6BF   \"> ANALISIS EXPLORATORIO DE DATOS(EDA) DEL ANIME </span>\n",
    " "
   ]
  },
  {
   "cell_type": "markdown",
   "metadata": {},
   "source": [
    "## <span style=\"color:#85929E \"> TEMA </span>"
   ]
  },
  {
   "cell_type": "markdown",
   "metadata": {},
   "source": [
    "ANIME. El anime es una forma de expresión artística japonesa que ha ganado popularidad a nivel mundial, ha cautivado a audiencias de todas las edades con sus historias, personajes memorables y estilos visuales. Asi que vamos a realizar un análisis exploratorio de datos para estudiar los factores que contribuyen a la popularidad en el mundo del anime.\n"
   ]
  },
  {
   "cell_type": "markdown",
   "metadata": {},
   "source": [
    "### <span style=\"color:#85929E \"> OBJETIVO </span>"
   ]
  },
  {
   "cell_type": "markdown",
   "metadata": {},
   "source": [
    "El objetivo de este EDA es estudiar lo que resuena con la audiencia y contribuye a la popularidad en el mundo del anime "
   ]
  },
  {
   "cell_type": "markdown",
   "metadata": {},
   "source": [
    "## <span style=\"color:#85929E \"> DATASETS Y FUENTES ALTERNATIVAS DE DATOS </span> \n"
   ]
  },
  {
   "cell_type": "markdown",
   "metadata": {},
   "source": [
    "**LINK de la base de datos que voy a usar en este EDA:**\n",
    ">[KAGGLE- ANIME](https://www.kaggle.com/datasets/hernan4444/anime-recommendation-database-2020)\n",
    "\n",
    ">[KAGGLE- ANIME2](https://www.kaggle.com/datasets/vishalmane10/anime-dataset-2022)\n",
    "\n",
    ">[Myanimelist API](https://myanimelist.net/apiconfig)\n",
    "\n",
    ">[Kitsu API](https://kitsu.docs.apiary.io/#)\n",
    "\n",
    ">[Anilist API](https://anilist.gitbook.io/anilist-apiv2-docs/)\n",
    "\n",
    ">[RapidAPI](https://rapidapi.com/search/anime)"
   ]
  },
  {
   "cell_type": "markdown",
   "metadata": {},
   "source": [
    "## <span style=\"color:#85929E \"> IMPORTACIONES </span> "
   ]
  },
  {
   "cell_type": "code",
   "execution_count": 1456,
   "metadata": {},
   "outputs": [],
   "source": [
    "import pandas as pd\n",
    "import numpy as np\n",
    "import seaborn as sns\n",
    "import matplotlib.pyplot as plt\n",
    "import sqlite3"
   ]
  },
  {
   "cell_type": "markdown",
   "metadata": {},
   "source": [
    "## <span style=\"color:#85929E \"> BASE DE DATOS INICIAL </span> "
   ]
  },
  {
   "cell_type": "code",
   "execution_count": 1457,
   "metadata": {},
   "outputs": [
    {
     "data": {
      "text/html": [
       "<div>\n",
       "<style scoped>\n",
       "    .dataframe tbody tr th:only-of-type {\n",
       "        vertical-align: middle;\n",
       "    }\n",
       "\n",
       "    .dataframe tbody tr th {\n",
       "        vertical-align: top;\n",
       "    }\n",
       "\n",
       "    .dataframe thead th {\n",
       "        text-align: right;\n",
       "    }\n",
       "</style>\n",
       "<table border=\"1\" class=\"dataframe\">\n",
       "  <thead>\n",
       "    <tr style=\"text-align: right;\">\n",
       "      <th></th>\n",
       "      <th>anime_id</th>\n",
       "      <th>Name</th>\n",
       "      <th>Score</th>\n",
       "      <th>Genres</th>\n",
       "      <th>English name</th>\n",
       "      <th>Japanese name</th>\n",
       "      <th>sypnopsis</th>\n",
       "      <th>Type</th>\n",
       "      <th>Episodes</th>\n",
       "      <th>Aired</th>\n",
       "      <th>...</th>\n",
       "      <th>Duration</th>\n",
       "      <th>Rating</th>\n",
       "      <th>Ranked</th>\n",
       "      <th>Popularity</th>\n",
       "      <th>Members</th>\n",
       "      <th>Favorites</th>\n",
       "      <th>Watching</th>\n",
       "      <th>Completed</th>\n",
       "      <th>On-Hold</th>\n",
       "      <th>Dropped</th>\n",
       "    </tr>\n",
       "  </thead>\n",
       "  <tbody>\n",
       "    <tr>\n",
       "      <th>0</th>\n",
       "      <td>1</td>\n",
       "      <td>Cowboy Bebop</td>\n",
       "      <td>8.78</td>\n",
       "      <td>Action, Adventure, Comedy, Drama, Sci-Fi, Space</td>\n",
       "      <td>Cowboy Bebop</td>\n",
       "      <td>カウボーイビバップ</td>\n",
       "      <td>In the year 2071, humanity has colonized sever...</td>\n",
       "      <td>TV</td>\n",
       "      <td>26</td>\n",
       "      <td>Apr 3, 1998 to Apr 24, 1999</td>\n",
       "      <td>...</td>\n",
       "      <td>24 min. per ep.</td>\n",
       "      <td>R - 17+ (violence &amp; profanity)</td>\n",
       "      <td>28.0</td>\n",
       "      <td>39</td>\n",
       "      <td>1251960</td>\n",
       "      <td>61971</td>\n",
       "      <td>105808</td>\n",
       "      <td>718161</td>\n",
       "      <td>71513</td>\n",
       "      <td>26678</td>\n",
       "    </tr>\n",
       "    <tr>\n",
       "      <th>1</th>\n",
       "      <td>5</td>\n",
       "      <td>Cowboy Bebop: Tengoku no Tobira</td>\n",
       "      <td>8.39</td>\n",
       "      <td>Action, Drama, Mystery, Sci-Fi, Space</td>\n",
       "      <td>Cowboy Bebop:The Movie</td>\n",
       "      <td>カウボーイビバップ 天国の扉</td>\n",
       "      <td>other day, another bounty—such is the life of ...</td>\n",
       "      <td>Movie</td>\n",
       "      <td>1</td>\n",
       "      <td>Sep 1, 2001</td>\n",
       "      <td>...</td>\n",
       "      <td>1 hr. 55 min.</td>\n",
       "      <td>R - 17+ (violence &amp; profanity)</td>\n",
       "      <td>159.0</td>\n",
       "      <td>518</td>\n",
       "      <td>273145</td>\n",
       "      <td>1174</td>\n",
       "      <td>4143</td>\n",
       "      <td>208333</td>\n",
       "      <td>1935</td>\n",
       "      <td>770</td>\n",
       "    </tr>\n",
       "    <tr>\n",
       "      <th>2</th>\n",
       "      <td>6</td>\n",
       "      <td>Trigun</td>\n",
       "      <td>8.24</td>\n",
       "      <td>Action, Sci-Fi, Adventure, Comedy, Drama, Shounen</td>\n",
       "      <td>Trigun</td>\n",
       "      <td>トライガン</td>\n",
       "      <td>Vash the Stampede is the man with a $$60,000,0...</td>\n",
       "      <td>TV</td>\n",
       "      <td>26</td>\n",
       "      <td>Apr 1, 1998 to Sep 30, 1998</td>\n",
       "      <td>...</td>\n",
       "      <td>24 min. per ep.</td>\n",
       "      <td>PG-13 - Teens 13 or older</td>\n",
       "      <td>266.0</td>\n",
       "      <td>201</td>\n",
       "      <td>558913</td>\n",
       "      <td>12944</td>\n",
       "      <td>29113</td>\n",
       "      <td>343492</td>\n",
       "      <td>25465</td>\n",
       "      <td>13925</td>\n",
       "    </tr>\n",
       "    <tr>\n",
       "      <th>3</th>\n",
       "      <td>7</td>\n",
       "      <td>Witch Hunter Robin</td>\n",
       "      <td>7.27</td>\n",
       "      <td>Action, Mystery, Police, Supernatural, Drama, ...</td>\n",
       "      <td>Witch Hunter Robin</td>\n",
       "      <td>Witch Hunter ROBIN (ウイッチハンターロビン)</td>\n",
       "      <td>ches are individuals with special powers like ...</td>\n",
       "      <td>TV</td>\n",
       "      <td>26</td>\n",
       "      <td>Jul 2, 2002 to Dec 24, 2002</td>\n",
       "      <td>...</td>\n",
       "      <td>25 min. per ep.</td>\n",
       "      <td>PG-13 - Teens 13 or older</td>\n",
       "      <td>2481.0</td>\n",
       "      <td>1467</td>\n",
       "      <td>94683</td>\n",
       "      <td>587</td>\n",
       "      <td>4300</td>\n",
       "      <td>46165</td>\n",
       "      <td>5121</td>\n",
       "      <td>5378</td>\n",
       "    </tr>\n",
       "    <tr>\n",
       "      <th>4</th>\n",
       "      <td>8</td>\n",
       "      <td>Bouken Ou Beet</td>\n",
       "      <td>6.98</td>\n",
       "      <td>Adventure, Fantasy, Shounen, Supernatural</td>\n",
       "      <td>Beet the Vandel Buster</td>\n",
       "      <td>冒険王ビィト</td>\n",
       "      <td>It is the dark century and the people are suff...</td>\n",
       "      <td>TV</td>\n",
       "      <td>52</td>\n",
       "      <td>Sep 30, 2004 to Sep 29, 2005</td>\n",
       "      <td>...</td>\n",
       "      <td>23 min. per ep.</td>\n",
       "      <td>PG - Children</td>\n",
       "      <td>3710.0</td>\n",
       "      <td>4369</td>\n",
       "      <td>13224</td>\n",
       "      <td>18</td>\n",
       "      <td>642</td>\n",
       "      <td>7314</td>\n",
       "      <td>766</td>\n",
       "      <td>1108</td>\n",
       "    </tr>\n",
       "  </tbody>\n",
       "</table>\n",
       "<p>5 rows × 25 columns</p>\n",
       "</div>"
      ],
      "text/plain": [
       "   anime_id                             Name  Score  \\\n",
       "0         1                     Cowboy Bebop   8.78   \n",
       "1         5  Cowboy Bebop: Tengoku no Tobira   8.39   \n",
       "2         6                           Trigun   8.24   \n",
       "3         7               Witch Hunter Robin   7.27   \n",
       "4         8                   Bouken Ou Beet   6.98   \n",
       "\n",
       "                                              Genres            English name  \\\n",
       "0    Action, Adventure, Comedy, Drama, Sci-Fi, Space            Cowboy Bebop   \n",
       "1              Action, Drama, Mystery, Sci-Fi, Space  Cowboy Bebop:The Movie   \n",
       "2  Action, Sci-Fi, Adventure, Comedy, Drama, Shounen                  Trigun   \n",
       "3  Action, Mystery, Police, Supernatural, Drama, ...      Witch Hunter Robin   \n",
       "4          Adventure, Fantasy, Shounen, Supernatural  Beet the Vandel Buster   \n",
       "\n",
       "                      Japanese name  \\\n",
       "0                         カウボーイビバップ   \n",
       "1                    カウボーイビバップ 天国の扉   \n",
       "2                             トライガン   \n",
       "3  Witch Hunter ROBIN (ウイッチハンターロビン)   \n",
       "4                            冒険王ビィト   \n",
       "\n",
       "                                           sypnopsis   Type Episodes  \\\n",
       "0  In the year 2071, humanity has colonized sever...     TV       26   \n",
       "1  other day, another bounty—such is the life of ...  Movie        1   \n",
       "2  Vash the Stampede is the man with a $$60,000,0...     TV       26   \n",
       "3  ches are individuals with special powers like ...     TV       26   \n",
       "4  It is the dark century and the people are suff...     TV       52   \n",
       "\n",
       "                          Aired  ...         Duration  \\\n",
       "0   Apr 3, 1998 to Apr 24, 1999  ...  24 min. per ep.   \n",
       "1                   Sep 1, 2001  ...    1 hr. 55 min.   \n",
       "2   Apr 1, 1998 to Sep 30, 1998  ...  24 min. per ep.   \n",
       "3   Jul 2, 2002 to Dec 24, 2002  ...  25 min. per ep.   \n",
       "4  Sep 30, 2004 to Sep 29, 2005  ...  23 min. per ep.   \n",
       "\n",
       "                           Rating  Ranked Popularity  Members Favorites  \\\n",
       "0  R - 17+ (violence & profanity)    28.0         39  1251960     61971   \n",
       "1  R - 17+ (violence & profanity)   159.0        518   273145      1174   \n",
       "2       PG-13 - Teens 13 or older   266.0        201   558913     12944   \n",
       "3       PG-13 - Teens 13 or older  2481.0       1467    94683       587   \n",
       "4                   PG - Children  3710.0       4369    13224        18   \n",
       "\n",
       "  Watching  Completed  On-Hold  Dropped  \n",
       "0   105808     718161    71513    26678  \n",
       "1     4143     208333     1935      770  \n",
       "2    29113     343492    25465    13925  \n",
       "3     4300      46165     5121     5378  \n",
       "4      642       7314      766     1108  \n",
       "\n",
       "[5 rows x 25 columns]"
      ]
     },
     "execution_count": 1457,
     "metadata": {},
     "output_type": "execute_result"
    }
   ],
   "source": [
    "anime = pd.read_csv(\"./anime.csv\")\n",
    "anime.head(5)"
   ]
  },
  {
   "cell_type": "code",
   "execution_count": 1458,
   "metadata": {},
   "outputs": [
    {
     "name": "stdout",
     "output_type": "stream",
     "text": [
      "<class 'pandas.core.frame.DataFrame'>\n",
      "RangeIndex: 14952 entries, 0 to 14951\n",
      "Data columns (total 25 columns):\n",
      " #   Column         Non-Null Count  Dtype  \n",
      "---  ------         --------------  -----  \n",
      " 0   anime_id       14952 non-null  int64  \n",
      " 1   Name           14952 non-null  object \n",
      " 2   Score          14952 non-null  float64\n",
      " 3   Genres         14952 non-null  object \n",
      " 4   English name   14952 non-null  object \n",
      " 5   Japanese name  14952 non-null  object \n",
      " 6   sypnopsis      13602 non-null  object \n",
      " 7   Type           14952 non-null  object \n",
      " 8   Episodes       14952 non-null  object \n",
      " 9   Aired          14952 non-null  object \n",
      " 10  Premiered      14952 non-null  object \n",
      " 11  Producers      14952 non-null  object \n",
      " 12  Licensors      14952 non-null  object \n",
      " 13  Studios        14952 non-null  object \n",
      " 14  Source         14952 non-null  object \n",
      " 15  Duration       14952 non-null  object \n",
      " 16  Rating         14952 non-null  object \n",
      " 17  Ranked         13231 non-null  float64\n",
      " 18  Popularity     14952 non-null  int64  \n",
      " 19  Members        14952 non-null  int64  \n",
      " 20  Favorites      14952 non-null  int64  \n",
      " 21  Watching       14952 non-null  int64  \n",
      " 22  Completed      14952 non-null  int64  \n",
      " 23  On-Hold        14952 non-null  int64  \n",
      " 24  Dropped        14952 non-null  int64  \n",
      "dtypes: float64(2), int64(8), object(15)\n",
      "memory usage: 2.9+ MB\n"
     ]
    }
   ],
   "source": [
    "#VER LA INFORMACION DE LA BASE DE DATOS INICIAL\n",
    "anime.info()"
   ]
  },
  {
   "cell_type": "code",
   "execution_count": 1459,
   "metadata": {},
   "outputs": [
    {
     "data": {
      "text/plain": [
       "(14952, 25)"
      ]
     },
     "execution_count": 1459,
     "metadata": {},
     "output_type": "execute_result"
    }
   ],
   "source": [
    "#VER LAS FILAS Y COLUMNAS QUE TIENE\n",
    "anime.shape"
   ]
  },
  {
   "cell_type": "code",
   "execution_count": 1460,
   "metadata": {},
   "outputs": [
    {
     "data": {
      "text/plain": [
       "anime_id         False\n",
       "Name             False\n",
       "Score            False\n",
       "Genres           False\n",
       "English name     False\n",
       "Japanese name    False\n",
       "sypnopsis         True\n",
       "Type             False\n",
       "Episodes         False\n",
       "Aired            False\n",
       "Premiered        False\n",
       "Producers        False\n",
       "Licensors        False\n",
       "Studios          False\n",
       "Source           False\n",
       "Duration         False\n",
       "Rating           False\n",
       "Ranked            True\n",
       "Popularity       False\n",
       "Members          False\n",
       "Favorites        False\n",
       "Watching         False\n",
       "Completed        False\n",
       "On-Hold          False\n",
       "Dropped          False\n",
       "dtype: bool"
      ]
     },
     "execution_count": 1460,
     "metadata": {},
     "output_type": "execute_result"
    }
   ],
   "source": [
    "#VER SI MI BASE DE DATOS TIENE VALORES NULOS\n",
    "anime.isna().any() "
   ]
  },
  {
   "cell_type": "markdown",
   "metadata": {},
   "source": [
    "## <span style=\"color:#85929E \"> LIMPIEZA DE LA BASE DE DATOS </span> "
   ]
  },
  {
   "cell_type": "markdown",
   "metadata": {},
   "source": [
    "#### <span style=\"color:#2874A6 \">A - Valores nulos </span> "
   ]
  },
  {
   "cell_type": "markdown",
   "metadata": {},
   "source": [
    "##### <span style=\"color:#76D7C4 \"> A1 - Ver cuantos valores nulos tengo, donde y el total: </span> "
   ]
  },
  {
   "cell_type": "code",
   "execution_count": 1461,
   "metadata": {},
   "outputs": [
    {
     "data": {
      "text/plain": [
       "anime_id            0\n",
       "Name                0\n",
       "Score               0\n",
       "Genres              0\n",
       "English name        0\n",
       "Japanese name       0\n",
       "sypnopsis        1350\n",
       "Type                0\n",
       "Episodes            0\n",
       "Aired               0\n",
       "Premiered           0\n",
       "Producers           0\n",
       "Licensors           0\n",
       "Studios             0\n",
       "Source              0\n",
       "Duration            0\n",
       "Rating              0\n",
       "Ranked           1721\n",
       "Popularity          0\n",
       "Members             0\n",
       "Favorites           0\n",
       "Watching            0\n",
       "Completed           0\n",
       "On-Hold             0\n",
       "Dropped             0\n",
       "dtype: int64"
      ]
     },
     "execution_count": 1461,
     "metadata": {},
     "output_type": "execute_result"
    }
   ],
   "source": [
    "#CUANTOS VALORES NULOS TENGO POR CADA COLUMNA\n",
    "anime.isnull().sum() "
   ]
  },
  {
   "cell_type": "code",
   "execution_count": 1462,
   "metadata": {},
   "outputs": [
    {
     "data": {
      "text/plain": [
       "3071"
      ]
     },
     "execution_count": 1462,
     "metadata": {},
     "output_type": "execute_result"
    }
   ],
   "source": [
    "#CUANTOS VALORES NULOS TENGO EN TOTAL\n",
    "anime.isnull().sum().sum() "
   ]
  },
  {
   "cell_type": "markdown",
   "metadata": {},
   "source": [
    "##### <span style=\"color:#76D7C4  \"> A2- Ver la proporcion de valores nulos: </span>  "
   ]
  },
  {
   "cell_type": "code",
   "execution_count": 1463,
   "metadata": {},
   "outputs": [
    {
     "data": {
      "image/png": "[encoded data removed]",
      "text/plain": [
       "<Figure size 800x400 with 1 Axes>"
      ]
     },
     "metadata": {},
     "output_type": "display_data"
    }
   ],
   "source": [
    "#GRAFICA PARA VISUALIZAR LA PROPORCION DE MIS DATOS NULOS\n",
    "anime_nulos = anime.isnull()\n",
    "\n",
    "plt.figure(figsize=(8, 4))\n",
    "sns.set(style=\"white\")\n",
    "\n",
    "\n",
    "sns.histplot(data=anime_nulos.melt(), x=\"variable\", hue=\"value\", multiple=\"stack\", palette= \"Paired\" )\n",
    "plt.xticks(rotation=90, ha=\"right\")\n",
    "\n",
    "plt.show()"
   ]
  },
  {
   "cell_type": "markdown",
   "metadata": {},
   "source": [
    "#### <span style=\"color:#2874A6 \"> B - Valores duplicados </span> "
   ]
  },
  {
   "cell_type": "code",
   "execution_count": 1464,
   "metadata": {},
   "outputs": [
    {
     "data": {
      "text/plain": [
       "3"
      ]
     },
     "execution_count": 1464,
     "metadata": {},
     "output_type": "execute_result"
    }
   ],
   "source": [
    "#QUIERO VER CUANTOS VALORES DUPLICADOS TENGO EN LA COLUMNA NAME\n",
    "anime[\"Name\"].duplicated().sum()"
   ]
  },
  {
   "cell_type": "code",
   "execution_count": 1465,
   "metadata": {},
   "outputs": [
    {
     "data": {
      "text/plain": [
       "11880                                          Hinamatsuri\n",
       "12365                                          Hinamatsuri\n",
       "14123    Maou Gakuin no Futekigousha: Shijou Saikyou no...\n",
       "14937    Maou Gakuin no Futekigousha: Shijou Saikyou no...\n",
       "14938    Maou Gakuin no Futekigousha: Shijou Saikyou no...\n",
       "Name: Name, dtype: object"
      ]
     },
     "execution_count": 1465,
     "metadata": {},
     "output_type": "execute_result"
    }
   ],
   "source": [
    "#QUIERO ENCONTRAR LAS FILAS DUPLICADAS\n",
    "dupli= anime[anime.duplicated(subset='Name', keep=False)]\n",
    "dupli[\"Name\"]"
   ]
  },
  {
   "cell_type": "code",
   "execution_count": 1466,
   "metadata": {},
   "outputs": [
    {
     "data": {
      "text/html": [
       "<div>\n",
       "<style scoped>\n",
       "    .dataframe tbody tr th:only-of-type {\n",
       "        vertical-align: middle;\n",
       "    }\n",
       "\n",
       "    .dataframe tbody tr th {\n",
       "        vertical-align: top;\n",
       "    }\n",
       "\n",
       "    .dataframe thead th {\n",
       "        text-align: right;\n",
       "    }\n",
       "</style>\n",
       "<table border=\"1\" class=\"dataframe\">\n",
       "  <thead>\n",
       "    <tr style=\"text-align: right;\">\n",
       "      <th></th>\n",
       "      <th>anime_id</th>\n",
       "      <th>Name</th>\n",
       "      <th>Score</th>\n",
       "      <th>Genres</th>\n",
       "      <th>English name</th>\n",
       "      <th>Japanese name</th>\n",
       "      <th>sypnopsis</th>\n",
       "      <th>Type</th>\n",
       "      <th>Episodes</th>\n",
       "      <th>Aired</th>\n",
       "      <th>...</th>\n",
       "      <th>Duration</th>\n",
       "      <th>Rating</th>\n",
       "      <th>Ranked</th>\n",
       "      <th>Popularity</th>\n",
       "      <th>Members</th>\n",
       "      <th>Favorites</th>\n",
       "      <th>Watching</th>\n",
       "      <th>Completed</th>\n",
       "      <th>On-Hold</th>\n",
       "      <th>Dropped</th>\n",
       "    </tr>\n",
       "  </thead>\n",
       "  <tbody>\n",
       "    <tr>\n",
       "      <th>11880</th>\n",
       "      <td>35102</td>\n",
       "      <td>Hinamatsuri</td>\n",
       "      <td>6.79</td>\n",
       "      <td>Historical, Kids</td>\n",
       "      <td>Unknown</td>\n",
       "      <td>ひなまつり</td>\n",
       "      <td>ducational anime about the history and foundin...</td>\n",
       "      <td>OVA</td>\n",
       "      <td>1</td>\n",
       "      <td>Unknown</td>\n",
       "      <td>...</td>\n",
       "      <td>19 min.</td>\n",
       "      <td>G - All Ages</td>\n",
       "      <td>4486.0</td>\n",
       "      <td>10044</td>\n",
       "      <td>1201</td>\n",
       "      <td>2</td>\n",
       "      <td>52</td>\n",
       "      <td>399</td>\n",
       "      <td>17</td>\n",
       "      <td>92</td>\n",
       "    </tr>\n",
       "    <tr>\n",
       "      <th>12365</th>\n",
       "      <td>36296</td>\n",
       "      <td>Hinamatsuri</td>\n",
       "      <td>8.21</td>\n",
       "      <td>Comedy, Sci-Fi, Seinen, Slice of Life, Superna...</td>\n",
       "      <td>Hinamatsuri</td>\n",
       "      <td>ヒナまつり</td>\n",
       "      <td>hile reveling in the successful clinching of a...</td>\n",
       "      <td>TV</td>\n",
       "      <td>12</td>\n",
       "      <td>Apr 6, 2018 to Jun 22, 2018</td>\n",
       "      <td>...</td>\n",
       "      <td>23 min. per ep.</td>\n",
       "      <td>PG-13 - Teens 13 or older</td>\n",
       "      <td>298.0</td>\n",
       "      <td>391</td>\n",
       "      <td>347326</td>\n",
       "      <td>3265</td>\n",
       "      <td>27757</td>\n",
       "      <td>209253</td>\n",
       "      <td>9457</td>\n",
       "      <td>7827</td>\n",
       "    </tr>\n",
       "    <tr>\n",
       "      <th>14123</th>\n",
       "      <td>40496</td>\n",
       "      <td>Maou Gakuin no Futekigousha: Shijou Saikyou no...</td>\n",
       "      <td>7.34</td>\n",
       "      <td>Action, Demons, Magic, Fantasy, School</td>\n",
       "      <td>The Misfit of Demon King Academy</td>\n",
       "      <td>魔王学院の不適合者 ～史上最強の魔王の始祖、転生して子孫たちの学校へ通う～</td>\n",
       "      <td>In the distant past, a war between humans and ...</td>\n",
       "      <td>TV</td>\n",
       "      <td>13</td>\n",
       "      <td>Jul 4, 2020 to Sep 26, 2020</td>\n",
       "      <td>...</td>\n",
       "      <td>23 min. per ep.</td>\n",
       "      <td>R - 17+ (violence &amp; profanity)</td>\n",
       "      <td>2177.0</td>\n",
       "      <td>377</td>\n",
       "      <td>356060</td>\n",
       "      <td>3057</td>\n",
       "      <td>48873</td>\n",
       "      <td>236529</td>\n",
       "      <td>4880</td>\n",
       "      <td>9563</td>\n",
       "    </tr>\n",
       "    <tr>\n",
       "      <th>14937</th>\n",
       "      <td>48417</td>\n",
       "      <td>Maou Gakuin no Futekigousha: Shijou Saikyou no...</td>\n",
       "      <td>6.51</td>\n",
       "      <td>Magic, Fantasy, School</td>\n",
       "      <td>Unknown</td>\n",
       "      <td>魔王学院の不適合者 ～史上最強の魔王の始祖、転生して子孫たちの学校へ通う～</td>\n",
       "      <td>Second season of Maou Gakuin no Futekigousha: ...</td>\n",
       "      <td>TV</td>\n",
       "      <td>Unknown</td>\n",
       "      <td>Unknown</td>\n",
       "      <td>...</td>\n",
       "      <td>Unknown</td>\n",
       "      <td>R - 17+ (violence &amp; profanity)</td>\n",
       "      <td>NaN</td>\n",
       "      <td>2597</td>\n",
       "      <td>41425</td>\n",
       "      <td>281</td>\n",
       "      <td>7</td>\n",
       "      <td>5</td>\n",
       "      <td>11</td>\n",
       "      <td>1</td>\n",
       "    </tr>\n",
       "    <tr>\n",
       "      <th>14938</th>\n",
       "      <td>48418</td>\n",
       "      <td>Maou Gakuin no Futekigousha: Shijou Saikyou no...</td>\n",
       "      <td>6.51</td>\n",
       "      <td>Action, Demons, Magic, Fantasy, School</td>\n",
       "      <td>Unknown</td>\n",
       "      <td>魔王学院の不適合者 ～史上最強の魔王の始祖、転生して子孫たちの学校へ通う～</td>\n",
       "      <td>Second half of Maou Gakuin no Futekigousha: Sh...</td>\n",
       "      <td>TV</td>\n",
       "      <td>Unknown</td>\n",
       "      <td>Unknown</td>\n",
       "      <td>...</td>\n",
       "      <td>Unknown</td>\n",
       "      <td>R - 17+ (violence &amp; profanity)</td>\n",
       "      <td>NaN</td>\n",
       "      <td>5731</td>\n",
       "      <td>7707</td>\n",
       "      <td>41</td>\n",
       "      <td>1</td>\n",
       "      <td>2</td>\n",
       "      <td>5</td>\n",
       "      <td>2</td>\n",
       "    </tr>\n",
       "  </tbody>\n",
       "</table>\n",
       "<p>5 rows × 25 columns</p>\n",
       "</div>"
      ],
      "text/plain": [
       "       anime_id                                               Name  Score  \\\n",
       "11880     35102                                        Hinamatsuri   6.79   \n",
       "12365     36296                                        Hinamatsuri   8.21   \n",
       "14123     40496  Maou Gakuin no Futekigousha: Shijou Saikyou no...   7.34   \n",
       "14937     48417  Maou Gakuin no Futekigousha: Shijou Saikyou no...   6.51   \n",
       "14938     48418  Maou Gakuin no Futekigousha: Shijou Saikyou no...   6.51   \n",
       "\n",
       "                                                  Genres  \\\n",
       "11880                                   Historical, Kids   \n",
       "12365  Comedy, Sci-Fi, Seinen, Slice of Life, Superna...   \n",
       "14123             Action, Demons, Magic, Fantasy, School   \n",
       "14937                             Magic, Fantasy, School   \n",
       "14938             Action, Demons, Magic, Fantasy, School   \n",
       "\n",
       "                           English name  \\\n",
       "11880                           Unknown   \n",
       "12365                       Hinamatsuri   \n",
       "14123  The Misfit of Demon King Academy   \n",
       "14937                           Unknown   \n",
       "14938                           Unknown   \n",
       "\n",
       "                               Japanese name  \\\n",
       "11880                                  ひなまつり   \n",
       "12365                                  ヒナまつり   \n",
       "14123  魔王学院の不適合者 ～史上最強の魔王の始祖、転生して子孫たちの学校へ通う～   \n",
       "14937  魔王学院の不適合者 ～史上最強の魔王の始祖、転生して子孫たちの学校へ通う～   \n",
       "14938  魔王学院の不適合者 ～史上最強の魔王の始祖、転生して子孫たちの学校へ通う～   \n",
       "\n",
       "                                               sypnopsis Type Episodes  \\\n",
       "11880  ducational anime about the history and foundin...  OVA        1   \n",
       "12365  hile reveling in the successful clinching of a...   TV       12   \n",
       "14123  In the distant past, a war between humans and ...   TV       13   \n",
       "14937  Second season of Maou Gakuin no Futekigousha: ...   TV  Unknown   \n",
       "14938  Second half of Maou Gakuin no Futekigousha: Sh...   TV  Unknown   \n",
       "\n",
       "                             Aired  ...         Duration  \\\n",
       "11880                      Unknown  ...          19 min.   \n",
       "12365  Apr 6, 2018 to Jun 22, 2018  ...  23 min. per ep.   \n",
       "14123  Jul 4, 2020 to Sep 26, 2020  ...  23 min. per ep.   \n",
       "14937                      Unknown  ...          Unknown   \n",
       "14938                      Unknown  ...          Unknown   \n",
       "\n",
       "                               Rating  Ranked Popularity Members Favorites  \\\n",
       "11880                    G - All Ages  4486.0      10044    1201         2   \n",
       "12365       PG-13 - Teens 13 or older   298.0        391  347326      3265   \n",
       "14123  R - 17+ (violence & profanity)  2177.0        377  356060      3057   \n",
       "14937  R - 17+ (violence & profanity)     NaN       2597   41425       281   \n",
       "14938  R - 17+ (violence & profanity)     NaN       5731    7707        41   \n",
       "\n",
       "      Watching  Completed  On-Hold  Dropped  \n",
       "11880       52        399       17       92  \n",
       "12365    27757     209253     9457     7827  \n",
       "14123    48873     236529     4880     9563  \n",
       "14937        7          5       11        1  \n",
       "14938        1          2        5        2  \n",
       "\n",
       "[5 rows x 25 columns]"
      ]
     },
     "execution_count": 1466,
     "metadata": {},
     "output_type": "execute_result"
    }
   ],
   "source": [
    "#QUIERO VER SI ESAS FILAS DUPLICADAS REALMENTE SON IGUALES COMPARANDOLAS CON EL TIPO\n",
    "dupli.sort_values(by=['Name', 'Type'])"
   ]
  },
  {
   "cell_type": "code",
   "execution_count": 1467,
   "metadata": {},
   "outputs": [],
   "source": [
    "#AHORA QUE VOY A MODIFICAR COSAS VOY A HACER UN COPY PARA NO ALTERAR MI BASE DE DATOS INICIAL\n",
    "anime_copia = anime.copy()"
   ]
  },
  {
   "cell_type": "code",
   "execution_count": 1468,
   "metadata": {},
   "outputs": [],
   "source": [
    "#HE COMPROBADO QUE DOS SON IGUALES ASI QUE VOY A ELIMINAR ESOS DOS. los animes con los indices 14938 y el 14937 los voy a eliminar \n",
    "indices = [14938, 14937]  \n",
    "\n",
    "#reiniciar los indices y eliminar los indices antiguos\n",
    "anime_copia.reset_index(drop=True, inplace=True)\n",
    "anime_copia.drop(indices, inplace=True)"
   ]
  },
  {
   "cell_type": "code",
   "execution_count": 1469,
   "metadata": {},
   "outputs": [
    {
     "data": {
      "text/plain": [
       "1"
      ]
     },
     "execution_count": 1469,
     "metadata": {},
     "output_type": "execute_result"
    }
   ],
   "source": [
    "#COMPROBAR SI SE HA BORRADO CORRECTAMENTE LOS VALORES DUPLICADOS \n",
    "anime_copia[\"Name\"].duplicated().sum()"
   ]
  },
  {
   "cell_type": "code",
   "execution_count": 1470,
   "metadata": {},
   "outputs": [
    {
     "data": {
      "text/html": [
       "<div>\n",
       "<style scoped>\n",
       "    .dataframe tbody tr th:only-of-type {\n",
       "        vertical-align: middle;\n",
       "    }\n",
       "\n",
       "    .dataframe tbody tr th {\n",
       "        vertical-align: top;\n",
       "    }\n",
       "\n",
       "    .dataframe thead th {\n",
       "        text-align: right;\n",
       "    }\n",
       "</style>\n",
       "<table border=\"1\" class=\"dataframe\">\n",
       "  <thead>\n",
       "    <tr style=\"text-align: right;\">\n",
       "      <th></th>\n",
       "      <th>anime_id</th>\n",
       "      <th>Name</th>\n",
       "      <th>Score</th>\n",
       "      <th>Genres</th>\n",
       "      <th>English name</th>\n",
       "      <th>Japanese name</th>\n",
       "      <th>sypnopsis</th>\n",
       "      <th>Type</th>\n",
       "      <th>Episodes</th>\n",
       "      <th>Aired</th>\n",
       "      <th>...</th>\n",
       "      <th>Duration</th>\n",
       "      <th>Rating</th>\n",
       "      <th>Ranked</th>\n",
       "      <th>Popularity</th>\n",
       "      <th>Members</th>\n",
       "      <th>Favorites</th>\n",
       "      <th>Watching</th>\n",
       "      <th>Completed</th>\n",
       "      <th>On-Hold</th>\n",
       "      <th>Dropped</th>\n",
       "    </tr>\n",
       "  </thead>\n",
       "  <tbody>\n",
       "    <tr>\n",
       "      <th>11880</th>\n",
       "      <td>35102</td>\n",
       "      <td>Hinamatsuri</td>\n",
       "      <td>6.79</td>\n",
       "      <td>Historical, Kids</td>\n",
       "      <td>Unknown</td>\n",
       "      <td>ひなまつり</td>\n",
       "      <td>ducational anime about the history and foundin...</td>\n",
       "      <td>OVA</td>\n",
       "      <td>1</td>\n",
       "      <td>Unknown</td>\n",
       "      <td>...</td>\n",
       "      <td>19 min.</td>\n",
       "      <td>G - All Ages</td>\n",
       "      <td>4486.0</td>\n",
       "      <td>10044</td>\n",
       "      <td>1201</td>\n",
       "      <td>2</td>\n",
       "      <td>52</td>\n",
       "      <td>399</td>\n",
       "      <td>17</td>\n",
       "      <td>92</td>\n",
       "    </tr>\n",
       "    <tr>\n",
       "      <th>12365</th>\n",
       "      <td>36296</td>\n",
       "      <td>Hinamatsuri</td>\n",
       "      <td>8.21</td>\n",
       "      <td>Comedy, Sci-Fi, Seinen, Slice of Life, Superna...</td>\n",
       "      <td>Hinamatsuri</td>\n",
       "      <td>ヒナまつり</td>\n",
       "      <td>hile reveling in the successful clinching of a...</td>\n",
       "      <td>TV</td>\n",
       "      <td>12</td>\n",
       "      <td>Apr 6, 2018 to Jun 22, 2018</td>\n",
       "      <td>...</td>\n",
       "      <td>23 min. per ep.</td>\n",
       "      <td>PG-13 - Teens 13 or older</td>\n",
       "      <td>298.0</td>\n",
       "      <td>391</td>\n",
       "      <td>347326</td>\n",
       "      <td>3265</td>\n",
       "      <td>27757</td>\n",
       "      <td>209253</td>\n",
       "      <td>9457</td>\n",
       "      <td>7827</td>\n",
       "    </tr>\n",
       "  </tbody>\n",
       "</table>\n",
       "<p>2 rows × 25 columns</p>\n",
       "</div>"
      ],
      "text/plain": [
       "       anime_id         Name  Score  \\\n",
       "11880     35102  Hinamatsuri   6.79   \n",
       "12365     36296  Hinamatsuri   8.21   \n",
       "\n",
       "                                                  Genres English name  \\\n",
       "11880                                   Historical, Kids      Unknown   \n",
       "12365  Comedy, Sci-Fi, Seinen, Slice of Life, Superna...  Hinamatsuri   \n",
       "\n",
       "      Japanese name                                          sypnopsis Type  \\\n",
       "11880         ひなまつり  ducational anime about the history and foundin...  OVA   \n",
       "12365         ヒナまつり  hile reveling in the successful clinching of a...   TV   \n",
       "\n",
       "      Episodes                        Aired  ...         Duration  \\\n",
       "11880        1                      Unknown  ...          19 min.   \n",
       "12365       12  Apr 6, 2018 to Jun 22, 2018  ...  23 min. per ep.   \n",
       "\n",
       "                          Rating  Ranked Popularity Members Favorites  \\\n",
       "11880               G - All Ages  4486.0      10044    1201         2   \n",
       "12365  PG-13 - Teens 13 or older   298.0        391  347326      3265   \n",
       "\n",
       "      Watching  Completed  On-Hold  Dropped  \n",
       "11880       52        399       17       92  \n",
       "12365    27757     209253     9457     7827  \n",
       "\n",
       "[2 rows x 25 columns]"
      ]
     },
     "execution_count": 1470,
     "metadata": {},
     "output_type": "execute_result"
    }
   ],
   "source": [
    "#COMPROBAR LOS QUE NO HE ELIMINADO\n",
    "anime_copia[anime_copia.duplicated(subset='Name', keep=False)]\n",
    "\n",
    "\n",
    "#preguntar a Ronald por que se ha eliminado el otro si solo queria eliminar 2"
   ]
  },
  {
   "cell_type": "markdown",
   "metadata": {},
   "source": [
    "#### <span style=\"color:#2874A6\"> C - Eliminar lo que no me interesa </span> "
   ]
  },
  {
   "cell_type": "markdown",
   "metadata": {},
   "source": [
    "##### <span style=\"color:#76D7C4\"> C1 - Eliminar columnas que no me interesan </span>   "
   ]
  },
  {
   "cell_type": "code",
   "execution_count": 1471,
   "metadata": {},
   "outputs": [],
   "source": [
    "#BORRAR ESTAS COLUMNAS YA QUE DESDE MI PUNTO DE VISTA SON INNECESARIAS PARA EL ANALISIS QUE VOY A HACER\n",
    "anime_copia.drop([\"English name\",\"Japanese name\", \"sypnopsis\", \"On-Hold\",\"anime_id\"], axis=1, inplace=True)"
   ]
  },
  {
   "cell_type": "code",
   "execution_count": 1472,
   "metadata": {},
   "outputs": [
    {
     "data": {
      "text/html": [
       "<div>\n",
       "<style scoped>\n",
       "    .dataframe tbody tr th:only-of-type {\n",
       "        vertical-align: middle;\n",
       "    }\n",
       "\n",
       "    .dataframe tbody tr th {\n",
       "        vertical-align: top;\n",
       "    }\n",
       "\n",
       "    .dataframe thead th {\n",
       "        text-align: right;\n",
       "    }\n",
       "</style>\n",
       "<table border=\"1\" class=\"dataframe\">\n",
       "  <thead>\n",
       "    <tr style=\"text-align: right;\">\n",
       "      <th></th>\n",
       "      <th>Name</th>\n",
       "      <th>Score</th>\n",
       "      <th>Genres</th>\n",
       "      <th>Type</th>\n",
       "      <th>Episodes</th>\n",
       "      <th>Aired</th>\n",
       "      <th>Premiered</th>\n",
       "      <th>Producers</th>\n",
       "      <th>Licensors</th>\n",
       "      <th>Studios</th>\n",
       "      <th>Source</th>\n",
       "      <th>Duration</th>\n",
       "      <th>Rating</th>\n",
       "      <th>Ranked</th>\n",
       "      <th>Popularity</th>\n",
       "      <th>Members</th>\n",
       "      <th>Favorites</th>\n",
       "      <th>Watching</th>\n",
       "      <th>Completed</th>\n",
       "      <th>Dropped</th>\n",
       "    </tr>\n",
       "  </thead>\n",
       "  <tbody>\n",
       "    <tr>\n",
       "      <th>0</th>\n",
       "      <td>Cowboy Bebop</td>\n",
       "      <td>8.78</td>\n",
       "      <td>Action, Adventure, Comedy, Drama, Sci-Fi, Space</td>\n",
       "      <td>TV</td>\n",
       "      <td>26</td>\n",
       "      <td>Apr 3, 1998 to Apr 24, 1999</td>\n",
       "      <td>Spring 1998</td>\n",
       "      <td>Bandai Visual</td>\n",
       "      <td>Funimation, Bandai Entertainment</td>\n",
       "      <td>Sunrise</td>\n",
       "      <td>Original</td>\n",
       "      <td>24 min. per ep.</td>\n",
       "      <td>R - 17+ (violence &amp; profanity)</td>\n",
       "      <td>28.0</td>\n",
       "      <td>39</td>\n",
       "      <td>1251960</td>\n",
       "      <td>61971</td>\n",
       "      <td>105808</td>\n",
       "      <td>718161</td>\n",
       "      <td>26678</td>\n",
       "    </tr>\n",
       "  </tbody>\n",
       "</table>\n",
       "</div>"
      ],
      "text/plain": [
       "           Name  Score                                           Genres Type  \\\n",
       "0  Cowboy Bebop   8.78  Action, Adventure, Comedy, Drama, Sci-Fi, Space   TV   \n",
       "\n",
       "  Episodes                        Aired    Premiered      Producers  \\\n",
       "0       26  Apr 3, 1998 to Apr 24, 1999  Spring 1998  Bandai Visual   \n",
       "\n",
       "                          Licensors  Studios    Source         Duration  \\\n",
       "0  Funimation, Bandai Entertainment  Sunrise  Original  24 min. per ep.   \n",
       "\n",
       "                           Rating  Ranked  Popularity  Members  Favorites  \\\n",
       "0  R - 17+ (violence & profanity)    28.0          39  1251960      61971   \n",
       "\n",
       "   Watching  Completed  Dropped  \n",
       "0    105808     718161    26678  "
      ]
     },
     "execution_count": 1472,
     "metadata": {},
     "output_type": "execute_result"
    }
   ],
   "source": [
    "#COMPROBAR SI SE HAN ELIMINADO CORRECTAMENTE\n",
    "anime_copia.head(1)"
   ]
  },
  {
   "cell_type": "markdown",
   "metadata": {},
   "source": [
    "##### <span style=\"color:#76D7C4\">C2 - Eliminar filas con nan: </span>    "
   ]
  },
  {
   "cell_type": "code",
   "execution_count": 1473,
   "metadata": {},
   "outputs": [],
   "source": [
    "#EN LA COLUMNA RANCKED HAY VARIOS NAN, ASI QUE VOY A ELIMINAR ESAS FILAS\n",
    "anime_copia = anime_copia.dropna(subset=[\"Ranked\"])"
   ]
  },
  {
   "cell_type": "code",
   "execution_count": 1474,
   "metadata": {},
   "outputs": [
    {
     "data": {
      "text/plain": [
       "(13231, 20)"
      ]
     },
     "execution_count": 1474,
     "metadata": {},
     "output_type": "execute_result"
    }
   ],
   "source": [
    "#COMPROBAR SI ESAS FILAS SE HAN ELIMINADO\n",
    "anime_copia.shape"
   ]
  },
  {
   "cell_type": "code",
   "execution_count": 1475,
   "metadata": {},
   "outputs": [
    {
     "data": {
      "text/plain": [
       "0"
      ]
     },
     "execution_count": 1475,
     "metadata": {},
     "output_type": "execute_result"
    }
   ],
   "source": [
    "#VER SI LOS VALORES NULOS SE HAN ELIMINADO\n",
    "anime_copia.isnull().sum().sum() "
   ]
  },
  {
   "cell_type": "markdown",
   "metadata": {},
   "source": [
    "##### <span style=\"color:#76D7C4\"> C3 - Quitar los tipos de animes que no me interesa analizar: </span> "
   ]
  },
  {
   "cell_type": "code",
   "execution_count": 1476,
   "metadata": {},
   "outputs": [
    {
     "data": {
      "text/plain": [
       "array(['TV', 'Movie', 'OVA', 'Special', 'ONA', 'Music'], dtype=object)"
      ]
     },
     "execution_count": 1476,
     "metadata": {},
     "output_type": "execute_result"
    }
   ],
   "source": [
    "#COMPROBAR LA COLUMNA TYPE\n",
    "anime_copia[\"Type\"].unique()"
   ]
  },
  {
   "cell_type": "markdown",
   "metadata": {},
   "source": [
    "           No me interesa analizar ONA, MUSIC Y SPECIAL"
   ]
  },
  {
   "cell_type": "code",
   "execution_count": 1477,
   "metadata": {},
   "outputs": [],
   "source": [
    "#QUIRAR LA COLUMNA MUSIC, ONA Y SPECIAL YA QUE NO QUIERO QUE ESTE EN EL ANALISIS.\n",
    "anime_copia = anime_copia[(anime_copia[\"Type\"] != \"Music\") & ((anime_copia[\"Type\"] != \"ONA\") & (anime_copia[\"Type\"] != \"Special\"))].reset_index(drop=True)"
   ]
  },
  {
   "cell_type": "markdown",
   "metadata": {},
   "source": [
    "<span style=\"color:#76D7C4\"> Comprobar columna: </span>  "
   ]
  },
  {
   "cell_type": "code",
   "execution_count": 1478,
   "metadata": {},
   "outputs": [
    {
     "data": {
      "text/plain": [
       "(9060, 20)"
      ]
     },
     "execution_count": 1478,
     "metadata": {},
     "output_type": "execute_result"
    }
   ],
   "source": [
    "#COMPRUEBO FILAS Y COLUMNAS OTRA VEZ\n",
    "anime_copia.shape"
   ]
  },
  {
   "cell_type": "code",
   "execution_count": 1479,
   "metadata": {},
   "outputs": [
    {
     "data": {
      "text/plain": [
       "array(['TV', 'Movie', 'OVA'], dtype=object)"
      ]
     },
     "execution_count": 1479,
     "metadata": {},
     "output_type": "execute_result"
    }
   ],
   "source": [
    "#COMPRUEBO QUE YA NO ESTAN EN TYPE\n",
    "anime_copia[\"Type\"].unique()"
   ]
  },
  {
   "cell_type": "markdown",
   "metadata": {},
   "source": [
    "#### <span style=\"color:#2874A6\"> D - Arreglar las filas con los valores en forma de listas </span> "
   ]
  },
  {
   "cell_type": "markdown",
   "metadata": {},
   "source": [
    "##### <span style=\"color:#76D7C4\"> D1 - Columna generos </span> "
   ]
  },
  {
   "cell_type": "markdown",
   "metadata": {},
   "source": [
    "     Los generos de cada fila vienen en listas, asi que voy a separarlos haciendo un dummy"
   ]
  },
  {
   "cell_type": "code",
   "execution_count": 1480,
   "metadata": {},
   "outputs": [],
   "source": [
    "#HAGO UNA FUNCION LAMBDA CON SPLIT PARA SEPARAR LOS GENEROS DE UNA LISTA DE GENEROS\n",
    "anime_copia[\"Genres\"] = anime_copia[\"Genres\"].apply(lambda x: x.split(', '))\n",
    "\n",
    "\n",
    "\n",
    "#HACER UNA VARIABLE DUMMY PARA DIVIDIR LOS GENEROS EN UN DATAFRAME\n",
    "generos = pd.get_dummies(anime_copia[\"Genres\"].apply(pd.Series).stack(), prefix=\"Genre\").groupby(level=0).max()\n"
   ]
  },
  {
   "cell_type": "code",
   "execution_count": 1481,
   "metadata": {},
   "outputs": [
    {
     "data": {
      "text/html": [
       "<div>\n",
       "<style scoped>\n",
       "    .dataframe tbody tr th:only-of-type {\n",
       "        vertical-align: middle;\n",
       "    }\n",
       "\n",
       "    .dataframe tbody tr th {\n",
       "        vertical-align: top;\n",
       "    }\n",
       "\n",
       "    .dataframe thead th {\n",
       "        text-align: right;\n",
       "    }\n",
       "</style>\n",
       "<table border=\"1\" class=\"dataframe\">\n",
       "  <thead>\n",
       "    <tr style=\"text-align: right;\">\n",
       "      <th></th>\n",
       "      <th>Genre_Action</th>\n",
       "      <th>Genre_Adventure</th>\n",
       "      <th>Genre_Cars</th>\n",
       "      <th>Genre_Comedy</th>\n",
       "      <th>Genre_Dementia</th>\n",
       "      <th>Genre_Demons</th>\n",
       "      <th>Genre_Drama</th>\n",
       "      <th>Genre_Ecchi</th>\n",
       "      <th>Genre_Fantasy</th>\n",
       "      <th>Genre_Game</th>\n",
       "      <th>...</th>\n",
       "      <th>Genre_Shounen</th>\n",
       "      <th>Genre_Shounen Ai</th>\n",
       "      <th>Genre_Slice of Life</th>\n",
       "      <th>Genre_Space</th>\n",
       "      <th>Genre_Sports</th>\n",
       "      <th>Genre_Super Power</th>\n",
       "      <th>Genre_Supernatural</th>\n",
       "      <th>Genre_Thriller</th>\n",
       "      <th>Genre_Unknown</th>\n",
       "      <th>Genre_Vampire</th>\n",
       "    </tr>\n",
       "  </thead>\n",
       "  <tbody>\n",
       "    <tr>\n",
       "      <th>0</th>\n",
       "      <td>True</td>\n",
       "      <td>True</td>\n",
       "      <td>False</td>\n",
       "      <td>True</td>\n",
       "      <td>False</td>\n",
       "      <td>False</td>\n",
       "      <td>True</td>\n",
       "      <td>False</td>\n",
       "      <td>False</td>\n",
       "      <td>False</td>\n",
       "      <td>...</td>\n",
       "      <td>False</td>\n",
       "      <td>False</td>\n",
       "      <td>False</td>\n",
       "      <td>True</td>\n",
       "      <td>False</td>\n",
       "      <td>False</td>\n",
       "      <td>False</td>\n",
       "      <td>False</td>\n",
       "      <td>False</td>\n",
       "      <td>False</td>\n",
       "    </tr>\n",
       "    <tr>\n",
       "      <th>1</th>\n",
       "      <td>True</td>\n",
       "      <td>False</td>\n",
       "      <td>False</td>\n",
       "      <td>False</td>\n",
       "      <td>False</td>\n",
       "      <td>False</td>\n",
       "      <td>True</td>\n",
       "      <td>False</td>\n",
       "      <td>False</td>\n",
       "      <td>False</td>\n",
       "      <td>...</td>\n",
       "      <td>False</td>\n",
       "      <td>False</td>\n",
       "      <td>False</td>\n",
       "      <td>True</td>\n",
       "      <td>False</td>\n",
       "      <td>False</td>\n",
       "      <td>False</td>\n",
       "      <td>False</td>\n",
       "      <td>False</td>\n",
       "      <td>False</td>\n",
       "    </tr>\n",
       "    <tr>\n",
       "      <th>2</th>\n",
       "      <td>True</td>\n",
       "      <td>True</td>\n",
       "      <td>False</td>\n",
       "      <td>True</td>\n",
       "      <td>False</td>\n",
       "      <td>False</td>\n",
       "      <td>True</td>\n",
       "      <td>False</td>\n",
       "      <td>False</td>\n",
       "      <td>False</td>\n",
       "      <td>...</td>\n",
       "      <td>True</td>\n",
       "      <td>False</td>\n",
       "      <td>False</td>\n",
       "      <td>False</td>\n",
       "      <td>False</td>\n",
       "      <td>False</td>\n",
       "      <td>False</td>\n",
       "      <td>False</td>\n",
       "      <td>False</td>\n",
       "      <td>False</td>\n",
       "    </tr>\n",
       "    <tr>\n",
       "      <th>3</th>\n",
       "      <td>True</td>\n",
       "      <td>False</td>\n",
       "      <td>False</td>\n",
       "      <td>False</td>\n",
       "      <td>False</td>\n",
       "      <td>False</td>\n",
       "      <td>True</td>\n",
       "      <td>False</td>\n",
       "      <td>False</td>\n",
       "      <td>False</td>\n",
       "      <td>...</td>\n",
       "      <td>False</td>\n",
       "      <td>False</td>\n",
       "      <td>False</td>\n",
       "      <td>False</td>\n",
       "      <td>False</td>\n",
       "      <td>False</td>\n",
       "      <td>True</td>\n",
       "      <td>False</td>\n",
       "      <td>False</td>\n",
       "      <td>False</td>\n",
       "    </tr>\n",
       "    <tr>\n",
       "      <th>4</th>\n",
       "      <td>False</td>\n",
       "      <td>True</td>\n",
       "      <td>False</td>\n",
       "      <td>False</td>\n",
       "      <td>False</td>\n",
       "      <td>False</td>\n",
       "      <td>False</td>\n",
       "      <td>False</td>\n",
       "      <td>True</td>\n",
       "      <td>False</td>\n",
       "      <td>...</td>\n",
       "      <td>True</td>\n",
       "      <td>False</td>\n",
       "      <td>False</td>\n",
       "      <td>False</td>\n",
       "      <td>False</td>\n",
       "      <td>False</td>\n",
       "      <td>True</td>\n",
       "      <td>False</td>\n",
       "      <td>False</td>\n",
       "      <td>False</td>\n",
       "    </tr>\n",
       "  </tbody>\n",
       "</table>\n",
       "<p>5 rows × 41 columns</p>\n",
       "</div>"
      ],
      "text/plain": [
       "   Genre_Action  Genre_Adventure  Genre_Cars  Genre_Comedy  Genre_Dementia  \\\n",
       "0          True             True       False          True           False   \n",
       "1          True            False       False         False           False   \n",
       "2          True             True       False          True           False   \n",
       "3          True            False       False         False           False   \n",
       "4         False             True       False         False           False   \n",
       "\n",
       "   Genre_Demons  Genre_Drama  Genre_Ecchi  Genre_Fantasy  Genre_Game  ...  \\\n",
       "0         False         True        False          False       False  ...   \n",
       "1         False         True        False          False       False  ...   \n",
       "2         False         True        False          False       False  ...   \n",
       "3         False         True        False          False       False  ...   \n",
       "4         False        False        False           True       False  ...   \n",
       "\n",
       "   Genre_Shounen  Genre_Shounen Ai  Genre_Slice of Life  Genre_Space  \\\n",
       "0          False             False                False         True   \n",
       "1          False             False                False         True   \n",
       "2           True             False                False        False   \n",
       "3          False             False                False        False   \n",
       "4           True             False                False        False   \n",
       "\n",
       "   Genre_Sports  Genre_Super Power  Genre_Supernatural  Genre_Thriller  \\\n",
       "0         False              False               False           False   \n",
       "1         False              False               False           False   \n",
       "2         False              False               False           False   \n",
       "3         False              False                True           False   \n",
       "4         False              False                True           False   \n",
       "\n",
       "   Genre_Unknown  Genre_Vampire  \n",
       "0          False          False  \n",
       "1          False          False  \n",
       "2          False          False  \n",
       "3          False          False  \n",
       "4          False          False  \n",
       "\n",
       "[5 rows x 41 columns]"
      ]
     },
     "execution_count": 1481,
     "metadata": {},
     "output_type": "execute_result"
    }
   ],
   "source": [
    "generos.head()"
   ]
  },
  {
   "cell_type": "code",
   "execution_count": 1482,
   "metadata": {},
   "outputs": [],
   "source": [
    "#NO ME GUSTA QUE TENGA \"Genre_\" EN EL NOMBRE DE LA COLUMNA ASI QUE LO VOY A MODIFICAR CON UN LAMBDA\n",
    "generos = generos.rename(columns=lambda x: x.replace(\"Genre_\", \"\"))"
   ]
  },
  {
   "cell_type": "code",
   "execution_count": 1483,
   "metadata": {},
   "outputs": [
    {
     "data": {
      "text/html": [
       "<div>\n",
       "<style scoped>\n",
       "    .dataframe tbody tr th:only-of-type {\n",
       "        vertical-align: middle;\n",
       "    }\n",
       "\n",
       "    .dataframe tbody tr th {\n",
       "        vertical-align: top;\n",
       "    }\n",
       "\n",
       "    .dataframe thead th {\n",
       "        text-align: right;\n",
       "    }\n",
       "</style>\n",
       "<table border=\"1\" class=\"dataframe\">\n",
       "  <thead>\n",
       "    <tr style=\"text-align: right;\">\n",
       "      <th></th>\n",
       "      <th>Action</th>\n",
       "      <th>Adventure</th>\n",
       "      <th>Cars</th>\n",
       "      <th>Comedy</th>\n",
       "      <th>Dementia</th>\n",
       "      <th>Demons</th>\n",
       "      <th>Drama</th>\n",
       "      <th>Ecchi</th>\n",
       "      <th>Fantasy</th>\n",
       "      <th>Game</th>\n",
       "      <th>...</th>\n",
       "      <th>Shounen</th>\n",
       "      <th>Shounen Ai</th>\n",
       "      <th>Slice of Life</th>\n",
       "      <th>Space</th>\n",
       "      <th>Sports</th>\n",
       "      <th>Super Power</th>\n",
       "      <th>Supernatural</th>\n",
       "      <th>Thriller</th>\n",
       "      <th>Unknown</th>\n",
       "      <th>Vampire</th>\n",
       "    </tr>\n",
       "  </thead>\n",
       "  <tbody>\n",
       "    <tr>\n",
       "      <th>0</th>\n",
       "      <td>True</td>\n",
       "      <td>True</td>\n",
       "      <td>False</td>\n",
       "      <td>True</td>\n",
       "      <td>False</td>\n",
       "      <td>False</td>\n",
       "      <td>True</td>\n",
       "      <td>False</td>\n",
       "      <td>False</td>\n",
       "      <td>False</td>\n",
       "      <td>...</td>\n",
       "      <td>False</td>\n",
       "      <td>False</td>\n",
       "      <td>False</td>\n",
       "      <td>True</td>\n",
       "      <td>False</td>\n",
       "      <td>False</td>\n",
       "      <td>False</td>\n",
       "      <td>False</td>\n",
       "      <td>False</td>\n",
       "      <td>False</td>\n",
       "    </tr>\n",
       "  </tbody>\n",
       "</table>\n",
       "<p>1 rows × 41 columns</p>\n",
       "</div>"
      ],
      "text/plain": [
       "   Action  Adventure   Cars  Comedy  Dementia  Demons  Drama  Ecchi  Fantasy  \\\n",
       "0    True       True  False    True     False   False   True  False    False   \n",
       "\n",
       "    Game  ...  Shounen  Shounen Ai  Slice of Life  Space  Sports  Super Power  \\\n",
       "0  False  ...    False       False          False   True   False        False   \n",
       "\n",
       "   Supernatural  Thriller  Unknown  Vampire  \n",
       "0         False     False    False    False  \n",
       "\n",
       "[1 rows x 41 columns]"
      ]
     },
     "execution_count": 1483,
     "metadata": {},
     "output_type": "execute_result"
    }
   ],
   "source": [
    "#COMPRUEBO QUE SE HA MODIFICADO\n",
    "generos.head(1)"
   ]
  },
  {
   "cell_type": "code",
   "execution_count": 1484,
   "metadata": {},
   "outputs": [
    {
     "data": {
      "image/png": "[encoded data removed]",
      "text/plain": [
       "<Figure size 800x800 with 1 Axes>"
      ]
     },
     "metadata": {},
     "output_type": "display_data"
    }
   ],
   "source": [
    "#QUIERO VISUALIZAR LOS GENEROS CREANDO UN GRAFICO\n",
    "grafico_gen = generos.sum()\n",
    "\n",
    "plt.figure(figsize=(8, 8))\n",
    "sns.set_style(\"darkgrid\")\n",
    "ax = sns.barplot(x=grafico_gen.values, y=grafico_gen.index, hue=grafico_gen.index, palette=\"viridis\", dodge=False)\n",
    "plt.title(\"Géneros de Anime\", color = \"Grey\", fontsize = 25)\n",
    "plt.xlabel(\"Número de Animes\", color = \"Grey\", fontsize = 15)\n",
    "plt.ylabel(\"Géneros\", color = \"Grey\", fontsize = 15)\n",
    "\n",
    "plt.tight_layout()\n",
    "plt.show()"
   ]
  },
  {
   "cell_type": "markdown",
   "metadata": {},
   "source": [
    "##### <span style=\"color:#76D7C4\"> D2 - Columna Aired </span> "
   ]
  },
  {
   "cell_type": "code",
   "execution_count": 1485,
   "metadata": {},
   "outputs": [
    {
     "data": {
      "text/plain": [
       "0      Apr 3, 1998 to Apr 24, 1999\n",
       "1                      Sep 1, 2001\n",
       "2      Apr 1, 1998 to Sep 30, 1998\n",
       "3      Jul 2, 2002 to Dec 24, 2002\n",
       "4     Sep 30, 2004 to Sep 29, 2005\n",
       "5      Apr 6, 2005 to Mar 19, 2008\n",
       "6     Apr 15, 2005 to Sep 27, 2005\n",
       "7     Sep 11, 2002 to Sep 10, 2003\n",
       "8     Apr 17, 2004 to Feb 18, 2006\n",
       "9      Apr 7, 2004 to Sep 28, 2005\n",
       "10      Oct 3, 2002 to Feb 8, 2007\n",
       "11               Oct 20, 1999 to ?\n",
       "12    Oct 10, 2001 to Mar 23, 2005\n",
       "13     Oct 6, 2004 to Dec 15, 2004\n",
       "14     Oct 5, 2004 to Mar 29, 2005\n",
       "15     Oct 6, 2004 to Mar 30, 2005\n",
       "16    Apr 17, 2003 to Sep 25, 2003\n",
       "17    Apr 29, 2005 to Oct 28, 2005\n",
       "18    Oct 12, 2004 to Mar 14, 2006\n",
       "19      Oct 8, 2004 to Apr 1, 2005\n",
       "20     Oct 4, 1995 to Mar 27, 1996\n",
       "21                    Mar 15, 1997\n",
       "22                    Jul 19, 1997\n",
       "23      Oct 8, 1997 to Apr 1, 1998\n",
       "24                    Nov 18, 1995\n",
       "25    Feb 20, 1999 to Sep 22, 1999\n",
       "26     Jan 10, 1996 to Sep 8, 1998\n",
       "27                    Dec 20, 1997\n",
       "28                    Jul 16, 1988\n",
       "29     Apr 4, 2002 to Sep 26, 2002\n",
       "30    Feb 21, 1993 to May 17, 1994\n",
       "31      Jan 7, 2005 to Jul 8, 2005\n",
       "32    May 25, 2000 to Aug 25, 2000\n",
       "33     Apr 1, 2001 to Sep 23, 2001\n",
       "34    Apr 11, 2002 to Sep 26, 2002\n",
       "35                    Apr 17, 2004\n",
       "36     Apr 5, 1999 to Sep 11, 1999\n",
       "37     Oct 2, 2003 to Dec 25, 2003\n",
       "38     Oct 7, 2004 to Mar 31, 2005\n",
       "39     Oct 8, 1999 to Mar 31, 2000\n",
       "40     Apr 3, 2002 to Sep 25, 2002\n",
       "41    Nov 25, 2003 to Jun 10, 2004\n",
       "42     Apr 3, 2003 to Sep 25, 2003\n",
       "43     Jul 5, 2003 to Dec 27, 2003\n",
       "44    Jul 11, 2004 to Sep 26, 2004\n",
       "45     Oct 8, 2004 to Dec 24, 2004\n",
       "46    Oct 21, 2005 to Jan 27, 2006\n",
       "47      Apr 9, 2002 to Oct 1, 2002\n",
       "48    Apr 13, 2005 to Sep 21, 2005\n",
       "49     Oct 7, 2005 to Mar 31, 2006\n",
       "Name: Aired, dtype: object"
      ]
     },
     "execution_count": 1485,
     "metadata": {},
     "output_type": "execute_result"
    }
   ],
   "source": [
    "#VER PARTE DEL CONTENIDO DE ESA COLUMNA\n",
    "anime_copia[\"Aired\"].head(50)"
   ]
  },
  {
   "cell_type": "markdown",
   "metadata": {},
   "source": [
    "     En la columna Aired quiero separar el mes y el año y ponerlo en dos columnas "
   ]
  },
  {
   "cell_type": "code",
   "execution_count": 1486,
   "metadata": {},
   "outputs": [],
   "source": [
    "#AQUI HE HECHO UN REGEX PARA SEPARAR PARTE DE AIRED Y PODER CREAR DOS COLUMNAS SEPARADAS DE MES Y AÑO\n",
    "anime_copia[\"Meses\"] = anime_copia[\"Aired\"].str.extract(r\"(\\w{3} \\d{1,2}, \\d{4})\")\n",
    "\n",
    "#SEPARAR LOS MESES Y Y METERLO EN UNA COLUMNA LLAMADA MES DE LANZAMIENTO\n",
    "anime_copia[\"Month Aired\"] = anime_copia[\"Meses\"].str.extract(r\"(\\w{3})\")\n",
    "#LO MISMO CON EL AÑO\n",
    "anime_copia[\"Year Aired\"] = anime_copia[\"Meses\"].str.extract(r\", (\\d{4})\")\n"
   ]
  },
  {
   "cell_type": "code",
   "execution_count": 1487,
   "metadata": {},
   "outputs": [
    {
     "data": {
      "text/html": [
       "<div>\n",
       "<style scoped>\n",
       "    .dataframe tbody tr th:only-of-type {\n",
       "        vertical-align: middle;\n",
       "    }\n",
       "\n",
       "    .dataframe tbody tr th {\n",
       "        vertical-align: top;\n",
       "    }\n",
       "\n",
       "    .dataframe thead th {\n",
       "        text-align: right;\n",
       "    }\n",
       "</style>\n",
       "<table border=\"1\" class=\"dataframe\">\n",
       "  <thead>\n",
       "    <tr style=\"text-align: right;\">\n",
       "      <th></th>\n",
       "      <th>Name</th>\n",
       "      <th>Score</th>\n",
       "      <th>Genres</th>\n",
       "      <th>Type</th>\n",
       "      <th>Episodes</th>\n",
       "      <th>Aired</th>\n",
       "      <th>Premiered</th>\n",
       "      <th>Producers</th>\n",
       "      <th>Licensors</th>\n",
       "      <th>Studios</th>\n",
       "      <th>...</th>\n",
       "      <th>Ranked</th>\n",
       "      <th>Popularity</th>\n",
       "      <th>Members</th>\n",
       "      <th>Favorites</th>\n",
       "      <th>Watching</th>\n",
       "      <th>Completed</th>\n",
       "      <th>Dropped</th>\n",
       "      <th>Meses</th>\n",
       "      <th>Month Aired</th>\n",
       "      <th>Year Aired</th>\n",
       "    </tr>\n",
       "  </thead>\n",
       "  <tbody>\n",
       "    <tr>\n",
       "      <th>0</th>\n",
       "      <td>Cowboy Bebop</td>\n",
       "      <td>8.78</td>\n",
       "      <td>[Action, Adventure, Comedy, Drama, Sci-Fi, Space]</td>\n",
       "      <td>TV</td>\n",
       "      <td>26</td>\n",
       "      <td>Apr 3, 1998 to Apr 24, 1999</td>\n",
       "      <td>Spring 1998</td>\n",
       "      <td>Bandai Visual</td>\n",
       "      <td>Funimation, Bandai Entertainment</td>\n",
       "      <td>Sunrise</td>\n",
       "      <td>...</td>\n",
       "      <td>28.0</td>\n",
       "      <td>39</td>\n",
       "      <td>1251960</td>\n",
       "      <td>61971</td>\n",
       "      <td>105808</td>\n",
       "      <td>718161</td>\n",
       "      <td>26678</td>\n",
       "      <td>Apr 3, 1998</td>\n",
       "      <td>Apr</td>\n",
       "      <td>1998</td>\n",
       "    </tr>\n",
       "    <tr>\n",
       "      <th>1</th>\n",
       "      <td>Cowboy Bebop: Tengoku no Tobira</td>\n",
       "      <td>8.39</td>\n",
       "      <td>[Action, Drama, Mystery, Sci-Fi, Space]</td>\n",
       "      <td>Movie</td>\n",
       "      <td>1</td>\n",
       "      <td>Sep 1, 2001</td>\n",
       "      <td>Unknown</td>\n",
       "      <td>Sunrise, Bandai Visual</td>\n",
       "      <td>Sony Pictures Entertainment</td>\n",
       "      <td>Bones</td>\n",
       "      <td>...</td>\n",
       "      <td>159.0</td>\n",
       "      <td>518</td>\n",
       "      <td>273145</td>\n",
       "      <td>1174</td>\n",
       "      <td>4143</td>\n",
       "      <td>208333</td>\n",
       "      <td>770</td>\n",
       "      <td>Sep 1, 2001</td>\n",
       "      <td>Sep</td>\n",
       "      <td>2001</td>\n",
       "    </tr>\n",
       "    <tr>\n",
       "      <th>2</th>\n",
       "      <td>Trigun</td>\n",
       "      <td>8.24</td>\n",
       "      <td>[Action, Sci-Fi, Adventure, Comedy, Drama, Sho...</td>\n",
       "      <td>TV</td>\n",
       "      <td>26</td>\n",
       "      <td>Apr 1, 1998 to Sep 30, 1998</td>\n",
       "      <td>Spring 1998</td>\n",
       "      <td>Victor Entertainment</td>\n",
       "      <td>Funimation, Geneon Entertainment USA</td>\n",
       "      <td>Madhouse</td>\n",
       "      <td>...</td>\n",
       "      <td>266.0</td>\n",
       "      <td>201</td>\n",
       "      <td>558913</td>\n",
       "      <td>12944</td>\n",
       "      <td>29113</td>\n",
       "      <td>343492</td>\n",
       "      <td>13925</td>\n",
       "      <td>Apr 1, 1998</td>\n",
       "      <td>Apr</td>\n",
       "      <td>1998</td>\n",
       "    </tr>\n",
       "  </tbody>\n",
       "</table>\n",
       "<p>3 rows × 23 columns</p>\n",
       "</div>"
      ],
      "text/plain": [
       "                              Name  Score  \\\n",
       "0                     Cowboy Bebop   8.78   \n",
       "1  Cowboy Bebop: Tengoku no Tobira   8.39   \n",
       "2                           Trigun   8.24   \n",
       "\n",
       "                                              Genres   Type Episodes  \\\n",
       "0  [Action, Adventure, Comedy, Drama, Sci-Fi, Space]     TV       26   \n",
       "1            [Action, Drama, Mystery, Sci-Fi, Space]  Movie        1   \n",
       "2  [Action, Sci-Fi, Adventure, Comedy, Drama, Sho...     TV       26   \n",
       "\n",
       "                         Aired    Premiered               Producers  \\\n",
       "0  Apr 3, 1998 to Apr 24, 1999  Spring 1998           Bandai Visual   \n",
       "1                  Sep 1, 2001      Unknown  Sunrise, Bandai Visual   \n",
       "2  Apr 1, 1998 to Sep 30, 1998  Spring 1998    Victor Entertainment   \n",
       "\n",
       "                              Licensors   Studios  ... Ranked Popularity  \\\n",
       "0      Funimation, Bandai Entertainment   Sunrise  ...   28.0         39   \n",
       "1           Sony Pictures Entertainment     Bones  ...  159.0        518   \n",
       "2  Funimation, Geneon Entertainment USA  Madhouse  ...  266.0        201   \n",
       "\n",
       "   Members  Favorites  Watching  Completed  Dropped        Meses  Month Aired  \\\n",
       "0  1251960      61971    105808     718161    26678  Apr 3, 1998          Apr   \n",
       "1   273145       1174      4143     208333      770  Sep 1, 2001          Sep   \n",
       "2   558913      12944     29113     343492    13925  Apr 1, 1998          Apr   \n",
       "\n",
       "   Year Aired  \n",
       "0        1998  \n",
       "1        2001  \n",
       "2        1998  \n",
       "\n",
       "[3 rows x 23 columns]"
      ]
     },
     "execution_count": 1487,
     "metadata": {},
     "output_type": "execute_result"
    }
   ],
   "source": [
    "#VER SI HA FUCIONADO \n",
    "anime_copia.head(3)"
   ]
  },
  {
   "cell_type": "markdown",
   "metadata": {},
   "source": [
    "     Ahora tengo unas columnas que sobran que son Aired y Meses"
   ]
  },
  {
   "cell_type": "code",
   "execution_count": 1488,
   "metadata": {},
   "outputs": [],
   "source": [
    "#ELIMINAR LAS COLUMNAS AIRED Y MESES\n",
    "anime_copia.drop(columns=[\"Aired\",\"Meses\"], inplace=True)"
   ]
  },
  {
   "cell_type": "code",
   "execution_count": 1489,
   "metadata": {},
   "outputs": [],
   "source": [
    "#COMO NO QUIERO QUE MES Y AÑO SEAN LAS ULTIMAS COLUMNAS VOY A CAMBIARLAS DE SITIO\n",
    "\n",
    "#AQUI HAGO UN POP PARA LUEGO PODER INSERTARLO EN LA POSICION QUE QUIERA Y NO SEA LA ULTIMA COLUMNA, NO ME DEJABA SIN EL POP\n",
    "mes = anime_copia.pop(\"Month Aired\")\n",
    "anime_copia.insert(5, \"Month Aired\", mes)"
   ]
  },
  {
   "cell_type": "code",
   "execution_count": 1490,
   "metadata": {},
   "outputs": [],
   "source": [
    "#LO PONGO EN LA POSICION DE AL LADO DE MES DE LANZAMIENTO\n",
    "year = anime_copia.pop(\"Year Aired\")\n",
    "anime_copia.insert(6, \"Year Aired\", year)"
   ]
  },
  {
   "cell_type": "code",
   "execution_count": 1491,
   "metadata": {},
   "outputs": [
    {
     "data": {
      "text/html": [
       "<div>\n",
       "<style scoped>\n",
       "    .dataframe tbody tr th:only-of-type {\n",
       "        vertical-align: middle;\n",
       "    }\n",
       "\n",
       "    .dataframe tbody tr th {\n",
       "        vertical-align: top;\n",
       "    }\n",
       "\n",
       "    .dataframe thead th {\n",
       "        text-align: right;\n",
       "    }\n",
       "</style>\n",
       "<table border=\"1\" class=\"dataframe\">\n",
       "  <thead>\n",
       "    <tr style=\"text-align: right;\">\n",
       "      <th></th>\n",
       "      <th>Name</th>\n",
       "      <th>Score</th>\n",
       "      <th>Genres</th>\n",
       "      <th>Type</th>\n",
       "      <th>Episodes</th>\n",
       "      <th>Month Aired</th>\n",
       "      <th>Year Aired</th>\n",
       "      <th>Premiered</th>\n",
       "      <th>Producers</th>\n",
       "      <th>Licensors</th>\n",
       "      <th>...</th>\n",
       "      <th>Source</th>\n",
       "      <th>Duration</th>\n",
       "      <th>Rating</th>\n",
       "      <th>Ranked</th>\n",
       "      <th>Popularity</th>\n",
       "      <th>Members</th>\n",
       "      <th>Favorites</th>\n",
       "      <th>Watching</th>\n",
       "      <th>Completed</th>\n",
       "      <th>Dropped</th>\n",
       "    </tr>\n",
       "  </thead>\n",
       "  <tbody>\n",
       "    <tr>\n",
       "      <th>0</th>\n",
       "      <td>Cowboy Bebop</td>\n",
       "      <td>8.78</td>\n",
       "      <td>[Action, Adventure, Comedy, Drama, Sci-Fi, Space]</td>\n",
       "      <td>TV</td>\n",
       "      <td>26</td>\n",
       "      <td>Apr</td>\n",
       "      <td>1998</td>\n",
       "      <td>Spring 1998</td>\n",
       "      <td>Bandai Visual</td>\n",
       "      <td>Funimation, Bandai Entertainment</td>\n",
       "      <td>...</td>\n",
       "      <td>Original</td>\n",
       "      <td>24 min. per ep.</td>\n",
       "      <td>R - 17+ (violence &amp; profanity)</td>\n",
       "      <td>28.0</td>\n",
       "      <td>39</td>\n",
       "      <td>1251960</td>\n",
       "      <td>61971</td>\n",
       "      <td>105808</td>\n",
       "      <td>718161</td>\n",
       "      <td>26678</td>\n",
       "    </tr>\n",
       "    <tr>\n",
       "      <th>1</th>\n",
       "      <td>Cowboy Bebop: Tengoku no Tobira</td>\n",
       "      <td>8.39</td>\n",
       "      <td>[Action, Drama, Mystery, Sci-Fi, Space]</td>\n",
       "      <td>Movie</td>\n",
       "      <td>1</td>\n",
       "      <td>Sep</td>\n",
       "      <td>2001</td>\n",
       "      <td>Unknown</td>\n",
       "      <td>Sunrise, Bandai Visual</td>\n",
       "      <td>Sony Pictures Entertainment</td>\n",
       "      <td>...</td>\n",
       "      <td>Original</td>\n",
       "      <td>1 hr. 55 min.</td>\n",
       "      <td>R - 17+ (violence &amp; profanity)</td>\n",
       "      <td>159.0</td>\n",
       "      <td>518</td>\n",
       "      <td>273145</td>\n",
       "      <td>1174</td>\n",
       "      <td>4143</td>\n",
       "      <td>208333</td>\n",
       "      <td>770</td>\n",
       "    </tr>\n",
       "    <tr>\n",
       "      <th>2</th>\n",
       "      <td>Trigun</td>\n",
       "      <td>8.24</td>\n",
       "      <td>[Action, Sci-Fi, Adventure, Comedy, Drama, Sho...</td>\n",
       "      <td>TV</td>\n",
       "      <td>26</td>\n",
       "      <td>Apr</td>\n",
       "      <td>1998</td>\n",
       "      <td>Spring 1998</td>\n",
       "      <td>Victor Entertainment</td>\n",
       "      <td>Funimation, Geneon Entertainment USA</td>\n",
       "      <td>...</td>\n",
       "      <td>Manga</td>\n",
       "      <td>24 min. per ep.</td>\n",
       "      <td>PG-13 - Teens 13 or older</td>\n",
       "      <td>266.0</td>\n",
       "      <td>201</td>\n",
       "      <td>558913</td>\n",
       "      <td>12944</td>\n",
       "      <td>29113</td>\n",
       "      <td>343492</td>\n",
       "      <td>13925</td>\n",
       "    </tr>\n",
       "    <tr>\n",
       "      <th>3</th>\n",
       "      <td>Witch Hunter Robin</td>\n",
       "      <td>7.27</td>\n",
       "      <td>[Action, Mystery, Police, Supernatural, Drama,...</td>\n",
       "      <td>TV</td>\n",
       "      <td>26</td>\n",
       "      <td>Jul</td>\n",
       "      <td>2002</td>\n",
       "      <td>Summer 2002</td>\n",
       "      <td>TV Tokyo, Bandai Visual, Dentsu, Victor Entert...</td>\n",
       "      <td>Funimation, Bandai Entertainment</td>\n",
       "      <td>...</td>\n",
       "      <td>Original</td>\n",
       "      <td>25 min. per ep.</td>\n",
       "      <td>PG-13 - Teens 13 or older</td>\n",
       "      <td>2481.0</td>\n",
       "      <td>1467</td>\n",
       "      <td>94683</td>\n",
       "      <td>587</td>\n",
       "      <td>4300</td>\n",
       "      <td>46165</td>\n",
       "      <td>5378</td>\n",
       "    </tr>\n",
       "    <tr>\n",
       "      <th>4</th>\n",
       "      <td>Bouken Ou Beet</td>\n",
       "      <td>6.98</td>\n",
       "      <td>[Adventure, Fantasy, Shounen, Supernatural]</td>\n",
       "      <td>TV</td>\n",
       "      <td>52</td>\n",
       "      <td>Sep</td>\n",
       "      <td>2004</td>\n",
       "      <td>Fall 2004</td>\n",
       "      <td>TV Tokyo, Dentsu</td>\n",
       "      <td>Unknown</td>\n",
       "      <td>...</td>\n",
       "      <td>Manga</td>\n",
       "      <td>23 min. per ep.</td>\n",
       "      <td>PG - Children</td>\n",
       "      <td>3710.0</td>\n",
       "      <td>4369</td>\n",
       "      <td>13224</td>\n",
       "      <td>18</td>\n",
       "      <td>642</td>\n",
       "      <td>7314</td>\n",
       "      <td>1108</td>\n",
       "    </tr>\n",
       "  </tbody>\n",
       "</table>\n",
       "<p>5 rows × 21 columns</p>\n",
       "</div>"
      ],
      "text/plain": [
       "                              Name  Score  \\\n",
       "0                     Cowboy Bebop   8.78   \n",
       "1  Cowboy Bebop: Tengoku no Tobira   8.39   \n",
       "2                           Trigun   8.24   \n",
       "3               Witch Hunter Robin   7.27   \n",
       "4                   Bouken Ou Beet   6.98   \n",
       "\n",
       "                                              Genres   Type Episodes  \\\n",
       "0  [Action, Adventure, Comedy, Drama, Sci-Fi, Space]     TV       26   \n",
       "1            [Action, Drama, Mystery, Sci-Fi, Space]  Movie        1   \n",
       "2  [Action, Sci-Fi, Adventure, Comedy, Drama, Sho...     TV       26   \n",
       "3  [Action, Mystery, Police, Supernatural, Drama,...     TV       26   \n",
       "4        [Adventure, Fantasy, Shounen, Supernatural]     TV       52   \n",
       "\n",
       "  Month Aired Year Aired    Premiered  \\\n",
       "0         Apr       1998  Spring 1998   \n",
       "1         Sep       2001      Unknown   \n",
       "2         Apr       1998  Spring 1998   \n",
       "3         Jul       2002  Summer 2002   \n",
       "4         Sep       2004    Fall 2004   \n",
       "\n",
       "                                           Producers  \\\n",
       "0                                      Bandai Visual   \n",
       "1                             Sunrise, Bandai Visual   \n",
       "2                               Victor Entertainment   \n",
       "3  TV Tokyo, Bandai Visual, Dentsu, Victor Entert...   \n",
       "4                                   TV Tokyo, Dentsu   \n",
       "\n",
       "                              Licensors  ...    Source         Duration  \\\n",
       "0      Funimation, Bandai Entertainment  ...  Original  24 min. per ep.   \n",
       "1           Sony Pictures Entertainment  ...  Original    1 hr. 55 min.   \n",
       "2  Funimation, Geneon Entertainment USA  ...     Manga  24 min. per ep.   \n",
       "3      Funimation, Bandai Entertainment  ...  Original  25 min. per ep.   \n",
       "4                               Unknown  ...     Manga  23 min. per ep.   \n",
       "\n",
       "                           Rating  Ranked  Popularity  Members  Favorites  \\\n",
       "0  R - 17+ (violence & profanity)    28.0          39  1251960      61971   \n",
       "1  R - 17+ (violence & profanity)   159.0         518   273145       1174   \n",
       "2       PG-13 - Teens 13 or older   266.0         201   558913      12944   \n",
       "3       PG-13 - Teens 13 or older  2481.0        1467    94683        587   \n",
       "4                   PG - Children  3710.0        4369    13224         18   \n",
       "\n",
       "   Watching  Completed  Dropped  \n",
       "0    105808     718161    26678  \n",
       "1      4143     208333      770  \n",
       "2     29113     343492    13925  \n",
       "3      4300      46165     5378  \n",
       "4       642       7314     1108  \n",
       "\n",
       "[5 rows x 21 columns]"
      ]
     },
     "execution_count": 1491,
     "metadata": {},
     "output_type": "execute_result"
    }
   ],
   "source": [
    "anime_copia.head()\n",
    "\n",
    "#todo OK por ahora"
   ]
  },
  {
   "cell_type": "markdown",
   "metadata": {},
   "source": [
    "##### <span style=\"color:#76D7C4\"> D3 - Comprobar otra vez los valores nan </span> "
   ]
  },
  {
   "cell_type": "code",
   "execution_count": 1492,
   "metadata": {},
   "outputs": [
    {
     "data": {
      "text/plain": [
       "Name             0\n",
       "Score            0\n",
       "Genres           0\n",
       "Type             0\n",
       "Episodes         0\n",
       "Month Aired    641\n",
       "Year Aired     641\n",
       "Premiered        0\n",
       "Producers        0\n",
       "Licensors        0\n",
       "Studios          0\n",
       "Source           0\n",
       "Duration         0\n",
       "Rating           0\n",
       "Ranked           0\n",
       "Popularity       0\n",
       "Members          0\n",
       "Favorites        0\n",
       "Watching         0\n",
       "Completed        0\n",
       "Dropped          0\n",
       "dtype: int64"
      ]
     },
     "execution_count": 1492,
     "metadata": {},
     "output_type": "execute_result"
    }
   ],
   "source": [
    "anime_copia.isnull().sum()"
   ]
  },
  {
   "cell_type": "code",
   "execution_count": 1493,
   "metadata": {},
   "outputs": [],
   "source": [
    "anime_copia = anime_copia.dropna(subset=[\"Month Aired\", \"Year Aired\"])"
   ]
  },
  {
   "cell_type": "code",
   "execution_count": 1494,
   "metadata": {},
   "outputs": [
    {
     "data": {
      "text/plain": [
       "Name           0\n",
       "Score          0\n",
       "Genres         0\n",
       "Type           0\n",
       "Episodes       0\n",
       "Month Aired    0\n",
       "Year Aired     0\n",
       "Premiered      0\n",
       "Producers      0\n",
       "Licensors      0\n",
       "Studios        0\n",
       "Source         0\n",
       "Duration       0\n",
       "Rating         0\n",
       "Ranked         0\n",
       "Popularity     0\n",
       "Members        0\n",
       "Favorites      0\n",
       "Watching       0\n",
       "Completed      0\n",
       "Dropped        0\n",
       "dtype: int64"
      ]
     },
     "execution_count": 1494,
     "metadata": {},
     "output_type": "execute_result"
    }
   ],
   "source": [
    "anime_copia.isnull().sum()"
   ]
  },
  {
   "cell_type": "markdown",
   "metadata": {},
   "source": [
    "##### <span style=\"color:#76D7C4\"> D4 - Arreglar los valores desconocidos de la columna premiere </span> "
   ]
  },
  {
   "cell_type": "code",
   "execution_count": 1495,
   "metadata": {},
   "outputs": [],
   "source": [
    "#AQUI QUIERO DEJAR LA ESTACION DEL AÑO Y ELIMINAR EL AÑO \n",
    "anime_copia[\"Season Premiered\"] = anime_copia[\"Premiered\"].str.split().str[0]\n",
    "\n",
    "#PONERLA EN EL MISMO SITIO QUE PREMIERED ORIGINAL\n",
    "anime_copia[\"Premiered\"] = anime_copia.pop(\"Season Premiered\") "
   ]
  },
  {
   "cell_type": "code",
   "execution_count": 1496,
   "metadata": {},
   "outputs": [
    {
     "data": {
      "text/html": [
       "<div>\n",
       "<style scoped>\n",
       "    .dataframe tbody tr th:only-of-type {\n",
       "        vertical-align: middle;\n",
       "    }\n",
       "\n",
       "    .dataframe tbody tr th {\n",
       "        vertical-align: top;\n",
       "    }\n",
       "\n",
       "    .dataframe thead th {\n",
       "        text-align: right;\n",
       "    }\n",
       "</style>\n",
       "<table border=\"1\" class=\"dataframe\">\n",
       "  <thead>\n",
       "    <tr style=\"text-align: right;\">\n",
       "      <th></th>\n",
       "      <th>Name</th>\n",
       "      <th>Score</th>\n",
       "      <th>Genres</th>\n",
       "      <th>Type</th>\n",
       "      <th>Episodes</th>\n",
       "      <th>Month Aired</th>\n",
       "      <th>Year Aired</th>\n",
       "      <th>Premiered</th>\n",
       "      <th>Producers</th>\n",
       "      <th>Licensors</th>\n",
       "      <th>...</th>\n",
       "      <th>Source</th>\n",
       "      <th>Duration</th>\n",
       "      <th>Rating</th>\n",
       "      <th>Ranked</th>\n",
       "      <th>Popularity</th>\n",
       "      <th>Members</th>\n",
       "      <th>Favorites</th>\n",
       "      <th>Watching</th>\n",
       "      <th>Completed</th>\n",
       "      <th>Dropped</th>\n",
       "    </tr>\n",
       "  </thead>\n",
       "  <tbody>\n",
       "    <tr>\n",
       "      <th>0</th>\n",
       "      <td>Cowboy Bebop</td>\n",
       "      <td>8.78</td>\n",
       "      <td>[Action, Adventure, Comedy, Drama, Sci-Fi, Space]</td>\n",
       "      <td>TV</td>\n",
       "      <td>26</td>\n",
       "      <td>Apr</td>\n",
       "      <td>1998</td>\n",
       "      <td>Spring</td>\n",
       "      <td>Bandai Visual</td>\n",
       "      <td>Funimation, Bandai Entertainment</td>\n",
       "      <td>...</td>\n",
       "      <td>Original</td>\n",
       "      <td>24 min. per ep.</td>\n",
       "      <td>R - 17+ (violence &amp; profanity)</td>\n",
       "      <td>28.0</td>\n",
       "      <td>39</td>\n",
       "      <td>1251960</td>\n",
       "      <td>61971</td>\n",
       "      <td>105808</td>\n",
       "      <td>718161</td>\n",
       "      <td>26678</td>\n",
       "    </tr>\n",
       "    <tr>\n",
       "      <th>1</th>\n",
       "      <td>Cowboy Bebop: Tengoku no Tobira</td>\n",
       "      <td>8.39</td>\n",
       "      <td>[Action, Drama, Mystery, Sci-Fi, Space]</td>\n",
       "      <td>Movie</td>\n",
       "      <td>1</td>\n",
       "      <td>Sep</td>\n",
       "      <td>2001</td>\n",
       "      <td>Unknown</td>\n",
       "      <td>Sunrise, Bandai Visual</td>\n",
       "      <td>Sony Pictures Entertainment</td>\n",
       "      <td>...</td>\n",
       "      <td>Original</td>\n",
       "      <td>1 hr. 55 min.</td>\n",
       "      <td>R - 17+ (violence &amp; profanity)</td>\n",
       "      <td>159.0</td>\n",
       "      <td>518</td>\n",
       "      <td>273145</td>\n",
       "      <td>1174</td>\n",
       "      <td>4143</td>\n",
       "      <td>208333</td>\n",
       "      <td>770</td>\n",
       "    </tr>\n",
       "  </tbody>\n",
       "</table>\n",
       "<p>2 rows × 21 columns</p>\n",
       "</div>"
      ],
      "text/plain": [
       "                              Name  Score  \\\n",
       "0                     Cowboy Bebop   8.78   \n",
       "1  Cowboy Bebop: Tengoku no Tobira   8.39   \n",
       "\n",
       "                                              Genres   Type Episodes  \\\n",
       "0  [Action, Adventure, Comedy, Drama, Sci-Fi, Space]     TV       26   \n",
       "1            [Action, Drama, Mystery, Sci-Fi, Space]  Movie        1   \n",
       "\n",
       "  Month Aired Year Aired Premiered               Producers  \\\n",
       "0         Apr       1998    Spring           Bandai Visual   \n",
       "1         Sep       2001   Unknown  Sunrise, Bandai Visual   \n",
       "\n",
       "                          Licensors  ...    Source         Duration  \\\n",
       "0  Funimation, Bandai Entertainment  ...  Original  24 min. per ep.   \n",
       "1       Sony Pictures Entertainment  ...  Original    1 hr. 55 min.   \n",
       "\n",
       "                           Rating Ranked  Popularity  Members  Favorites  \\\n",
       "0  R - 17+ (violence & profanity)   28.0          39  1251960      61971   \n",
       "1  R - 17+ (violence & profanity)  159.0         518   273145       1174   \n",
       "\n",
       "   Watching  Completed  Dropped  \n",
       "0    105808     718161    26678  \n",
       "1      4143     208333      770  \n",
       "\n",
       "[2 rows x 21 columns]"
      ]
     },
     "execution_count": 1496,
     "metadata": {},
     "output_type": "execute_result"
    }
   ],
   "source": [
    "#COMPROBAR SI HA FUNCIONADO\n",
    "anime_copia.head(2)"
   ]
  },
  {
   "cell_type": "markdown",
   "metadata": {},
   "source": [
    "     Quiero arreglar los Unknown de Premiered comparandolos con el mes de lanzamiento "
   ]
  },
  {
   "cell_type": "code",
   "execution_count": 1497,
   "metadata": {},
   "outputs": [],
   "source": [
    "#MAPEAR LOS MESES A ESTACIONES DEL AÑO\n",
    "estaciones = {\"Dec\": \"Winter\",\n",
    "              \"Jan\": \"Winter\",\n",
    "              \"Feb\":\"Winter\",\n",
    "              \"Mar\":\"Spring\" ,\n",
    "              \"Apr\" :\"Spring\",\n",
    "              \"May\":\"Spring\" ,\n",
    "              \"Jun\": \"Summer\",\n",
    "              \"Jul\" :\"Summer\",\n",
    "              \"Aug\": \"Summer\",\n",
    "              \"Sep\":\"Fall\",\n",
    "              \"Oct\":\"Fall\" ,\n",
    "              \"Nov\": \"Fall\"}\n",
    "\n",
    "# CON ESTE REEMPLAZO LOS UNKNOWS POR LAS ESTACIONES\n",
    "quitar_desconocidos = lambda row: estaciones.get(row[\"Month Aired\"], row[\"Premiered\"])\n",
    "anime_copia[\"Premiered\"] = anime_copia.apply(quitar_desconocidos, axis=1)"
   ]
  },
  {
   "cell_type": "code",
   "execution_count": 1498,
   "metadata": {},
   "outputs": [
    {
     "data": {
      "text/plain": [
       "array(['Spring', 'Fall', 'Summer', 'Winter'], dtype=object)"
      ]
     },
     "execution_count": 1498,
     "metadata": {},
     "output_type": "execute_result"
    }
   ],
   "source": [
    "#COMPROBAR SI SE HAN CAMBIADO\n",
    "anime_copia[\"Premiered\"].unique()"
   ]
  },
  {
   "cell_type": "markdown",
   "metadata": {},
   "source": [
    "    Quiero visualizar que estacion del año es mas comun"
   ]
  },
  {
   "cell_type": "code",
   "execution_count": 1520,
   "metadata": {},
   "outputs": [
    {
     "data": {
      "image/png": "[encoded data removed]",
      "text/plain": [
       "<Figure size 800x700 with 1 Axes>"
      ]
     },
     "metadata": {},
     "output_type": "display_data"
    }
   ],
   "source": [
    "season = anime_copia[\"Premiered\"].value_counts()\n",
    "\n",
    "sns.set(style=\"whitegrid\")\n",
    "plt.figure(figsize=(8, 7))\n",
    "sns.barplot(x=season.index, y=season.values, hue=season.index, palette=\"pastel\")\n",
    "\n",
    "plt.title(\"Cuantos animes han salido en distintas estaciones del año\")\n",
    "plt.xlabel(\"Estaciones del Año\")\n",
    "\n",
    "# PONER EL RESULTADO ARRIBA DE CADA COLUMNA\n",
    "for i, value in enumerate(season.values):\n",
    "    plt.text(i, value + 0.1, str(value), ha=\"center\", va=\"bottom\")\n",
    "\n",
    "plt.show()"
   ]
  },
  {
   "cell_type": "markdown",
   "metadata": {},
   "source": [
    "##### <span style=\"color:#76D7C4\"> D4 - Columna Rating </span> "
   ]
  },
  {
   "cell_type": "code",
   "execution_count": null,
   "metadata": {},
   "outputs": [],
   "source": []
  },
  {
   "cell_type": "markdown",
   "metadata": {},
   "source": [
    "## <span style=\"color:#85929E \"> GUARDAR BASE DE DATOS </span> "
   ]
  },
  {
   "cell_type": "code",
   "execution_count": 140,
   "metadata": {},
   "outputs": [],
   "source": [
    "#Guardar base de datos limpia\n",
    "ruta = \"./anime-filtered.csv\"\n",
    "anime_copia.to_csv(ruta, index=False, encoding='utf-8')"
   ]
  },
  {
   "cell_type": "markdown",
   "metadata": {},
   "source": [
    "## <span style=\"color:#85929E \"> ANALISIS EXPLORATORIO </span> "
   ]
  },
  {
   "cell_type": "code",
   "execution_count": 1375,
   "metadata": {},
   "outputs": [
    {
     "data": {
      "text/html": [
       "<div>\n",
       "<style scoped>\n",
       "    .dataframe tbody tr th:only-of-type {\n",
       "        vertical-align: middle;\n",
       "    }\n",
       "\n",
       "    .dataframe tbody tr th {\n",
       "        vertical-align: top;\n",
       "    }\n",
       "\n",
       "    .dataframe thead th {\n",
       "        text-align: right;\n",
       "    }\n",
       "</style>\n",
       "<table border=\"1\" class=\"dataframe\">\n",
       "  <thead>\n",
       "    <tr style=\"text-align: right;\">\n",
       "      <th></th>\n",
       "      <th>Name</th>\n",
       "      <th>Score</th>\n",
       "      <th>Genres</th>\n",
       "      <th>Type</th>\n",
       "      <th>Episodes</th>\n",
       "      <th>Month Aired</th>\n",
       "      <th>Year Aired</th>\n",
       "      <th>Premiered</th>\n",
       "      <th>Producers</th>\n",
       "      <th>Licensors</th>\n",
       "      <th>...</th>\n",
       "      <th>Source</th>\n",
       "      <th>Duration</th>\n",
       "      <th>Rating</th>\n",
       "      <th>Ranked</th>\n",
       "      <th>Popularity</th>\n",
       "      <th>Members</th>\n",
       "      <th>Favorites</th>\n",
       "      <th>Watching</th>\n",
       "      <th>Completed</th>\n",
       "      <th>Dropped</th>\n",
       "    </tr>\n",
       "  </thead>\n",
       "  <tbody>\n",
       "    <tr>\n",
       "      <th>0</th>\n",
       "      <td>Cowboy Bebop</td>\n",
       "      <td>8.78</td>\n",
       "      <td>[Action, Adventure, Comedy, Drama, Sci-Fi, Space]</td>\n",
       "      <td>TV</td>\n",
       "      <td>26</td>\n",
       "      <td>Apr</td>\n",
       "      <td>1998</td>\n",
       "      <td>Spring</td>\n",
       "      <td>Bandai Visual</td>\n",
       "      <td>Funimation, Bandai Entertainment</td>\n",
       "      <td>...</td>\n",
       "      <td>Original</td>\n",
       "      <td>24 min. per ep.</td>\n",
       "      <td>R - 17+ (violence &amp; profanity)</td>\n",
       "      <td>28.0</td>\n",
       "      <td>39</td>\n",
       "      <td>1251960</td>\n",
       "      <td>61971</td>\n",
       "      <td>105808</td>\n",
       "      <td>718161</td>\n",
       "      <td>26678</td>\n",
       "    </tr>\n",
       "    <tr>\n",
       "      <th>1</th>\n",
       "      <td>Cowboy Bebop: Tengoku no Tobira</td>\n",
       "      <td>8.39</td>\n",
       "      <td>[Action, Drama, Mystery, Sci-Fi, Space]</td>\n",
       "      <td>Movie</td>\n",
       "      <td>1</td>\n",
       "      <td>Sep</td>\n",
       "      <td>2001</td>\n",
       "      <td>Unknown</td>\n",
       "      <td>Sunrise, Bandai Visual</td>\n",
       "      <td>Sony Pictures Entertainment</td>\n",
       "      <td>...</td>\n",
       "      <td>Original</td>\n",
       "      <td>1 hr. 55 min.</td>\n",
       "      <td>R - 17+ (violence &amp; profanity)</td>\n",
       "      <td>159.0</td>\n",
       "      <td>518</td>\n",
       "      <td>273145</td>\n",
       "      <td>1174</td>\n",
       "      <td>4143</td>\n",
       "      <td>208333</td>\n",
       "      <td>770</td>\n",
       "    </tr>\n",
       "    <tr>\n",
       "      <th>2</th>\n",
       "      <td>Trigun</td>\n",
       "      <td>8.24</td>\n",
       "      <td>[Action, Sci-Fi, Adventure, Comedy, Drama, Sho...</td>\n",
       "      <td>TV</td>\n",
       "      <td>26</td>\n",
       "      <td>Apr</td>\n",
       "      <td>1998</td>\n",
       "      <td>Spring</td>\n",
       "      <td>Victor Entertainment</td>\n",
       "      <td>Funimation, Geneon Entertainment USA</td>\n",
       "      <td>...</td>\n",
       "      <td>Manga</td>\n",
       "      <td>24 min. per ep.</td>\n",
       "      <td>PG-13 - Teens 13 or older</td>\n",
       "      <td>266.0</td>\n",
       "      <td>201</td>\n",
       "      <td>558913</td>\n",
       "      <td>12944</td>\n",
       "      <td>29113</td>\n",
       "      <td>343492</td>\n",
       "      <td>13925</td>\n",
       "    </tr>\n",
       "    <tr>\n",
       "      <th>3</th>\n",
       "      <td>Witch Hunter Robin</td>\n",
       "      <td>7.27</td>\n",
       "      <td>[Action, Mystery, Police, Supernatural, Drama,...</td>\n",
       "      <td>TV</td>\n",
       "      <td>26</td>\n",
       "      <td>Jul</td>\n",
       "      <td>2002</td>\n",
       "      <td>Summer</td>\n",
       "      <td>TV Tokyo, Bandai Visual, Dentsu, Victor Entert...</td>\n",
       "      <td>Funimation, Bandai Entertainment</td>\n",
       "      <td>...</td>\n",
       "      <td>Original</td>\n",
       "      <td>25 min. per ep.</td>\n",
       "      <td>PG-13 - Teens 13 or older</td>\n",
       "      <td>2481.0</td>\n",
       "      <td>1467</td>\n",
       "      <td>94683</td>\n",
       "      <td>587</td>\n",
       "      <td>4300</td>\n",
       "      <td>46165</td>\n",
       "      <td>5378</td>\n",
       "    </tr>\n",
       "  </tbody>\n",
       "</table>\n",
       "<p>4 rows × 21 columns</p>\n",
       "</div>"
      ],
      "text/plain": [
       "                              Name  Score  \\\n",
       "0                     Cowboy Bebop   8.78   \n",
       "1  Cowboy Bebop: Tengoku no Tobira   8.39   \n",
       "2                           Trigun   8.24   \n",
       "3               Witch Hunter Robin   7.27   \n",
       "\n",
       "                                              Genres   Type Episodes  \\\n",
       "0  [Action, Adventure, Comedy, Drama, Sci-Fi, Space]     TV       26   \n",
       "1            [Action, Drama, Mystery, Sci-Fi, Space]  Movie        1   \n",
       "2  [Action, Sci-Fi, Adventure, Comedy, Drama, Sho...     TV       26   \n",
       "3  [Action, Mystery, Police, Supernatural, Drama,...     TV       26   \n",
       "\n",
       "  Month Aired Year Aired Premiered  \\\n",
       "0         Apr       1998    Spring   \n",
       "1         Sep       2001   Unknown   \n",
       "2         Apr       1998    Spring   \n",
       "3         Jul       2002    Summer   \n",
       "\n",
       "                                           Producers  \\\n",
       "0                                      Bandai Visual   \n",
       "1                             Sunrise, Bandai Visual   \n",
       "2                               Victor Entertainment   \n",
       "3  TV Tokyo, Bandai Visual, Dentsu, Victor Entert...   \n",
       "\n",
       "                              Licensors  ...    Source         Duration  \\\n",
       "0      Funimation, Bandai Entertainment  ...  Original  24 min. per ep.   \n",
       "1           Sony Pictures Entertainment  ...  Original    1 hr. 55 min.   \n",
       "2  Funimation, Geneon Entertainment USA  ...     Manga  24 min. per ep.   \n",
       "3      Funimation, Bandai Entertainment  ...  Original  25 min. per ep.   \n",
       "\n",
       "                           Rating  Ranked  Popularity  Members  Favorites  \\\n",
       "0  R - 17+ (violence & profanity)    28.0          39  1251960      61971   \n",
       "1  R - 17+ (violence & profanity)   159.0         518   273145       1174   \n",
       "2       PG-13 - Teens 13 or older   266.0         201   558913      12944   \n",
       "3       PG-13 - Teens 13 or older  2481.0        1467    94683        587   \n",
       "\n",
       "   Watching  Completed  Dropped  \n",
       "0    105808     718161    26678  \n",
       "1      4143     208333      770  \n",
       "2     29113     343492    13925  \n",
       "3      4300      46165     5378  \n",
       "\n",
       "[4 rows x 21 columns]"
      ]
     },
     "execution_count": 1375,
     "metadata": {},
     "output_type": "execute_result"
    }
   ],
   "source": [
    "anime_copia.head(4)"
   ]
  },
  {
   "cell_type": "markdown",
   "metadata": {},
   "source": [
    "### <span style=\"color:#2874A6  \"> Significado de las columnas </span> "
   ]
  },
  {
   "cell_type": "markdown",
   "metadata": {},
   "source": [
    "| <!-- -->      | <!-- -->        |\n",
    "|:-------------:|:---------------:|\n",
    "| **Name**| *Nombre del anime*|\n",
    "| **Score** | *Puntuación media del anime* |\n",
    "| **Genres** | *Generos del anime* |\n",
    "| **Type** | *Tipo de anime. serie, película u OVA* |\n",
    "| **Episodes** | *Episodios del anime* |\n",
    "| **Aired** | *Rango de fechas en que se emitió el anime* |\n",
    "| **Premiered** | *La temporada y año en que se estrenó el anime* |\n",
    "| **Producers** | *Las productoras o estudios de los animes* |\n",
    "| **Licensors** | *Las empresas que poseen la licencia para distribuir el anime* |\n",
    "| **Studios** | *Los estudios de animación de los animes* |\n",
    "| **Source** | *La fuente del anime. Manga, novela u original* |\n",
    "| **Duration** | *La duración de cada episodio* |\n",
    "| **Rating** | *La calificación del anime* |\n",
    "| **Ranked** | *La posición en el ranking del anime según la popularidad o las calificaciones* |\n",
    "| **Popularity** | *la popularidad del anime* |\n",
    "| **Members** | *La cantidad de personas que tienen el anime en su lista* |\n",
    "| **Favorites** | *La cantidad de personas que han marcado el anime como favorito* |\n",
    "| **Watching** | *La cantidad de personas que actualmente ven el anime* |\n",
    "| **Completed** | *La cantidad de personas que han completado la visualización del anime.* |\n",
    "| **Dropped** | *La cantidad de usuarios que han abandonado el anime* |\n"
   ]
  },
  {
   "cell_type": "code",
   "execution_count": 1376,
   "metadata": {},
   "outputs": [
    {
     "data": {
      "image/png": "[encoded data removed]",
      "text/plain": [
       "<Figure size 1000x600 with 1 Axes>"
      ]
     },
     "metadata": {},
     "output_type": "display_data"
    }
   ],
   "source": [
    "#Histograma de la variable score\n",
    "plt.figure(figsize=(10, 6))\n",
    "sns.histplot(anime_filter['Score'], bins=30, kde=True, color='skyblue')\n",
    "plt.title('Distribución de Puntuaciones de Anime')\n",
    "plt.xlabel('Puntuación')\n",
    "plt.ylabel('Frecuencia')\n",
    "\n",
    "plt.show()\n",
    "\n",
    "#frecuencia: numero de veces que ocurre\n",
    "#Puntuacion: calificacion"
   ]
  },
  {
   "cell_type": "markdown",
   "metadata": {},
   "source": [
    "### <span style=\"color:#2874A6  \"> Informacion general de la base de datos </span> "
   ]
  },
  {
   "cell_type": "code",
   "execution_count": 1377,
   "metadata": {},
   "outputs": [
    {
     "name": "stdout",
     "output_type": "stream",
     "text": [
      "<class 'pandas.core.frame.DataFrame'>\n",
      "Index: 8419 entries, 0 to 9059\n",
      "Data columns (total 21 columns):\n",
      " #   Column       Non-Null Count  Dtype  \n",
      "---  ------       --------------  -----  \n",
      " 0   Name         8419 non-null   object \n",
      " 1   Score        8419 non-null   float64\n",
      " 2   Genres       8419 non-null   object \n",
      " 3   Type         8419 non-null   object \n",
      " 4   Episodes     8419 non-null   object \n",
      " 5   Month Aired  8419 non-null   object \n",
      " 6   Year Aired   8419 non-null   object \n",
      " 7   Premiered    8419 non-null   object \n",
      " 8   Producers    8419 non-null   object \n",
      " 9   Licensors    8419 non-null   object \n",
      " 10  Studios      8419 non-null   object \n",
      " 11  Source       8419 non-null   object \n",
      " 12  Duration     8419 non-null   object \n",
      " 13  Rating       8419 non-null   object \n",
      " 14  Ranked       8419 non-null   float64\n",
      " 15  Popularity   8419 non-null   int64  \n",
      " 16  Members      8419 non-null   int64  \n",
      " 17  Favorites    8419 non-null   int64  \n",
      " 18  Watching     8419 non-null   int64  \n",
      " 19  Completed    8419 non-null   int64  \n",
      " 20  Dropped      8419 non-null   int64  \n",
      "dtypes: float64(2), int64(6), object(13)\n",
      "memory usage: 1.4+ MB\n"
     ]
    }
   ],
   "source": [
    "#Informacion\n",
    "anime_copia.info()"
   ]
  },
  {
   "cell_type": "code",
   "execution_count": 1378,
   "metadata": {},
   "outputs": [
    {
     "data": {
      "text/plain": [
       "Name            object\n",
       "Score          float64\n",
       "Genres          object\n",
       "Type            object\n",
       "Episodes        object\n",
       "Month Aired     object\n",
       "Year Aired      object\n",
       "Premiered       object\n",
       "Producers       object\n",
       "Licensors       object\n",
       "Studios         object\n",
       "Source          object\n",
       "Duration        object\n",
       "Rating          object\n",
       "Ranked         float64\n",
       "Popularity       int64\n",
       "Members          int64\n",
       "Favorites        int64\n",
       "Watching         int64\n",
       "Completed        int64\n",
       "Dropped          int64\n",
       "dtype: object"
      ]
     },
     "execution_count": 1378,
     "metadata": {},
     "output_type": "execute_result"
    }
   ],
   "source": [
    "#Tipos de datos\n",
    "anime_copia.dtypes"
   ]
  },
  {
   "cell_type": "code",
   "execution_count": 1379,
   "metadata": {},
   "outputs": [
    {
     "data": {
      "text/plain": [
       "object     13\n",
       "int64       6\n",
       "float64     2\n",
       "Name: count, dtype: int64"
      ]
     },
     "execution_count": 1379,
     "metadata": {},
     "output_type": "execute_result"
    }
   ],
   "source": [
    "anime_copia.dtypes.value_counts()"
   ]
  },
  {
   "cell_type": "code",
   "execution_count": 1380,
   "metadata": {},
   "outputs": [
    {
     "data": {
      "text/html": [
       "<div>\n",
       "<style scoped>\n",
       "    .dataframe tbody tr th:only-of-type {\n",
       "        vertical-align: middle;\n",
       "    }\n",
       "\n",
       "    .dataframe tbody tr th {\n",
       "        vertical-align: top;\n",
       "    }\n",
       "\n",
       "    .dataframe thead th {\n",
       "        text-align: right;\n",
       "    }\n",
       "</style>\n",
       "<table border=\"1\" class=\"dataframe\">\n",
       "  <thead>\n",
       "    <tr style=\"text-align: right;\">\n",
       "      <th></th>\n",
       "      <th>Score</th>\n",
       "      <th>Ranked</th>\n",
       "      <th>Popularity</th>\n",
       "      <th>Members</th>\n",
       "      <th>Favorites</th>\n",
       "      <th>Watching</th>\n",
       "      <th>Completed</th>\n",
       "      <th>Dropped</th>\n",
       "    </tr>\n",
       "  </thead>\n",
       "  <tbody>\n",
       "    <tr>\n",
       "      <th>count</th>\n",
       "      <td>8419.000000</td>\n",
       "      <td>8419.000000</td>\n",
       "      <td>8419.000000</td>\n",
       "      <td>8.419000e+03</td>\n",
       "      <td>8419.000000</td>\n",
       "      <td>8419.000000</td>\n",
       "      <td>8.419000e+03</td>\n",
       "      <td>8419.000000</td>\n",
       "    </tr>\n",
       "    <tr>\n",
       "      <th>mean</th>\n",
       "      <td>6.736468</td>\n",
       "      <td>6113.478323</td>\n",
       "      <td>6399.239577</td>\n",
       "      <td>6.581706e+04</td>\n",
       "      <td>929.443639</td>\n",
       "      <td>4383.247298</td>\n",
       "      <td>4.213582e+04</td>\n",
       "      <td>2316.798907</td>\n",
       "    </tr>\n",
       "    <tr>\n",
       "      <th>std</th>\n",
       "      <td>0.772642</td>\n",
       "      <td>4234.260422</td>\n",
       "      <td>4471.053987</td>\n",
       "      <td>1.745056e+05</td>\n",
       "      <td>5828.716693</td>\n",
       "      <td>20031.619073</td>\n",
       "      <td>1.276140e+05</td>\n",
       "      <td>6640.292402</td>\n",
       "    </tr>\n",
       "    <tr>\n",
       "      <th>min</th>\n",
       "      <td>1.850000</td>\n",
       "      <td>1.000000</td>\n",
       "      <td>1.000000</td>\n",
       "      <td>2.000000e+02</td>\n",
       "      <td>0.000000</td>\n",
       "      <td>1.000000</td>\n",
       "      <td>0.000000e+00</td>\n",
       "      <td>3.000000</td>\n",
       "    </tr>\n",
       "    <tr>\n",
       "      <th>25%</th>\n",
       "      <td>6.340000</td>\n",
       "      <td>2536.500000</td>\n",
       "      <td>2341.000000</td>\n",
       "      <td>1.075000e+03</td>\n",
       "      <td>1.000000</td>\n",
       "      <td>43.000000</td>\n",
       "      <td>3.425000e+02</td>\n",
       "      <td>67.000000</td>\n",
       "    </tr>\n",
       "    <tr>\n",
       "      <th>50%</th>\n",
       "      <td>6.580000</td>\n",
       "      <td>5474.000000</td>\n",
       "      <td>5644.000000</td>\n",
       "      <td>7.086000e+03</td>\n",
       "      <td>13.000000</td>\n",
       "      <td>240.000000</td>\n",
       "      <td>3.166000e+03</td>\n",
       "      <td>176.000000</td>\n",
       "    </tr>\n",
       "    <tr>\n",
       "      <th>75%</th>\n",
       "      <td>7.260000</td>\n",
       "      <td>8948.000000</td>\n",
       "      <td>10301.000000</td>\n",
       "      <td>4.686900e+04</td>\n",
       "      <td>140.500000</td>\n",
       "      <td>1881.500000</td>\n",
       "      <td>2.529250e+04</td>\n",
       "      <td>1270.000000</td>\n",
       "    </tr>\n",
       "    <tr>\n",
       "      <th>max</th>\n",
       "      <td>9.190000</td>\n",
       "      <td>15779.000000</td>\n",
       "      <td>14917.000000</td>\n",
       "      <td>2.589552e+06</td>\n",
       "      <td>183914.000000</td>\n",
       "      <td>887333.000000</td>\n",
       "      <td>2.182587e+06</td>\n",
       "      <td>174710.000000</td>\n",
       "    </tr>\n",
       "  </tbody>\n",
       "</table>\n",
       "</div>"
      ],
      "text/plain": [
       "             Score        Ranked    Popularity       Members      Favorites  \\\n",
       "count  8419.000000   8419.000000   8419.000000  8.419000e+03    8419.000000   \n",
       "mean      6.736468   6113.478323   6399.239577  6.581706e+04     929.443639   \n",
       "std       0.772642   4234.260422   4471.053987  1.745056e+05    5828.716693   \n",
       "min       1.850000      1.000000      1.000000  2.000000e+02       0.000000   \n",
       "25%       6.340000   2536.500000   2341.000000  1.075000e+03       1.000000   \n",
       "50%       6.580000   5474.000000   5644.000000  7.086000e+03      13.000000   \n",
       "75%       7.260000   8948.000000  10301.000000  4.686900e+04     140.500000   \n",
       "max       9.190000  15779.000000  14917.000000  2.589552e+06  183914.000000   \n",
       "\n",
       "            Watching     Completed        Dropped  \n",
       "count    8419.000000  8.419000e+03    8419.000000  \n",
       "mean     4383.247298  4.213582e+04    2316.798907  \n",
       "std     20031.619073  1.276140e+05    6640.292402  \n",
       "min         1.000000  0.000000e+00       3.000000  \n",
       "25%        43.000000  3.425000e+02      67.000000  \n",
       "50%       240.000000  3.166000e+03     176.000000  \n",
       "75%      1881.500000  2.529250e+04    1270.000000  \n",
       "max    887333.000000  2.182587e+06  174710.000000  "
      ]
     },
     "execution_count": 1380,
     "metadata": {},
     "output_type": "execute_result"
    }
   ],
   "source": [
    "anime_copia.describe()"
   ]
  },
  {
   "cell_type": "code",
   "execution_count": 1381,
   "metadata": {},
   "outputs": [
    {
     "data": {
      "text/plain": [
       "(8419, 21)"
      ]
     },
     "execution_count": 1381,
     "metadata": {},
     "output_type": "execute_result"
    }
   ],
   "source": [
    "anime_copia.shape"
   ]
  },
  {
   "cell_type": "markdown",
   "metadata": {},
   "source": [
    "### <span style=\"color:#2874A6  \"> Hipótesis Estadísticas: </span> "
   ]
  },
  {
   "cell_type": "markdown",
   "metadata": {},
   "source": [
    "    1.Relación entre la puntuación media y la popularidad\n",
    "    2.Impacto del tipo de anime en la duración de los episodios\n",
    "    3.Diferencia en la puntuación media entre animes de diferentes fuentes (Manga, Novela, Original)\n",
    "    4.Comparación de la puntuación media entre diferentes estudios de animación\n",
    "    5.Influencia de los géneros en la popularidad\n",
    "    6.Impacto de la duración del anime en la cantidad de personas que lo completan:\n",
    "    7.Diferencia en la puntuación media entre diferentes productoras o estudios\n",
    "    8.Relación entre la calificación del anime y el número de episodios\n",
    "    9.Variación en la popularidad según la temporada de estreno\n",
    "    10.Comparación de la cantidad de personas que abandonan el anime entre diferentes tipos (serie o película)\n",
    "    11.Relación entre la posición en el ranking y la cantidad de favoritos"
   ]
  },
  {
   "cell_type": "markdown",
   "metadata": {},
   "source": [
    "#### <span style=\"color:#3498DB  \"> Analizando hipótesis estadísticas: </span> "
   ]
  },
  {
   "cell_type": "code",
   "execution_count": null,
   "metadata": {},
   "outputs": [],
   "source": [
    "# RELACION ENTRE LA PUNTUACION MEDIA Y LA POPULARIDAD:\n",
    "# Hacer una correlacion para ver si hay una relacion significativa entre la puntiacion y la popularidad"
   ]
  },
  {
   "cell_type": "markdown",
   "metadata": {},
   "source": [
    "### <span style=\"color:#2874A6  \"> Hipótesis Gráficas: </span> "
   ]
  },
  {
   "cell_type": "markdown",
   "metadata": {},
   "source": [
    "     1.Relación entre Puntuación y Popularidad\n",
    "     2.Distribución de Géneros\n",
    "     3.Tipo de Anime más Común\n",
    "     4.Duración Promedio de los Episodios\n",
    "     5.Correlación entre Episodios y Puntuación\n",
    "     6.Popularidad en Función del Estudio de Animación\n",
    "     7.Relación entre Calificación y Miembros\n",
    "     8.Evolución de la Popularidad a lo Largo del Tiempo\n",
    "     9.Comparación de Estrenos por Temporada\n",
    "     10.Distribución de Calificaciones\n",
    "     11.Relación entre Miembros y Favoritos"
   ]
  },
  {
   "cell_type": "markdown",
   "metadata": {},
   "source": [
    "#### <span style=\"color:#3498DB  \"> Analizando hipótesis estadísticas: </span> "
   ]
  },
  {
   "cell_type": "code",
   "execution_count": null,
   "metadata": {},
   "outputs": [],
   "source": []
  },
  {
   "cell_type": "markdown",
   "metadata": {},
   "source": [
    "## <span style=\"color:#85929E\"> CONCLUSIONES Y REFLEXIONES </span> "
   ]
  }
 ],
 "metadata": {
  "interpreter": {
   "hash": "7c77fdb427e7cbc9bc1367dd530fc2b36aacdbbde1ac83c85833b10dfa8b831c"
  },
  "kernelspec": {
   "display_name": "Python 3.7.4 64-bit",
   "language": "python",
   "name": "python3"
  },
  "language_info": {
   "codemirror_mode": {
    "name": "ipython",
    "version": 3
   },
   "file_extension": ".py",
   "mimetype": "text/x-python",
   "name": "python",
   "nbconvert_exporter": "python",
   "pygments_lexer": "ipython3",
   "version": "3.11.3"
  },
  "orig_nbformat": 4
 },
 "nbformat": 4,
 "nbformat_minor": 2
}
