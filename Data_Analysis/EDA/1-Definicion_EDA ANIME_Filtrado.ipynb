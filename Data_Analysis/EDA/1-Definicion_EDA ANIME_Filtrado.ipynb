{
 "cells": [
  {
   "cell_type": "markdown",
   "metadata": {},
   "source": [
    "![imagen](./attack%20on%20titan.jpg)"
   ]
  },
  {
   "cell_type": "markdown",
   "metadata": {},
   "source": [
    "## ANALISIS EXPLORATORIO - LA POPULARIDAD DEL ANIME "
   ]
  },
  {
   "cell_type": "markdown",
   "metadata": {},
   "source": [
    "### TEMA"
   ]
  },
  {
   "cell_type": "markdown",
   "metadata": {},
   "source": [
    "El objetivo de este EDA es entender mejor lo que resuena con la audiencia y contribuye a la popularidad en el mundo del anime"
   ]
  },
  {
   "cell_type": "markdown",
   "metadata": {},
   "source": [
    "### HIPÓTESIS"
   ]
  },
  {
   "cell_type": "markdown",
   "metadata": {},
   "source": [
    "1.¿Que series de animes tienen mas popularidad?\n",
    "\n",
    "2.¿Que genero de anime es el mas popular?\n",
    "\n",
    "3.¿La popularidad del anime podría estar relacionada con el estudio de animacion?\n",
    "\n",
    "4.¿Los animes cortos tienen mas popularidad que los animes largos?\n",
    "\n",
    "5.¿Que estudios de animacion son los mas populares?\n",
    "\n",
    "6.¿Cuantos animes han sido cancelados y cuantos han sido finalizados?\n",
    "\n",
    "7.¿Que pelicula de Studio Ghibli tiene mas popularidad?\n",
    "\n",
    "8.¿Cuantos animes han sido premiados?\n",
    "\n",
    "9.¿Que peliculas de anime son las mas populares?"
   ]
  },
  {
   "cell_type": "markdown",
   "metadata": {},
   "source": [
    "## OBTENCIÓN DE LOS DATOS"
   ]
  },
  {
   "cell_type": "markdown",
   "metadata": {},
   "source": [
    "### DATASETS Y FUENTES ALTERNATIVAS DE DATOS"
   ]
  },
  {
   "cell_type": "markdown",
   "metadata": {},
   "source": [
    "**LINK de la base de datos que voy a usar en este EDA:**\n",
    ">[KAGGLE- ANIME](https://www.kaggle.com/datasets/hernan4444/anime-recommendation-database-2020)\n",
    "\n",
    ">[KAGGLE- ANIME2](https://www.kaggle.com/datasets/vishalmane10/anime-dataset-2022)\n",
    "\n",
    ">[Myanimelist API](https://myanimelist.net/apiconfig)\n",
    "\n",
    ">[Kitsu API](https://kitsu.docs.apiary.io/#)\n",
    "\n",
    ">[Anilist API](https://anilist.gitbook.io/anilist-apiv2-docs/)\n",
    "\n",
    ">[RapidAPI](https://rapidapi.com/search/anime)"
   ]
  },
  {
   "cell_type": "code",
   "execution_count": 2,
   "metadata": {},
   "outputs": [],
   "source": [
    "import pandas as pd\n",
    "import numpy as np\n",
    "import seaborn as sns\n",
    "import matplotlib.pyplot as plt"
   ]
  },
  {
   "cell_type": "markdown",
   "metadata": {},
   "source": [
    "# Primer manejo de datos"
   ]
  },
  {
   "cell_type": "code",
   "execution_count": 61,
   "metadata": {},
   "outputs": [
    {
     "data": {
      "text/html": [
       "<div>\n",
       "<style scoped>\n",
       "    .dataframe tbody tr th:only-of-type {\n",
       "        vertical-align: middle;\n",
       "    }\n",
       "\n",
       "    .dataframe tbody tr th {\n",
       "        vertical-align: top;\n",
       "    }\n",
       "\n",
       "    .dataframe thead th {\n",
       "        text-align: right;\n",
       "    }\n",
       "</style>\n",
       "<table border=\"1\" class=\"dataframe\">\n",
       "  <thead>\n",
       "    <tr style=\"text-align: right;\">\n",
       "      <th></th>\n",
       "      <th>anime_id</th>\n",
       "      <th>Name</th>\n",
       "      <th>Score</th>\n",
       "      <th>Genres</th>\n",
       "      <th>English name</th>\n",
       "      <th>Japanese name</th>\n",
       "      <th>sypnopsis</th>\n",
       "      <th>Type</th>\n",
       "      <th>Episodes</th>\n",
       "      <th>Aired</th>\n",
       "      <th>...</th>\n",
       "      <th>Duration</th>\n",
       "      <th>Rating</th>\n",
       "      <th>Ranked</th>\n",
       "      <th>Popularity</th>\n",
       "      <th>Members</th>\n",
       "      <th>Favorites</th>\n",
       "      <th>Watching</th>\n",
       "      <th>Completed</th>\n",
       "      <th>On-Hold</th>\n",
       "      <th>Dropped</th>\n",
       "    </tr>\n",
       "  </thead>\n",
       "  <tbody>\n",
       "    <tr>\n",
       "      <th>0</th>\n",
       "      <td>1</td>\n",
       "      <td>Cowboy Bebop</td>\n",
       "      <td>8.78</td>\n",
       "      <td>Action, Adventure, Comedy, Drama, Sci-Fi, Space</td>\n",
       "      <td>Cowboy Bebop</td>\n",
       "      <td>カウボーイビバップ</td>\n",
       "      <td>In the year 2071, humanity has colonized sever...</td>\n",
       "      <td>TV</td>\n",
       "      <td>26</td>\n",
       "      <td>Apr 3, 1998 to Apr 24, 1999</td>\n",
       "      <td>...</td>\n",
       "      <td>24 min. per ep.</td>\n",
       "      <td>R - 17+ (violence &amp; profanity)</td>\n",
       "      <td>28.0</td>\n",
       "      <td>39</td>\n",
       "      <td>1251960</td>\n",
       "      <td>61971</td>\n",
       "      <td>105808</td>\n",
       "      <td>718161</td>\n",
       "      <td>71513</td>\n",
       "      <td>26678</td>\n",
       "    </tr>\n",
       "    <tr>\n",
       "      <th>1</th>\n",
       "      <td>5</td>\n",
       "      <td>Cowboy Bebop: Tengoku no Tobira</td>\n",
       "      <td>8.39</td>\n",
       "      <td>Action, Drama, Mystery, Sci-Fi, Space</td>\n",
       "      <td>Cowboy Bebop:The Movie</td>\n",
       "      <td>カウボーイビバップ 天国の扉</td>\n",
       "      <td>other day, another bounty—such is the life of ...</td>\n",
       "      <td>Movie</td>\n",
       "      <td>1</td>\n",
       "      <td>Sep 1, 2001</td>\n",
       "      <td>...</td>\n",
       "      <td>1 hr. 55 min.</td>\n",
       "      <td>R - 17+ (violence &amp; profanity)</td>\n",
       "      <td>159.0</td>\n",
       "      <td>518</td>\n",
       "      <td>273145</td>\n",
       "      <td>1174</td>\n",
       "      <td>4143</td>\n",
       "      <td>208333</td>\n",
       "      <td>1935</td>\n",
       "      <td>770</td>\n",
       "    </tr>\n",
       "    <tr>\n",
       "      <th>2</th>\n",
       "      <td>6</td>\n",
       "      <td>Trigun</td>\n",
       "      <td>8.24</td>\n",
       "      <td>Action, Sci-Fi, Adventure, Comedy, Drama, Shounen</td>\n",
       "      <td>Trigun</td>\n",
       "      <td>トライガン</td>\n",
       "      <td>Vash the Stampede is the man with a $$60,000,0...</td>\n",
       "      <td>TV</td>\n",
       "      <td>26</td>\n",
       "      <td>Apr 1, 1998 to Sep 30, 1998</td>\n",
       "      <td>...</td>\n",
       "      <td>24 min. per ep.</td>\n",
       "      <td>PG-13 - Teens 13 or older</td>\n",
       "      <td>266.0</td>\n",
       "      <td>201</td>\n",
       "      <td>558913</td>\n",
       "      <td>12944</td>\n",
       "      <td>29113</td>\n",
       "      <td>343492</td>\n",
       "      <td>25465</td>\n",
       "      <td>13925</td>\n",
       "    </tr>\n",
       "    <tr>\n",
       "      <th>3</th>\n",
       "      <td>7</td>\n",
       "      <td>Witch Hunter Robin</td>\n",
       "      <td>7.27</td>\n",
       "      <td>Action, Mystery, Police, Supernatural, Drama, ...</td>\n",
       "      <td>Witch Hunter Robin</td>\n",
       "      <td>Witch Hunter ROBIN (ウイッチハンターロビン)</td>\n",
       "      <td>ches are individuals with special powers like ...</td>\n",
       "      <td>TV</td>\n",
       "      <td>26</td>\n",
       "      <td>Jul 2, 2002 to Dec 24, 2002</td>\n",
       "      <td>...</td>\n",
       "      <td>25 min. per ep.</td>\n",
       "      <td>PG-13 - Teens 13 or older</td>\n",
       "      <td>2481.0</td>\n",
       "      <td>1467</td>\n",
       "      <td>94683</td>\n",
       "      <td>587</td>\n",
       "      <td>4300</td>\n",
       "      <td>46165</td>\n",
       "      <td>5121</td>\n",
       "      <td>5378</td>\n",
       "    </tr>\n",
       "    <tr>\n",
       "      <th>4</th>\n",
       "      <td>8</td>\n",
       "      <td>Bouken Ou Beet</td>\n",
       "      <td>6.98</td>\n",
       "      <td>Adventure, Fantasy, Shounen, Supernatural</td>\n",
       "      <td>Beet the Vandel Buster</td>\n",
       "      <td>冒険王ビィト</td>\n",
       "      <td>It is the dark century and the people are suff...</td>\n",
       "      <td>TV</td>\n",
       "      <td>52</td>\n",
       "      <td>Sep 30, 2004 to Sep 29, 2005</td>\n",
       "      <td>...</td>\n",
       "      <td>23 min. per ep.</td>\n",
       "      <td>PG - Children</td>\n",
       "      <td>3710.0</td>\n",
       "      <td>4369</td>\n",
       "      <td>13224</td>\n",
       "      <td>18</td>\n",
       "      <td>642</td>\n",
       "      <td>7314</td>\n",
       "      <td>766</td>\n",
       "      <td>1108</td>\n",
       "    </tr>\n",
       "  </tbody>\n",
       "</table>\n",
       "<p>5 rows × 25 columns</p>\n",
       "</div>"
      ],
      "text/plain": [
       "   anime_id                             Name  Score  \\\n",
       "0         1                     Cowboy Bebop   8.78   \n",
       "1         5  Cowboy Bebop: Tengoku no Tobira   8.39   \n",
       "2         6                           Trigun   8.24   \n",
       "3         7               Witch Hunter Robin   7.27   \n",
       "4         8                   Bouken Ou Beet   6.98   \n",
       "\n",
       "                                              Genres            English name  \\\n",
       "0    Action, Adventure, Comedy, Drama, Sci-Fi, Space            Cowboy Bebop   \n",
       "1              Action, Drama, Mystery, Sci-Fi, Space  Cowboy Bebop:The Movie   \n",
       "2  Action, Sci-Fi, Adventure, Comedy, Drama, Shounen                  Trigun   \n",
       "3  Action, Mystery, Police, Supernatural, Drama, ...      Witch Hunter Robin   \n",
       "4          Adventure, Fantasy, Shounen, Supernatural  Beet the Vandel Buster   \n",
       "\n",
       "                      Japanese name  \\\n",
       "0                         カウボーイビバップ   \n",
       "1                    カウボーイビバップ 天国の扉   \n",
       "2                             トライガン   \n",
       "3  Witch Hunter ROBIN (ウイッチハンターロビン)   \n",
       "4                            冒険王ビィト   \n",
       "\n",
       "                                           sypnopsis   Type Episodes  \\\n",
       "0  In the year 2071, humanity has colonized sever...     TV       26   \n",
       "1  other day, another bounty—such is the life of ...  Movie        1   \n",
       "2  Vash the Stampede is the man with a $$60,000,0...     TV       26   \n",
       "3  ches are individuals with special powers like ...     TV       26   \n",
       "4  It is the dark century and the people are suff...     TV       52   \n",
       "\n",
       "                          Aired  ...         Duration  \\\n",
       "0   Apr 3, 1998 to Apr 24, 1999  ...  24 min. per ep.   \n",
       "1                   Sep 1, 2001  ...    1 hr. 55 min.   \n",
       "2   Apr 1, 1998 to Sep 30, 1998  ...  24 min. per ep.   \n",
       "3   Jul 2, 2002 to Dec 24, 2002  ...  25 min. per ep.   \n",
       "4  Sep 30, 2004 to Sep 29, 2005  ...  23 min. per ep.   \n",
       "\n",
       "                           Rating  Ranked Popularity  Members Favorites  \\\n",
       "0  R - 17+ (violence & profanity)    28.0         39  1251960     61971   \n",
       "1  R - 17+ (violence & profanity)   159.0        518   273145      1174   \n",
       "2       PG-13 - Teens 13 or older   266.0        201   558913     12944   \n",
       "3       PG-13 - Teens 13 or older  2481.0       1467    94683       587   \n",
       "4                   PG - Children  3710.0       4369    13224        18   \n",
       "\n",
       "  Watching  Completed  On-Hold  Dropped  \n",
       "0   105808     718161    71513    26678  \n",
       "1     4143     208333     1935      770  \n",
       "2    29113     343492    25465    13925  \n",
       "3     4300      46165     5121     5378  \n",
       "4      642       7314      766     1108  \n",
       "\n",
       "[5 rows x 25 columns]"
      ]
     },
     "execution_count": 61,
     "metadata": {},
     "output_type": "execute_result"
    }
   ],
   "source": [
    "anime = pd.read_csv(\"./anime.csv\")\n",
    "anime.head()"
   ]
  },
  {
   "cell_type": "markdown",
   "metadata": {},
   "source": [
    "## Significado de cada columna"
   ]
  },
  {
   "cell_type": "markdown",
   "metadata": {},
   "source": [
    "| <!-- -->      | <!-- -->        |\n",
    "|:-------------:|:---------------:|\n",
    "| **Name**| *Nombre del anime*|\n",
    "| **Score** | *Puntuación media del anime* |\n",
    "| **Genres** | *Generos del anime* |\n",
    "| **Type** | *Tipo de anime. serie, película u OVA* |\n",
    "| **Episodes** | *Episodios del anime* |\n",
    "| **Aired** | *Rango de fechas en que se emitió el anime* |\n",
    "| **Premiered** | *La temporada y año en que se estrenó el anime* |\n",
    "| **Producers** | *Las productoras o estudios de los animes* |\n",
    "| **Licensors** | *Las empresas que poseen la licencia para distribuir el anime* |\n",
    "| **Studios** | *Los estudios de animación de los animes* |\n",
    "| **Source** | *La fuente del anime. Manga, novela u original* |\n",
    "| **Duration** | *La duración de cada episodio* |\n",
    "| **Rating** | *La calificación del anime* |\n",
    "| **Ranked** | *La posición en el ranking del anime según la popularidad o las calificaciones* |\n",
    "| **Popularity** | *la popularidad del anime* |\n",
    "| **Members** | *La cantidad de personas que tienen el anime en su lista* |\n",
    "| **Favorites** | *La cantidad de personas que han marcado el anime como favorito* |\n",
    "| **Watching** | *La cantidad de personas que actualmente ven el anime* |\n",
    "| **Completed** | *La cantidad de personas que han completado la visualización del anime.* |\n",
    "| **Dropped** | *La cantidad de usuarios que han abandonado el anime* |\n"
   ]
  },
  {
   "cell_type": "markdown",
   "metadata": {},
   "source": [
    "## Info general"
   ]
  },
  {
   "cell_type": "code",
   "execution_count": 4,
   "metadata": {},
   "outputs": [
    {
     "name": "stdout",
     "output_type": "stream",
     "text": [
      "<class 'pandas.core.frame.DataFrame'>\n",
      "RangeIndex: 14952 entries, 0 to 14951\n",
      "Data columns (total 25 columns):\n",
      " #   Column         Non-Null Count  Dtype  \n",
      "---  ------         --------------  -----  \n",
      " 0   anime_id       14952 non-null  int64  \n",
      " 1   Name           14952 non-null  object \n",
      " 2   Score          14952 non-null  float64\n",
      " 3   Genres         14952 non-null  object \n",
      " 4   English name   14952 non-null  object \n",
      " 5   Japanese name  14952 non-null  object \n",
      " 6   sypnopsis      13602 non-null  object \n",
      " 7   Type           14952 non-null  object \n",
      " 8   Episodes       14952 non-null  object \n",
      " 9   Aired          14952 non-null  object \n",
      " 10  Premiered      14952 non-null  object \n",
      " 11  Producers      14952 non-null  object \n",
      " 12  Licensors      14952 non-null  object \n",
      " 13  Studios        14952 non-null  object \n",
      " 14  Source         14952 non-null  object \n",
      " 15  Duration       14952 non-null  object \n",
      " 16  Rating         14952 non-null  object \n",
      " 17  Ranked         13231 non-null  float64\n",
      " 18  Popularity     14952 non-null  int64  \n",
      " 19  Members        14952 non-null  int64  \n",
      " 20  Favorites      14952 non-null  int64  \n",
      " 21  Watching       14952 non-null  int64  \n",
      " 22  Completed      14952 non-null  int64  \n",
      " 23  On-Hold        14952 non-null  int64  \n",
      " 24  Dropped        14952 non-null  int64  \n",
      "dtypes: float64(2), int64(8), object(15)\n",
      "memory usage: 2.9+ MB\n"
     ]
    }
   ],
   "source": [
    "anime.info()"
   ]
  },
  {
   "cell_type": "code",
   "execution_count": 5,
   "metadata": {},
   "outputs": [
    {
     "data": {
      "text/html": [
       "<div>\n",
       "<style scoped>\n",
       "    .dataframe tbody tr th:only-of-type {\n",
       "        vertical-align: middle;\n",
       "    }\n",
       "\n",
       "    .dataframe tbody tr th {\n",
       "        vertical-align: top;\n",
       "    }\n",
       "\n",
       "    .dataframe thead th {\n",
       "        text-align: right;\n",
       "    }\n",
       "</style>\n",
       "<table border=\"1\" class=\"dataframe\">\n",
       "  <thead>\n",
       "    <tr style=\"text-align: right;\">\n",
       "      <th></th>\n",
       "      <th>anime_id</th>\n",
       "      <th>Score</th>\n",
       "      <th>Ranked</th>\n",
       "      <th>Popularity</th>\n",
       "      <th>Members</th>\n",
       "      <th>Favorites</th>\n",
       "      <th>Watching</th>\n",
       "      <th>Completed</th>\n",
       "      <th>On-Hold</th>\n",
       "      <th>Dropped</th>\n",
       "    </tr>\n",
       "  </thead>\n",
       "  <tbody>\n",
       "    <tr>\n",
       "      <th>count</th>\n",
       "      <td>14952.000000</td>\n",
       "      <td>14952.000000</td>\n",
       "      <td>13231.000000</td>\n",
       "      <td>14952.000000</td>\n",
       "      <td>1.495200e+04</td>\n",
       "      <td>14952.000000</td>\n",
       "      <td>14952.000000</td>\n",
       "      <td>1.495200e+04</td>\n",
       "      <td>14952.000000</td>\n",
       "      <td>14952.000000</td>\n",
       "    </tr>\n",
       "    <tr>\n",
       "      <th>mean</th>\n",
       "      <td>19017.432718</td>\n",
       "      <td>6.511526</td>\n",
       "      <td>6829.853828</td>\n",
       "      <td>7465.970907</td>\n",
       "      <td>4.068648e+04</td>\n",
       "      <td>537.629882</td>\n",
       "      <td>2619.806715</td>\n",
       "      <td>2.594310e+04</td>\n",
       "      <td>1121.307986</td>\n",
       "      <td>1377.861891</td>\n",
       "    </tr>\n",
       "    <tr>\n",
       "      <th>std</th>\n",
       "      <td>14588.758618</td>\n",
       "      <td>0.807185</td>\n",
       "      <td>4168.929475</td>\n",
       "      <td>4313.169381</td>\n",
       "      <td>1.348744e+05</td>\n",
       "      <td>4399.016449</td>\n",
       "      <td>15190.098642</td>\n",
       "      <td>9.812729e+04</td>\n",
       "      <td>4613.759597</td>\n",
       "      <td>5110.874501</td>\n",
       "    </tr>\n",
       "    <tr>\n",
       "      <th>min</th>\n",
       "      <td>1.000000</td>\n",
       "      <td>1.850000</td>\n",
       "      <td>1.000000</td>\n",
       "      <td>1.000000</td>\n",
       "      <td>2.000000e+02</td>\n",
       "      <td>0.000000</td>\n",
       "      <td>0.000000</td>\n",
       "      <td>0.000000e+00</td>\n",
       "      <td>0.000000</td>\n",
       "      <td>0.000000</td>\n",
       "    </tr>\n",
       "    <tr>\n",
       "      <th>25%</th>\n",
       "      <td>4602.500000</td>\n",
       "      <td>6.080000</td>\n",
       "      <td>3309.500000</td>\n",
       "      <td>3732.000000</td>\n",
       "      <td>7.360000e+02</td>\n",
       "      <td>1.000000</td>\n",
       "      <td>27.000000</td>\n",
       "      <td>2.460000e+02</td>\n",
       "      <td>14.000000</td>\n",
       "      <td>48.000000</td>\n",
       "    </tr>\n",
       "    <tr>\n",
       "      <th>50%</th>\n",
       "      <td>16729.000000</td>\n",
       "      <td>6.510000</td>\n",
       "      <td>6618.000000</td>\n",
       "      <td>7466.500000</td>\n",
       "      <td>3.493500e+03</td>\n",
       "      <td>6.000000</td>\n",
       "      <td>127.000000</td>\n",
       "      <td>1.515500e+03</td>\n",
       "      <td>78.000000</td>\n",
       "      <td>102.000000</td>\n",
       "    </tr>\n",
       "    <tr>\n",
       "      <th>75%</th>\n",
       "      <td>33513.250000</td>\n",
       "      <td>7.010000</td>\n",
       "      <td>9942.000000</td>\n",
       "      <td>11194.000000</td>\n",
       "      <td>1.919325e+04</td>\n",
       "      <td>47.000000</td>\n",
       "      <td>723.000000</td>\n",
       "      <td>9.797000e+03</td>\n",
       "      <td>388.250000</td>\n",
       "      <td>377.000000</td>\n",
       "    </tr>\n",
       "    <tr>\n",
       "      <th>max</th>\n",
       "      <td>48492.000000</td>\n",
       "      <td>9.190000</td>\n",
       "      <td>15780.000000</td>\n",
       "      <td>17565.000000</td>\n",
       "      <td>2.589552e+06</td>\n",
       "      <td>183914.000000</td>\n",
       "      <td>887333.000000</td>\n",
       "      <td>2.182587e+06</td>\n",
       "      <td>187919.000000</td>\n",
       "      <td>174710.000000</td>\n",
       "    </tr>\n",
       "  </tbody>\n",
       "</table>\n",
       "</div>"
      ],
      "text/plain": [
       "           anime_id         Score        Ranked    Popularity       Members  \\\n",
       "count  14952.000000  14952.000000  13231.000000  14952.000000  1.495200e+04   \n",
       "mean   19017.432718      6.511526   6829.853828   7465.970907  4.068648e+04   \n",
       "std    14588.758618      0.807185   4168.929475   4313.169381  1.348744e+05   \n",
       "min        1.000000      1.850000      1.000000      1.000000  2.000000e+02   \n",
       "25%     4602.500000      6.080000   3309.500000   3732.000000  7.360000e+02   \n",
       "50%    16729.000000      6.510000   6618.000000   7466.500000  3.493500e+03   \n",
       "75%    33513.250000      7.010000   9942.000000  11194.000000  1.919325e+04   \n",
       "max    48492.000000      9.190000  15780.000000  17565.000000  2.589552e+06   \n",
       "\n",
       "           Favorites       Watching     Completed        On-Hold  \\\n",
       "count   14952.000000   14952.000000  1.495200e+04   14952.000000   \n",
       "mean      537.629882    2619.806715  2.594310e+04    1121.307986   \n",
       "std      4399.016449   15190.098642  9.812729e+04    4613.759597   \n",
       "min         0.000000       0.000000  0.000000e+00       0.000000   \n",
       "25%         1.000000      27.000000  2.460000e+02      14.000000   \n",
       "50%         6.000000     127.000000  1.515500e+03      78.000000   \n",
       "75%        47.000000     723.000000  9.797000e+03     388.250000   \n",
       "max    183914.000000  887333.000000  2.182587e+06  187919.000000   \n",
       "\n",
       "             Dropped  \n",
       "count   14952.000000  \n",
       "mean     1377.861891  \n",
       "std      5110.874501  \n",
       "min         0.000000  \n",
       "25%        48.000000  \n",
       "50%       102.000000  \n",
       "75%       377.000000  \n",
       "max    174710.000000  "
      ]
     },
     "execution_count": 5,
     "metadata": {},
     "output_type": "execute_result"
    }
   ],
   "source": [
    "anime.describe()"
   ]
  },
  {
   "cell_type": "markdown",
   "metadata": {},
   "source": [
    "- Tipos de datos"
   ]
  },
  {
   "cell_type": "code",
   "execution_count": 6,
   "metadata": {},
   "outputs": [
    {
     "data": {
      "text/plain": [
       "anime_id           int64\n",
       "Name              object\n",
       "Score            float64\n",
       "Genres            object\n",
       "English name      object\n",
       "Japanese name     object\n",
       "sypnopsis         object\n",
       "Type              object\n",
       "Episodes          object\n",
       "Aired             object\n",
       "Premiered         object\n",
       "Producers         object\n",
       "Licensors         object\n",
       "Studios           object\n",
       "Source            object\n",
       "Duration          object\n",
       "Rating            object\n",
       "Ranked           float64\n",
       "Popularity         int64\n",
       "Members            int64\n",
       "Favorites          int64\n",
       "Watching           int64\n",
       "Completed          int64\n",
       "On-Hold            int64\n",
       "Dropped            int64\n",
       "dtype: object"
      ]
     },
     "execution_count": 6,
     "metadata": {},
     "output_type": "execute_result"
    }
   ],
   "source": [
    "anime.dtypes"
   ]
  },
  {
   "cell_type": "code",
   "execution_count": 7,
   "metadata": {},
   "outputs": [
    {
     "data": {
      "text/plain": [
       "object     15\n",
       "int64       8\n",
       "float64     2\n",
       "Name: count, dtype: int64"
      ]
     },
     "execution_count": 7,
     "metadata": {},
     "output_type": "execute_result"
    }
   ],
   "source": [
    "anime.dtypes.value_counts()"
   ]
  },
  {
   "cell_type": "markdown",
   "metadata": {},
   "source": [
    "- Cuantas filas y columnas"
   ]
  },
  {
   "cell_type": "code",
   "execution_count": 8,
   "metadata": {},
   "outputs": [
    {
     "data": {
      "text/plain": [
       "(14952, 25)"
      ]
     },
     "execution_count": 8,
     "metadata": {},
     "output_type": "execute_result"
    }
   ],
   "source": [
    "anime.shape"
   ]
  },
  {
   "cell_type": "markdown",
   "metadata": {},
   "source": [
    "## Limpieza de la base de datos"
   ]
  },
  {
   "cell_type": "markdown",
   "metadata": {},
   "source": [
    "- Ver si tengo valores nulos"
   ]
  },
  {
   "cell_type": "code",
   "execution_count": 9,
   "metadata": {},
   "outputs": [
    {
     "data": {
      "text/plain": [
       "anime_id         False\n",
       "Name             False\n",
       "Score            False\n",
       "Genres           False\n",
       "English name     False\n",
       "Japanese name    False\n",
       "sypnopsis         True\n",
       "Type             False\n",
       "Episodes         False\n",
       "Aired            False\n",
       "Premiered        False\n",
       "Producers        False\n",
       "Licensors        False\n",
       "Studios          False\n",
       "Source           False\n",
       "Duration         False\n",
       "Rating           False\n",
       "Ranked            True\n",
       "Popularity       False\n",
       "Members          False\n",
       "Favorites        False\n",
       "Watching         False\n",
       "Completed        False\n",
       "On-Hold          False\n",
       "Dropped          False\n",
       "dtype: bool"
      ]
     },
     "execution_count": 9,
     "metadata": {},
     "output_type": "execute_result"
    }
   ],
   "source": [
    "anime.isna().any()"
   ]
  },
  {
   "cell_type": "markdown",
   "metadata": {},
   "source": [
    "- Ver cuantos valores nulos tengo"
   ]
  },
  {
   "cell_type": "code",
   "execution_count": 10,
   "metadata": {},
   "outputs": [
    {
     "data": {
      "text/plain": [
       "anime_id            0\n",
       "Name                0\n",
       "Score               0\n",
       "Genres              0\n",
       "English name        0\n",
       "Japanese name       0\n",
       "sypnopsis        1350\n",
       "Type                0\n",
       "Episodes            0\n",
       "Aired               0\n",
       "Premiered           0\n",
       "Producers           0\n",
       "Licensors           0\n",
       "Studios             0\n",
       "Source              0\n",
       "Duration            0\n",
       "Rating              0\n",
       "Ranked           1721\n",
       "Popularity          0\n",
       "Members             0\n",
       "Favorites           0\n",
       "Watching            0\n",
       "Completed           0\n",
       "On-Hold             0\n",
       "Dropped             0\n",
       "dtype: int64"
      ]
     },
     "execution_count": 10,
     "metadata": {},
     "output_type": "execute_result"
    }
   ],
   "source": [
    "anime.isnull().sum()"
   ]
  },
  {
   "cell_type": "markdown",
   "metadata": {},
   "source": [
    "- Cuantos valores nulos tengo en total"
   ]
  },
  {
   "cell_type": "code",
   "execution_count": 11,
   "metadata": {},
   "outputs": [
    {
     "data": {
      "text/plain": [
       "3071"
      ]
     },
     "execution_count": 11,
     "metadata": {},
     "output_type": "execute_result"
    }
   ],
   "source": [
    "anime.isnull().sum().sum()"
   ]
  },
  {
   "cell_type": "markdown",
   "metadata": {},
   "source": [
    "- Ver la proporcion de valores nulos"
   ]
  },
  {
   "cell_type": "code",
   "execution_count": 81,
   "metadata": {},
   "outputs": [
    {
     "data": {
      "image/png": "[encoded data removed]",
      "text/plain": [
       "<Figure size 800x400 with 1 Axes>"
      ]
     },
     "metadata": {},
     "output_type": "display_data"
    }
   ],
   "source": [
    "\"\"\"colores = sns.color_palette(\"rocket\", as_cmap=True)\n",
    "anime.isnull().melt().pipe(lambda df:(sns.displot(data = df, y=\"variable\", hue = \"value\",multiple = \"fill\", palette= colores)));\"\"\"\n",
    "\n",
    "anime_nulos = anime.isnull()\n",
    "\n",
    "plt.figure(figsize=(8, 4))\n",
    "sns.set(style=\"white\")\n",
    "\n",
    "\n",
    "sns.histplot(data=anime_nulos.melt(), x=\"variable\", hue=\"value\", multiple=\"stack\", palette= \"Paired\" )\n",
    "plt.xticks(rotation=60, ha=\"right\")\n",
    "\n",
    "plt.show()\n"
   ]
  },
  {
   "cell_type": "markdown",
   "metadata": {},
   "source": [
    "- Cuantos valores duplicados tengo en la columna Name"
   ]
  },
  {
   "cell_type": "code",
   "execution_count": 13,
   "metadata": {},
   "outputs": [
    {
     "data": {
      "text/plain": [
       "3"
      ]
     },
     "execution_count": 13,
     "metadata": {},
     "output_type": "execute_result"
    }
   ],
   "source": [
    "anime[\"Name\"].duplicated().sum()"
   ]
  },
  {
   "cell_type": "markdown",
   "metadata": {},
   "source": [
    "- Encontrar filas duplicadas en la columna Name"
   ]
  },
  {
   "cell_type": "code",
   "execution_count": 14,
   "metadata": {},
   "outputs": [
    {
     "data": {
      "text/html": [
       "<div>\n",
       "<style scoped>\n",
       "    .dataframe tbody tr th:only-of-type {\n",
       "        vertical-align: middle;\n",
       "    }\n",
       "\n",
       "    .dataframe tbody tr th {\n",
       "        vertical-align: top;\n",
       "    }\n",
       "\n",
       "    .dataframe thead th {\n",
       "        text-align: right;\n",
       "    }\n",
       "</style>\n",
       "<table border=\"1\" class=\"dataframe\">\n",
       "  <thead>\n",
       "    <tr style=\"text-align: right;\">\n",
       "      <th></th>\n",
       "      <th>Name</th>\n",
       "    </tr>\n",
       "  </thead>\n",
       "  <tbody>\n",
       "    <tr>\n",
       "      <th>11880</th>\n",
       "      <td>Hinamatsuri</td>\n",
       "    </tr>\n",
       "    <tr>\n",
       "      <th>12365</th>\n",
       "      <td>Hinamatsuri</td>\n",
       "    </tr>\n",
       "    <tr>\n",
       "      <th>14123</th>\n",
       "      <td>Maou Gakuin no Futekigousha: Shijou Saikyou no...</td>\n",
       "    </tr>\n",
       "    <tr>\n",
       "      <th>14937</th>\n",
       "      <td>Maou Gakuin no Futekigousha: Shijou Saikyou no...</td>\n",
       "    </tr>\n",
       "    <tr>\n",
       "      <th>14938</th>\n",
       "      <td>Maou Gakuin no Futekigousha: Shijou Saikyou no...</td>\n",
       "    </tr>\n",
       "  </tbody>\n",
       "</table>\n",
       "</div>"
      ],
      "text/plain": [
       "                                                    Name\n",
       "11880                                        Hinamatsuri\n",
       "12365                                        Hinamatsuri\n",
       "14123  Maou Gakuin no Futekigousha: Shijou Saikyou no...\n",
       "14937  Maou Gakuin no Futekigousha: Shijou Saikyou no...\n",
       "14938  Maou Gakuin no Futekigousha: Shijou Saikyou no..."
      ]
     },
     "execution_count": 14,
     "metadata": {},
     "output_type": "execute_result"
    }
   ],
   "source": [
    "dupli= anime[anime.duplicated(subset='Name', keep=False)]\n",
    "dupli[['Name']]"
   ]
  },
  {
   "cell_type": "markdown",
   "metadata": {},
   "source": [
    "- Hacer una copia"
   ]
  },
  {
   "cell_type": "code",
   "execution_count": 15,
   "metadata": {},
   "outputs": [],
   "source": [
    "anime_copia = anime.copy()"
   ]
  },
  {
   "cell_type": "markdown",
   "metadata": {},
   "source": [
    "- Borrar duplicados de la columna Name"
   ]
  },
  {
   "cell_type": "code",
   "execution_count": 16,
   "metadata": {},
   "outputs": [
    {
     "data": {
      "text/html": [
       "<div>\n",
       "<style scoped>\n",
       "    .dataframe tbody tr th:only-of-type {\n",
       "        vertical-align: middle;\n",
       "    }\n",
       "\n",
       "    .dataframe tbody tr th {\n",
       "        vertical-align: top;\n",
       "    }\n",
       "\n",
       "    .dataframe thead th {\n",
       "        text-align: right;\n",
       "    }\n",
       "</style>\n",
       "<table border=\"1\" class=\"dataframe\">\n",
       "  <thead>\n",
       "    <tr style=\"text-align: right;\">\n",
       "      <th></th>\n",
       "      <th>anime_id</th>\n",
       "      <th>Name</th>\n",
       "      <th>Score</th>\n",
       "      <th>Genres</th>\n",
       "      <th>English name</th>\n",
       "      <th>Japanese name</th>\n",
       "      <th>sypnopsis</th>\n",
       "      <th>Type</th>\n",
       "      <th>Episodes</th>\n",
       "      <th>Aired</th>\n",
       "      <th>...</th>\n",
       "      <th>Duration</th>\n",
       "      <th>Rating</th>\n",
       "      <th>Ranked</th>\n",
       "      <th>Popularity</th>\n",
       "      <th>Members</th>\n",
       "      <th>Favorites</th>\n",
       "      <th>Watching</th>\n",
       "      <th>Completed</th>\n",
       "      <th>On-Hold</th>\n",
       "      <th>Dropped</th>\n",
       "    </tr>\n",
       "  </thead>\n",
       "  <tbody>\n",
       "    <tr>\n",
       "      <th>0</th>\n",
       "      <td>1</td>\n",
       "      <td>Cowboy Bebop</td>\n",
       "      <td>8.78</td>\n",
       "      <td>Action, Adventure, Comedy, Drama, Sci-Fi, Space</td>\n",
       "      <td>Cowboy Bebop</td>\n",
       "      <td>カウボーイビバップ</td>\n",
       "      <td>In the year 2071, humanity has colonized sever...</td>\n",
       "      <td>TV</td>\n",
       "      <td>26</td>\n",
       "      <td>Apr 3, 1998 to Apr 24, 1999</td>\n",
       "      <td>...</td>\n",
       "      <td>24 min. per ep.</td>\n",
       "      <td>R - 17+ (violence &amp; profanity)</td>\n",
       "      <td>28.0</td>\n",
       "      <td>39</td>\n",
       "      <td>1251960</td>\n",
       "      <td>61971</td>\n",
       "      <td>105808</td>\n",
       "      <td>718161</td>\n",
       "      <td>71513</td>\n",
       "      <td>26678</td>\n",
       "    </tr>\n",
       "  </tbody>\n",
       "</table>\n",
       "<p>1 rows × 25 columns</p>\n",
       "</div>"
      ],
      "text/plain": [
       "   anime_id          Name  Score  \\\n",
       "0         1  Cowboy Bebop   8.78   \n",
       "\n",
       "                                            Genres  English name  \\\n",
       "0  Action, Adventure, Comedy, Drama, Sci-Fi, Space  Cowboy Bebop   \n",
       "\n",
       "  Japanese name                                          sypnopsis Type  \\\n",
       "0     カウボーイビバップ  In the year 2071, humanity has colonized sever...   TV   \n",
       "\n",
       "  Episodes                        Aired  ...         Duration  \\\n",
       "0       26  Apr 3, 1998 to Apr 24, 1999  ...  24 min. per ep.   \n",
       "\n",
       "                           Rating Ranked Popularity  Members Favorites  \\\n",
       "0  R - 17+ (violence & profanity)   28.0         39  1251960     61971   \n",
       "\n",
       "  Watching  Completed  On-Hold  Dropped  \n",
       "0   105808     718161    71513    26678  \n",
       "\n",
       "[1 rows x 25 columns]"
      ]
     },
     "execution_count": 16,
     "metadata": {},
     "output_type": "execute_result"
    }
   ],
   "source": [
    "anime_copia = anime_copia.drop_duplicates(subset='Name', keep='first')\n",
    "\n",
    "anime_copia.head(1)"
   ]
  },
  {
   "cell_type": "code",
   "execution_count": 17,
   "metadata": {},
   "outputs": [
    {
     "data": {
      "text/plain": [
       "0"
      ]
     },
     "execution_count": 17,
     "metadata": {},
     "output_type": "execute_result"
    }
   ],
   "source": [
    "anime_copia[\"Name\"].duplicated().sum()"
   ]
  },
  {
   "cell_type": "markdown",
   "metadata": {},
   "source": [
    "- Eliminar columnas que no me interesan"
   ]
  },
  {
   "cell_type": "code",
   "execution_count": 18,
   "metadata": {},
   "outputs": [],
   "source": [
    "anime_copia.drop(\"Japanese name\", axis=1, inplace=True)"
   ]
  },
  {
   "cell_type": "code",
   "execution_count": 19,
   "metadata": {},
   "outputs": [],
   "source": [
    "anime_copia.drop(\"English name\", axis=1, inplace=True)"
   ]
  },
  {
   "cell_type": "code",
   "execution_count": 20,
   "metadata": {},
   "outputs": [],
   "source": [
    "anime_copia.drop(\"sypnopsis\", axis=1, inplace=True)"
   ]
  },
  {
   "cell_type": "code",
   "execution_count": 21,
   "metadata": {},
   "outputs": [],
   "source": [
    "anime_copia.drop(\"On-Hold\", axis=1, inplace=True)"
   ]
  },
  {
   "cell_type": "code",
   "execution_count": 22,
   "metadata": {},
   "outputs": [],
   "source": [
    "anime_copia.drop(\"anime_id\", axis=1, inplace=True)"
   ]
  },
  {
   "cell_type": "code",
   "execution_count": 24,
   "metadata": {},
   "outputs": [
    {
     "data": {
      "text/html": [
       "<div>\n",
       "<style scoped>\n",
       "    .dataframe tbody tr th:only-of-type {\n",
       "        vertical-align: middle;\n",
       "    }\n",
       "\n",
       "    .dataframe tbody tr th {\n",
       "        vertical-align: top;\n",
       "    }\n",
       "\n",
       "    .dataframe thead th {\n",
       "        text-align: right;\n",
       "    }\n",
       "</style>\n",
       "<table border=\"1\" class=\"dataframe\">\n",
       "  <thead>\n",
       "    <tr style=\"text-align: right;\">\n",
       "      <th></th>\n",
       "      <th>Name</th>\n",
       "      <th>Score</th>\n",
       "      <th>Genres</th>\n",
       "      <th>Type</th>\n",
       "      <th>Episodes</th>\n",
       "      <th>Aired</th>\n",
       "      <th>Premiered</th>\n",
       "      <th>Producers</th>\n",
       "      <th>Licensors</th>\n",
       "      <th>Studios</th>\n",
       "      <th>Source</th>\n",
       "      <th>Duration</th>\n",
       "      <th>Rating</th>\n",
       "      <th>Ranked</th>\n",
       "      <th>Popularity</th>\n",
       "      <th>Members</th>\n",
       "      <th>Favorites</th>\n",
       "      <th>Watching</th>\n",
       "      <th>Completed</th>\n",
       "      <th>Dropped</th>\n",
       "    </tr>\n",
       "  </thead>\n",
       "  <tbody>\n",
       "    <tr>\n",
       "      <th>0</th>\n",
       "      <td>Cowboy Bebop</td>\n",
       "      <td>8.78</td>\n",
       "      <td>Action, Adventure, Comedy, Drama, Sci-Fi, Space</td>\n",
       "      <td>TV</td>\n",
       "      <td>26</td>\n",
       "      <td>Apr 3, 1998 to Apr 24, 1999</td>\n",
       "      <td>Spring 1998</td>\n",
       "      <td>Bandai Visual</td>\n",
       "      <td>Funimation, Bandai Entertainment</td>\n",
       "      <td>Sunrise</td>\n",
       "      <td>Original</td>\n",
       "      <td>24 min. per ep.</td>\n",
       "      <td>R - 17+ (violence &amp; profanity)</td>\n",
       "      <td>28.0</td>\n",
       "      <td>39</td>\n",
       "      <td>1251960</td>\n",
       "      <td>61971</td>\n",
       "      <td>105808</td>\n",
       "      <td>718161</td>\n",
       "      <td>26678</td>\n",
       "    </tr>\n",
       "    <tr>\n",
       "      <th>1</th>\n",
       "      <td>Cowboy Bebop: Tengoku no Tobira</td>\n",
       "      <td>8.39</td>\n",
       "      <td>Action, Drama, Mystery, Sci-Fi, Space</td>\n",
       "      <td>Movie</td>\n",
       "      <td>1</td>\n",
       "      <td>Sep 1, 2001</td>\n",
       "      <td>Unknown</td>\n",
       "      <td>Sunrise, Bandai Visual</td>\n",
       "      <td>Sony Pictures Entertainment</td>\n",
       "      <td>Bones</td>\n",
       "      <td>Original</td>\n",
       "      <td>1 hr. 55 min.</td>\n",
       "      <td>R - 17+ (violence &amp; profanity)</td>\n",
       "      <td>159.0</td>\n",
       "      <td>518</td>\n",
       "      <td>273145</td>\n",
       "      <td>1174</td>\n",
       "      <td>4143</td>\n",
       "      <td>208333</td>\n",
       "      <td>770</td>\n",
       "    </tr>\n",
       "    <tr>\n",
       "      <th>2</th>\n",
       "      <td>Trigun</td>\n",
       "      <td>8.24</td>\n",
       "      <td>Action, Sci-Fi, Adventure, Comedy, Drama, Shounen</td>\n",
       "      <td>TV</td>\n",
       "      <td>26</td>\n",
       "      <td>Apr 1, 1998 to Sep 30, 1998</td>\n",
       "      <td>Spring 1998</td>\n",
       "      <td>Victor Entertainment</td>\n",
       "      <td>Funimation, Geneon Entertainment USA</td>\n",
       "      <td>Madhouse</td>\n",
       "      <td>Manga</td>\n",
       "      <td>24 min. per ep.</td>\n",
       "      <td>PG-13 - Teens 13 or older</td>\n",
       "      <td>266.0</td>\n",
       "      <td>201</td>\n",
       "      <td>558913</td>\n",
       "      <td>12944</td>\n",
       "      <td>29113</td>\n",
       "      <td>343492</td>\n",
       "      <td>13925</td>\n",
       "    </tr>\n",
       "    <tr>\n",
       "      <th>3</th>\n",
       "      <td>Witch Hunter Robin</td>\n",
       "      <td>7.27</td>\n",
       "      <td>Action, Mystery, Police, Supernatural, Drama, ...</td>\n",
       "      <td>TV</td>\n",
       "      <td>26</td>\n",
       "      <td>Jul 2, 2002 to Dec 24, 2002</td>\n",
       "      <td>Summer 2002</td>\n",
       "      <td>TV Tokyo, Bandai Visual, Dentsu, Victor Entert...</td>\n",
       "      <td>Funimation, Bandai Entertainment</td>\n",
       "      <td>Sunrise</td>\n",
       "      <td>Original</td>\n",
       "      <td>25 min. per ep.</td>\n",
       "      <td>PG-13 - Teens 13 or older</td>\n",
       "      <td>2481.0</td>\n",
       "      <td>1467</td>\n",
       "      <td>94683</td>\n",
       "      <td>587</td>\n",
       "      <td>4300</td>\n",
       "      <td>46165</td>\n",
       "      <td>5378</td>\n",
       "    </tr>\n",
       "    <tr>\n",
       "      <th>4</th>\n",
       "      <td>Bouken Ou Beet</td>\n",
       "      <td>6.98</td>\n",
       "      <td>Adventure, Fantasy, Shounen, Supernatural</td>\n",
       "      <td>TV</td>\n",
       "      <td>52</td>\n",
       "      <td>Sep 30, 2004 to Sep 29, 2005</td>\n",
       "      <td>Fall 2004</td>\n",
       "      <td>TV Tokyo, Dentsu</td>\n",
       "      <td>Unknown</td>\n",
       "      <td>Toei Animation</td>\n",
       "      <td>Manga</td>\n",
       "      <td>23 min. per ep.</td>\n",
       "      <td>PG - Children</td>\n",
       "      <td>3710.0</td>\n",
       "      <td>4369</td>\n",
       "      <td>13224</td>\n",
       "      <td>18</td>\n",
       "      <td>642</td>\n",
       "      <td>7314</td>\n",
       "      <td>1108</td>\n",
       "    </tr>\n",
       "  </tbody>\n",
       "</table>\n",
       "</div>"
      ],
      "text/plain": [
       "                              Name  Score  \\\n",
       "0                     Cowboy Bebop   8.78   \n",
       "1  Cowboy Bebop: Tengoku no Tobira   8.39   \n",
       "2                           Trigun   8.24   \n",
       "3               Witch Hunter Robin   7.27   \n",
       "4                   Bouken Ou Beet   6.98   \n",
       "\n",
       "                                              Genres   Type Episodes  \\\n",
       "0    Action, Adventure, Comedy, Drama, Sci-Fi, Space     TV       26   \n",
       "1              Action, Drama, Mystery, Sci-Fi, Space  Movie        1   \n",
       "2  Action, Sci-Fi, Adventure, Comedy, Drama, Shounen     TV       26   \n",
       "3  Action, Mystery, Police, Supernatural, Drama, ...     TV       26   \n",
       "4          Adventure, Fantasy, Shounen, Supernatural     TV       52   \n",
       "\n",
       "                          Aired    Premiered  \\\n",
       "0   Apr 3, 1998 to Apr 24, 1999  Spring 1998   \n",
       "1                   Sep 1, 2001      Unknown   \n",
       "2   Apr 1, 1998 to Sep 30, 1998  Spring 1998   \n",
       "3   Jul 2, 2002 to Dec 24, 2002  Summer 2002   \n",
       "4  Sep 30, 2004 to Sep 29, 2005    Fall 2004   \n",
       "\n",
       "                                           Producers  \\\n",
       "0                                      Bandai Visual   \n",
       "1                             Sunrise, Bandai Visual   \n",
       "2                               Victor Entertainment   \n",
       "3  TV Tokyo, Bandai Visual, Dentsu, Victor Entert...   \n",
       "4                                   TV Tokyo, Dentsu   \n",
       "\n",
       "                              Licensors         Studios    Source  \\\n",
       "0      Funimation, Bandai Entertainment         Sunrise  Original   \n",
       "1           Sony Pictures Entertainment           Bones  Original   \n",
       "2  Funimation, Geneon Entertainment USA        Madhouse     Manga   \n",
       "3      Funimation, Bandai Entertainment         Sunrise  Original   \n",
       "4                               Unknown  Toei Animation     Manga   \n",
       "\n",
       "          Duration                          Rating  Ranked  Popularity  \\\n",
       "0  24 min. per ep.  R - 17+ (violence & profanity)    28.0          39   \n",
       "1    1 hr. 55 min.  R - 17+ (violence & profanity)   159.0         518   \n",
       "2  24 min. per ep.       PG-13 - Teens 13 or older   266.0         201   \n",
       "3  25 min. per ep.       PG-13 - Teens 13 or older  2481.0        1467   \n",
       "4  23 min. per ep.                   PG - Children  3710.0        4369   \n",
       "\n",
       "   Members  Favorites  Watching  Completed  Dropped  \n",
       "0  1251960      61971    105808     718161    26678  \n",
       "1   273145       1174      4143     208333      770  \n",
       "2   558913      12944     29113     343492    13925  \n",
       "3    94683        587      4300      46165     5378  \n",
       "4    13224         18       642       7314     1108  "
      ]
     },
     "execution_count": 24,
     "metadata": {},
     "output_type": "execute_result"
    }
   ],
   "source": [
    "anime_copia.head(5)"
   ]
  },
  {
   "cell_type": "markdown",
   "metadata": {},
   "source": [
    "- Eliminar filas con nan"
   ]
  },
  {
   "cell_type": "code",
   "execution_count": 26,
   "metadata": {},
   "outputs": [],
   "source": [
    "anime_filter = anime_copia.dropna(subset=[\"Ranked\"])"
   ]
  },
  {
   "cell_type": "code",
   "execution_count": 27,
   "metadata": {},
   "outputs": [
    {
     "data": {
      "text/plain": [
       "(13230, 20)"
      ]
     },
     "execution_count": 27,
     "metadata": {},
     "output_type": "execute_result"
    }
   ],
   "source": [
    "anime_filter.shape"
   ]
  },
  {
   "cell_type": "code",
   "execution_count": 28,
   "metadata": {},
   "outputs": [
    {
     "data": {
      "text/plain": [
       "0"
      ]
     },
     "execution_count": 28,
     "metadata": {},
     "output_type": "execute_result"
    }
   ],
   "source": [
    "anime_filter.isnull().sum().sum()"
   ]
  },
  {
   "cell_type": "markdown",
   "metadata": {},
   "source": [
    "- Guardar csv sin Nan"
   ]
  },
  {
   "cell_type": "code",
   "execution_count": 29,
   "metadata": {},
   "outputs": [],
   "source": [
    "ruta = \"./anime-filtered.csv\"\n",
    "anime_filter.to_csv(ruta, index=False, encoding='utf-8')"
   ]
  },
  {
   "cell_type": "markdown",
   "metadata": {},
   "source": [
    "- Arreglar los unknown de Premiered comparando la fecha de lanzamiento de Aired con la estacion del año"
   ]
  },
  {
   "cell_type": "code",
   "execution_count": null,
   "metadata": {},
   "outputs": [],
   "source": []
  },
  {
   "cell_type": "code",
   "execution_count": 83,
   "metadata": {},
   "outputs": [
    {
     "data": {
      "text/plain": [
       "array(['TV', 'Movie', 'OVA', 'Special', 'ONA', 'Music'], dtype=object)"
      ]
     },
     "execution_count": 83,
     "metadata": {},
     "output_type": "execute_result"
    }
   ],
   "source": [
    "anime_filter[\"Type\"].unique()\n",
    "\n",
    "#Estoy pensando quitar las filas de movies, OVAS, special, ONA y music"
   ]
  },
  {
   "cell_type": "code",
   "execution_count": 92,
   "metadata": {},
   "outputs": [
    {
     "data": {
      "text/plain": [
       "743"
      ]
     },
     "execution_count": 92,
     "metadata": {},
     "output_type": "execute_result"
    }
   ],
   "source": [
    "tipo = anime_filter[\"Type\"]\n",
    "tipo[tipo == \"Music\"].duplicated().sum()"
   ]
  },
  {
   "cell_type": "code",
   "execution_count": 93,
   "metadata": {},
   "outputs": [
    {
     "data": {
      "text/plain": [
       "2031"
      ]
     },
     "execution_count": 93,
     "metadata": {},
     "output_type": "execute_result"
    }
   ],
   "source": [
    "tipo = anime_filter[\"Type\"]\n",
    "tipo[tipo == \"OVA\"].duplicated().sum()"
   ]
  },
  {
   "cell_type": "code",
   "execution_count": 94,
   "metadata": {},
   "outputs": [
    {
     "data": {
      "text/plain": [
       "1460"
      ]
     },
     "execution_count": 94,
     "metadata": {},
     "output_type": "execute_result"
    }
   ],
   "source": [
    "tipo = anime_filter[\"Type\"]\n",
    "tipo[tipo == \"ONA\"].duplicated().sum()"
   ]
  },
  {
   "cell_type": "code",
   "execution_count": 95,
   "metadata": {},
   "outputs": [
    {
     "data": {
      "text/plain": [
       "1965"
      ]
     },
     "execution_count": 95,
     "metadata": {},
     "output_type": "execute_result"
    }
   ],
   "source": [
    "tipo = anime_filter[\"Type\"]\n",
    "tipo[tipo == \"Special\"].duplicated().sum()"
   ]
  },
  {
   "cell_type": "markdown",
   "metadata": {},
   "source": [
    "## Analizar"
   ]
  },
  {
   "cell_type": "markdown",
   "metadata": {},
   "source": [
    "-Popularidad y Calificaciones:\n",
    "Relacionar la popularidad de un anime con sus calificaciones\n",
    "Investigar si hay alguna correlación entre la duración de un anime y su calificación\n",
    "Analizar si la popularidad afecta a la duración o número de temporadas de un anime\n",
    "\n",
    "\n",
    "-Generos y Preferencias:\n",
    "Explorar la popularidad de diferentes géneros de anime a lo largo del tiempo.\n",
    "Investigar si ciertos géneros tienen más probabilidades de recibir altas calificaciones.\n",
    "Analizar cómo las preferencias de género varían entre diferentes grupos demográficos.\n",
    "\n",
    "\n",
    "-Estudio de Estudios de Animación:\n",
    "Examinar la producción de diferentes estudios de animación.\n",
    "Investigar si hay una correlación entre el estudio de animación y la calidad de la animación.\n",
    "Analizar cómo la popularidad de los estudios ha evolucionado a lo largo de los años\n",
    "\n",
    "-Adaptaciones y Fuentes Originales:\n",
    "Investigar la popularidad de animes basados en manga, novelas ligeras, videojuegos, etc.\n",
    "Analizar si las adaptaciones tienden a ser más exitosas que las historias originales.\n",
    "Examinar la relación entre la fidelidad a la fuente original y la recepción del anime\n",
    "\n",
    "-Analisis Temporal:\n",
    "Observar las tendencias de producción y popularidad a lo largo de los años.\n",
    "Investigar si hay ciclos estacionales o patrones estacionales en el lanzamiento de animes.\n",
    "Analizar cómo ha evolucionado la calidad de animación a lo largo del tiempo\n",
    "\n",
    "\n"
   ]
  },
  {
   "cell_type": "markdown",
   "metadata": {},
   "source": [
    "## Visualizaciones"
   ]
  },
  {
   "cell_type": "code",
   "execution_count": 101,
   "metadata": {},
   "outputs": [
    {
     "data": {
      "text/html": [
       "<div>\n",
       "<style scoped>\n",
       "    .dataframe tbody tr th:only-of-type {\n",
       "        vertical-align: middle;\n",
       "    }\n",
       "\n",
       "    .dataframe tbody tr th {\n",
       "        vertical-align: top;\n",
       "    }\n",
       "\n",
       "    .dataframe thead th {\n",
       "        text-align: right;\n",
       "    }\n",
       "</style>\n",
       "<table border=\"1\" class=\"dataframe\">\n",
       "  <thead>\n",
       "    <tr style=\"text-align: right;\">\n",
       "      <th></th>\n",
       "      <th>Name</th>\n",
       "      <th>Score</th>\n",
       "      <th>Genres</th>\n",
       "      <th>Type</th>\n",
       "      <th>Episodes</th>\n",
       "      <th>Aired</th>\n",
       "      <th>Premiered</th>\n",
       "      <th>Producers</th>\n",
       "      <th>Licensors</th>\n",
       "      <th>Studios</th>\n",
       "      <th>Source</th>\n",
       "      <th>Duration</th>\n",
       "      <th>Rating</th>\n",
       "      <th>Ranked</th>\n",
       "      <th>Popularity</th>\n",
       "      <th>Members</th>\n",
       "      <th>Favorites</th>\n",
       "      <th>Watching</th>\n",
       "      <th>Completed</th>\n",
       "      <th>Dropped</th>\n",
       "    </tr>\n",
       "  </thead>\n",
       "  <tbody>\n",
       "    <tr>\n",
       "      <th>0</th>\n",
       "      <td>Cowboy Bebop</td>\n",
       "      <td>8.78</td>\n",
       "      <td>Action, Adventure, Comedy, Drama, Sci-Fi, Space</td>\n",
       "      <td>TV</td>\n",
       "      <td>26</td>\n",
       "      <td>Apr 3, 1998 to Apr 24, 1999</td>\n",
       "      <td>Spring 1998</td>\n",
       "      <td>Bandai Visual</td>\n",
       "      <td>Funimation, Bandai Entertainment</td>\n",
       "      <td>Sunrise</td>\n",
       "      <td>Original</td>\n",
       "      <td>24 min. per ep.</td>\n",
       "      <td>R - 17+ (violence &amp; profanity)</td>\n",
       "      <td>28.0</td>\n",
       "      <td>39</td>\n",
       "      <td>1251960</td>\n",
       "      <td>61971</td>\n",
       "      <td>105808</td>\n",
       "      <td>718161</td>\n",
       "      <td>26678</td>\n",
       "    </tr>\n",
       "    <tr>\n",
       "      <th>1</th>\n",
       "      <td>Cowboy Bebop: Tengoku no Tobira</td>\n",
       "      <td>8.39</td>\n",
       "      <td>Action, Drama, Mystery, Sci-Fi, Space</td>\n",
       "      <td>Movie</td>\n",
       "      <td>1</td>\n",
       "      <td>Sep 1, 2001</td>\n",
       "      <td>Unknown</td>\n",
       "      <td>Sunrise, Bandai Visual</td>\n",
       "      <td>Sony Pictures Entertainment</td>\n",
       "      <td>Bones</td>\n",
       "      <td>Original</td>\n",
       "      <td>1 hr. 55 min.</td>\n",
       "      <td>R - 17+ (violence &amp; profanity)</td>\n",
       "      <td>159.0</td>\n",
       "      <td>518</td>\n",
       "      <td>273145</td>\n",
       "      <td>1174</td>\n",
       "      <td>4143</td>\n",
       "      <td>208333</td>\n",
       "      <td>770</td>\n",
       "    </tr>\n",
       "    <tr>\n",
       "      <th>2</th>\n",
       "      <td>Trigun</td>\n",
       "      <td>8.24</td>\n",
       "      <td>Action, Sci-Fi, Adventure, Comedy, Drama, Shounen</td>\n",
       "      <td>TV</td>\n",
       "      <td>26</td>\n",
       "      <td>Apr 1, 1998 to Sep 30, 1998</td>\n",
       "      <td>Spring 1998</td>\n",
       "      <td>Victor Entertainment</td>\n",
       "      <td>Funimation, Geneon Entertainment USA</td>\n",
       "      <td>Madhouse</td>\n",
       "      <td>Manga</td>\n",
       "      <td>24 min. per ep.</td>\n",
       "      <td>PG-13 - Teens 13 or older</td>\n",
       "      <td>266.0</td>\n",
       "      <td>201</td>\n",
       "      <td>558913</td>\n",
       "      <td>12944</td>\n",
       "      <td>29113</td>\n",
       "      <td>343492</td>\n",
       "      <td>13925</td>\n",
       "    </tr>\n",
       "    <tr>\n",
       "      <th>3</th>\n",
       "      <td>Witch Hunter Robin</td>\n",
       "      <td>7.27</td>\n",
       "      <td>Action, Mystery, Police, Supernatural, Drama, ...</td>\n",
       "      <td>TV</td>\n",
       "      <td>26</td>\n",
       "      <td>Jul 2, 2002 to Dec 24, 2002</td>\n",
       "      <td>Summer 2002</td>\n",
       "      <td>TV Tokyo, Bandai Visual, Dentsu, Victor Entert...</td>\n",
       "      <td>Funimation, Bandai Entertainment</td>\n",
       "      <td>Sunrise</td>\n",
       "      <td>Original</td>\n",
       "      <td>25 min. per ep.</td>\n",
       "      <td>PG-13 - Teens 13 or older</td>\n",
       "      <td>2481.0</td>\n",
       "      <td>1467</td>\n",
       "      <td>94683</td>\n",
       "      <td>587</td>\n",
       "      <td>4300</td>\n",
       "      <td>46165</td>\n",
       "      <td>5378</td>\n",
       "    </tr>\n",
       "    <tr>\n",
       "      <th>4</th>\n",
       "      <td>Bouken Ou Beet</td>\n",
       "      <td>6.98</td>\n",
       "      <td>Adventure, Fantasy, Shounen, Supernatural</td>\n",
       "      <td>TV</td>\n",
       "      <td>52</td>\n",
       "      <td>Sep 30, 2004 to Sep 29, 2005</td>\n",
       "      <td>Fall 2004</td>\n",
       "      <td>TV Tokyo, Dentsu</td>\n",
       "      <td>Unknown</td>\n",
       "      <td>Toei Animation</td>\n",
       "      <td>Manga</td>\n",
       "      <td>23 min. per ep.</td>\n",
       "      <td>PG - Children</td>\n",
       "      <td>3710.0</td>\n",
       "      <td>4369</td>\n",
       "      <td>13224</td>\n",
       "      <td>18</td>\n",
       "      <td>642</td>\n",
       "      <td>7314</td>\n",
       "      <td>1108</td>\n",
       "    </tr>\n",
       "    <tr>\n",
       "      <th>...</th>\n",
       "      <td>...</td>\n",
       "      <td>...</td>\n",
       "      <td>...</td>\n",
       "      <td>...</td>\n",
       "      <td>...</td>\n",
       "      <td>...</td>\n",
       "      <td>...</td>\n",
       "      <td>...</td>\n",
       "      <td>...</td>\n",
       "      <td>...</td>\n",
       "      <td>...</td>\n",
       "      <td>...</td>\n",
       "      <td>...</td>\n",
       "      <td>...</td>\n",
       "      <td>...</td>\n",
       "      <td>...</td>\n",
       "      <td>...</td>\n",
       "      <td>...</td>\n",
       "      <td>...</td>\n",
       "      <td>...</td>\n",
       "    </tr>\n",
       "    <tr>\n",
       "      <th>14916</th>\n",
       "      <td>Kuro Gal ni Natta kara Shinyuu to shitemita.</td>\n",
       "      <td>6.51</td>\n",
       "      <td>Romance, Shounen Ai</td>\n",
       "      <td>TV</td>\n",
       "      <td>Unknown</td>\n",
       "      <td>Feb 11, 2021 to ?</td>\n",
       "      <td>Winter 2021</td>\n",
       "      <td>Suiseisha, blackflag</td>\n",
       "      <td>Unknown</td>\n",
       "      <td>Irawias</td>\n",
       "      <td>Manga</td>\n",
       "      <td>4 min.</td>\n",
       "      <td>R+ - Mild Nudity</td>\n",
       "      <td>15231.0</td>\n",
       "      <td>7387</td>\n",
       "      <td>3636</td>\n",
       "      <td>90</td>\n",
       "      <td>768</td>\n",
       "      <td>3</td>\n",
       "      <td>35</td>\n",
       "    </tr>\n",
       "    <tr>\n",
       "      <th>14917</th>\n",
       "      <td>Nu Wushen de Canzhuo Spring Festival Special</td>\n",
       "      <td>6.83</td>\n",
       "      <td>Slice of Life, Comedy</td>\n",
       "      <td>Special</td>\n",
       "      <td>1</td>\n",
       "      <td>Feb 11, 2021</td>\n",
       "      <td>Unknown</td>\n",
       "      <td>Unknown</td>\n",
       "      <td>Unknown</td>\n",
       "      <td>Unknown</td>\n",
       "      <td>Game</td>\n",
       "      <td>10 min.</td>\n",
       "      <td>PG - Children</td>\n",
       "      <td>4382.0</td>\n",
       "      <td>11973</td>\n",
       "      <td>540</td>\n",
       "      <td>8</td>\n",
       "      <td>51</td>\n",
       "      <td>168</td>\n",
       "      <td>2</td>\n",
       "    </tr>\n",
       "    <tr>\n",
       "      <th>14918</th>\n",
       "      <td>Yakusoku no Neverland 2nd Season: Michishirube</td>\n",
       "      <td>4.81</td>\n",
       "      <td>Mystery, Psychological, Supernatural, Thriller...</td>\n",
       "      <td>Special</td>\n",
       "      <td>1</td>\n",
       "      <td>Feb 12, 2021</td>\n",
       "      <td>Unknown</td>\n",
       "      <td>Unknown</td>\n",
       "      <td>Unknown</td>\n",
       "      <td>CloverWorks</td>\n",
       "      <td>Manga</td>\n",
       "      <td>23 min.</td>\n",
       "      <td>R - 17+ (violence &amp; profanity)</td>\n",
       "      <td>10760.0</td>\n",
       "      <td>4398</td>\n",
       "      <td>13070</td>\n",
       "      <td>90</td>\n",
       "      <td>1183</td>\n",
       "      <td>8196</td>\n",
       "      <td>202</td>\n",
       "    </tr>\n",
       "    <tr>\n",
       "      <th>14924</th>\n",
       "      <td>Ai Zai Xi Yuan Qian 2nd Season</td>\n",
       "      <td>6.51</td>\n",
       "      <td>Fantasy, Romance</td>\n",
       "      <td>ONA</td>\n",
       "      <td>16</td>\n",
       "      <td>Feb 14, 2021 to ?</td>\n",
       "      <td>Unknown</td>\n",
       "      <td>Unknown</td>\n",
       "      <td>Unknown</td>\n",
       "      <td>Unknown</td>\n",
       "      <td>Unknown</td>\n",
       "      <td>Unknown</td>\n",
       "      <td>Unknown</td>\n",
       "      <td>13254.0</td>\n",
       "      <td>12411</td>\n",
       "      <td>463</td>\n",
       "      <td>35</td>\n",
       "      <td>40</td>\n",
       "      <td>0</td>\n",
       "      <td>7</td>\n",
       "    </tr>\n",
       "    <tr>\n",
       "      <th>14943</th>\n",
       "      <td>SK∞: Crazy Rock Jam</td>\n",
       "      <td>6.52</td>\n",
       "      <td>Comedy, Sports</td>\n",
       "      <td>Special</td>\n",
       "      <td>1</td>\n",
       "      <td>Mar 14, 2021</td>\n",
       "      <td>Unknown</td>\n",
       "      <td>Aniplex, Movic, ABC Animation</td>\n",
       "      <td>Unknown</td>\n",
       "      <td>Bones</td>\n",
       "      <td>Original</td>\n",
       "      <td>23 min.</td>\n",
       "      <td>PG-13 - Teens 13 or older</td>\n",
       "      <td>5799.0</td>\n",
       "      <td>4830</td>\n",
       "      <td>10722</td>\n",
       "      <td>167</td>\n",
       "      <td>739</td>\n",
       "      <td>7207</td>\n",
       "      <td>45</td>\n",
       "    </tr>\n",
       "  </tbody>\n",
       "</table>\n",
       "<p>13230 rows × 20 columns</p>\n",
       "</div>"
      ],
      "text/plain": [
       "                                                 Name  Score  \\\n",
       "0                                        Cowboy Bebop   8.78   \n",
       "1                     Cowboy Bebop: Tengoku no Tobira   8.39   \n",
       "2                                              Trigun   8.24   \n",
       "3                                  Witch Hunter Robin   7.27   \n",
       "4                                      Bouken Ou Beet   6.98   \n",
       "...                                               ...    ...   \n",
       "14916    Kuro Gal ni Natta kara Shinyuu to shitemita.   6.51   \n",
       "14917    Nu Wushen de Canzhuo Spring Festival Special   6.83   \n",
       "14918  Yakusoku no Neverland 2nd Season: Michishirube   4.81   \n",
       "14924                  Ai Zai Xi Yuan Qian 2nd Season   6.51   \n",
       "14943                             SK∞: Crazy Rock Jam   6.52   \n",
       "\n",
       "                                                  Genres     Type Episodes  \\\n",
       "0        Action, Adventure, Comedy, Drama, Sci-Fi, Space       TV       26   \n",
       "1                  Action, Drama, Mystery, Sci-Fi, Space    Movie        1   \n",
       "2      Action, Sci-Fi, Adventure, Comedy, Drama, Shounen       TV       26   \n",
       "3      Action, Mystery, Police, Supernatural, Drama, ...       TV       26   \n",
       "4              Adventure, Fantasy, Shounen, Supernatural       TV       52   \n",
       "...                                                  ...      ...      ...   \n",
       "14916                                Romance, Shounen Ai       TV  Unknown   \n",
       "14917                              Slice of Life, Comedy  Special        1   \n",
       "14918  Mystery, Psychological, Supernatural, Thriller...  Special        1   \n",
       "14924                                   Fantasy, Romance      ONA       16   \n",
       "14943                                     Comedy, Sports  Special        1   \n",
       "\n",
       "                              Aired    Premiered  \\\n",
       "0       Apr 3, 1998 to Apr 24, 1999  Spring 1998   \n",
       "1                       Sep 1, 2001      Unknown   \n",
       "2       Apr 1, 1998 to Sep 30, 1998  Spring 1998   \n",
       "3       Jul 2, 2002 to Dec 24, 2002  Summer 2002   \n",
       "4      Sep 30, 2004 to Sep 29, 2005    Fall 2004   \n",
       "...                             ...          ...   \n",
       "14916             Feb 11, 2021 to ?  Winter 2021   \n",
       "14917                  Feb 11, 2021      Unknown   \n",
       "14918                  Feb 12, 2021      Unknown   \n",
       "14924             Feb 14, 2021 to ?      Unknown   \n",
       "14943                  Mar 14, 2021      Unknown   \n",
       "\n",
       "                                               Producers  \\\n",
       "0                                          Bandai Visual   \n",
       "1                                 Sunrise, Bandai Visual   \n",
       "2                                   Victor Entertainment   \n",
       "3      TV Tokyo, Bandai Visual, Dentsu, Victor Entert...   \n",
       "4                                       TV Tokyo, Dentsu   \n",
       "...                                                  ...   \n",
       "14916                               Suiseisha, blackflag   \n",
       "14917                                            Unknown   \n",
       "14918                                            Unknown   \n",
       "14924                                            Unknown   \n",
       "14943                      Aniplex, Movic, ABC Animation   \n",
       "\n",
       "                                  Licensors         Studios    Source  \\\n",
       "0          Funimation, Bandai Entertainment         Sunrise  Original   \n",
       "1               Sony Pictures Entertainment           Bones  Original   \n",
       "2      Funimation, Geneon Entertainment USA        Madhouse     Manga   \n",
       "3          Funimation, Bandai Entertainment         Sunrise  Original   \n",
       "4                                   Unknown  Toei Animation     Manga   \n",
       "...                                     ...             ...       ...   \n",
       "14916                               Unknown         Irawias     Manga   \n",
       "14917                               Unknown         Unknown      Game   \n",
       "14918                               Unknown     CloverWorks     Manga   \n",
       "14924                               Unknown         Unknown   Unknown   \n",
       "14943                               Unknown           Bones  Original   \n",
       "\n",
       "              Duration                          Rating   Ranked  Popularity  \\\n",
       "0      24 min. per ep.  R - 17+ (violence & profanity)     28.0          39   \n",
       "1        1 hr. 55 min.  R - 17+ (violence & profanity)    159.0         518   \n",
       "2      24 min. per ep.       PG-13 - Teens 13 or older    266.0         201   \n",
       "3      25 min. per ep.       PG-13 - Teens 13 or older   2481.0        1467   \n",
       "4      23 min. per ep.                   PG - Children   3710.0        4369   \n",
       "...                ...                             ...      ...         ...   \n",
       "14916           4 min.                R+ - Mild Nudity  15231.0        7387   \n",
       "14917          10 min.                   PG - Children   4382.0       11973   \n",
       "14918          23 min.  R - 17+ (violence & profanity)  10760.0        4398   \n",
       "14924          Unknown                         Unknown  13254.0       12411   \n",
       "14943          23 min.       PG-13 - Teens 13 or older   5799.0        4830   \n",
       "\n",
       "       Members  Favorites  Watching  Completed  Dropped  \n",
       "0      1251960      61971    105808     718161    26678  \n",
       "1       273145       1174      4143     208333      770  \n",
       "2       558913      12944     29113     343492    13925  \n",
       "3        94683        587      4300      46165     5378  \n",
       "4        13224         18       642       7314     1108  \n",
       "...        ...        ...       ...        ...      ...  \n",
       "14916     3636         90       768          3       35  \n",
       "14917      540          8        51        168        2  \n",
       "14918    13070         90      1183       8196      202  \n",
       "14924      463         35        40          0        7  \n",
       "14943    10722        167       739       7207       45  \n",
       "\n",
       "[13230 rows x 20 columns]"
      ]
     },
     "execution_count": 101,
     "metadata": {},
     "output_type": "execute_result"
    }
   ],
   "source": [
    "anime_filter"
   ]
  },
  {
   "cell_type": "markdown",
   "metadata": {},
   "source": [
    "- Puntuacion del anime"
   ]
  },
  {
   "cell_type": "code",
   "execution_count": 116,
   "metadata": {},
   "outputs": [
    {
     "data": {
      "image/png": "[encoded data removed]",
      "text/plain": [
       "<Figure size 640x480 with 1 Axes>"
      ]
     },
     "metadata": {},
     "output_type": "display_data"
    }
   ],
   "source": [
    "plt.hist(anime_filter[\"Score\"],bins=20, fill = False, edgecolor = '#7eb54e')\n",
    "plt.xlabel(\"Puntuación\")\n",
    "plt.ylabel(\"Frecuencia\")\n",
    "plt.title(\"Puntuaciones de Anime\")\n",
    "plt.show()"
   ]
  },
  {
   "cell_type": "markdown",
   "metadata": {},
   "source": [
    "## Conclusiones y reflexiones"
   ]
  }
 ],
 "metadata": {
  "interpreter": {
   "hash": "7c77fdb427e7cbc9bc1367dd530fc2b36aacdbbde1ac83c85833b10dfa8b831c"
  },
  "kernelspec": {
   "display_name": "Python 3.7.4 64-bit",
   "language": "python",
   "name": "python3"
  },
  "language_info": {
   "codemirror_mode": {
    "name": "ipython",
    "version": 3
   },
   "file_extension": ".py",
   "mimetype": "text/x-python",
   "name": "python",
   "nbconvert_exporter": "python",
   "pygments_lexer": "ipython3",
   "version": "3.11.3"
  },
  "orig_nbformat": 4
 },
 "nbformat": 4,
 "nbformat_minor": 2
}
