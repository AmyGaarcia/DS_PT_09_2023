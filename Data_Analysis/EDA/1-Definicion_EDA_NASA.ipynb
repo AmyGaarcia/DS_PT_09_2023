{
 "cells": [
  {
   "cell_type": "markdown",
   "metadata": {},
   "source": [
    "![imagen](./img/ejercicios.png)"
   ]
  },
  {
   "cell_type": "markdown",
   "metadata": {},
   "source": [
    "# INFORMACIÓN DEL PROYECTO"
   ]
  },
  {
   "cell_type": "markdown",
   "metadata": {},
   "source": [
    "## ANALIZANDO EL COSMOS: Eventos astronómicos"
   ]
  },
  {
   "cell_type": "markdown",
   "metadata": {},
   "source": [
    "### TEMA"
   ]
  },
  {
   "cell_type": "markdown",
   "metadata": {},
   "source": [
    "Se explorará cómo han cambiado y evolucionado los eventos astronómicos a lo largo de los años. Desde patrones estacionales hasta cómo estan relacionados los ciclos solares con algunos eventos astronomicos."
   ]
  },
  {
   "cell_type": "markdown",
   "metadata": {},
   "source": [
    "### HIPÓTESIS"
   ]
  },
  {
   "cell_type": "markdown",
   "metadata": {},
   "source": [
    "Define aquí lo que será la hipótesis de tu proyecto.\n",
    "Puede que tengas más de una, pero tu proyecto lo harás teniendo una principal hipótesis."
   ]
  },
  {
   "cell_type": "markdown",
   "metadata": {},
   "source": [
    "**-Hipótesis principal:**\n",
    "\n",
    "Que patrones estacionales hay en la aparicion de eventos astronómicos\n"
   ]
  },
  {
   "cell_type": "markdown",
   "metadata": {},
   "source": [
    "**-Segunda hipótesis:**\n",
    "\n",
    "Que eventos espaciales tienen algun impacto en la Tierra, como impactos de meteoritos"
   ]
  },
  {
   "cell_type": "markdown",
   "metadata": {},
   "source": [
    "**-Tercera hipótesis:**\n",
    "\n",
    "La relación de la aparicion de eventos astronómicos como auroras boreales o eclipses con los ciclos solares o actividad solar."
   ]
  },
  {
   "cell_type": "markdown",
   "metadata": {},
   "source": [
    "**-Cuarta hipótesis:**\n",
    "\n",
    "Como varía la duración de ciertos eventos astronómicos a los largo del tiempo"
   ]
  },
  {
   "cell_type": "markdown",
   "metadata": {},
   "source": [
    "## OBTENCIÓN DE LOS DATOS"
   ]
  },
  {
   "cell_type": "markdown",
   "metadata": {},
   "source": [
    "### DATASETS Y FUENTES ALTERNATIVAS DE DATOS"
   ]
  },
  {
   "cell_type": "markdown",
   "metadata": {},
   "source": [
    "Incluye aquí una breve descripción del dataset o datasets de los que partirás para poder evaluar tu hipótesis. <br>\n",
    "También incluye el origen de estos datos y su fuente."
   ]
  },
  {
   "cell_type": "markdown",
   "metadata": {},
   "source": [
    "**LINK de la base de datos que voy a usar en este EDA:**\n",
    ">[NASA API](https://api.nasa.gov/)\n",
    "\n",
    ">[PAGINA DE LA NASA](https://www.nasa.gov/)\n",
    "\n",
    ">[CATALOGO DE DATOS DE LA NASA](https://data.nasa.gov/)\n",
    "\n",
    ">[DATA patrones estacionales](https://ssd-api.jpl.nasa.gov/)\n",
    "\n",
    ">[DATA eventos con impacto en la tierra](https://cneos.jpl.nasa.gov/fireballs/)\n",
    "\n",
    ">[DATA 2 eventos con impacto en la tierra](https://ssd-api.jpl.nasa.gov/doc/fireball.html)\n",
    "\n",
    ">[DATA Eventos astronómicos con ciclos solares](https://sdo.gsfc.nasa.gov/data/)\n",
    "\n",
    ">[DATA duración de eventos astronómicos](https://exoplanetarchive.ipac.caltech.edu/docs/program_interfaces.html)\n",
    "\n",
    ">[DATA de Eath Science](https://www.earthdata.nasa.gov/esdis)\n",
    "\n",
    ">[Mas DATA](https://worldview.earthdata.nasa.gov/)\n",
    "\n",
    ">[Mas DATA](https://ccmc.gsfc.nasa.gov/)\n",
    "\n",
    ">[Kaggle nasa- nearest earth objects](https://www.kaggle.com/datasets/sameepvani/nasa-nearest-earth-objects/data)\n",
    "\n",
    ">[Kaggle solar and lunar eclipses](https://www.kaggle.com/datasets/nasa/solar-eclipses)\n",
    "\n"
   ]
  },
  {
   "cell_type": "markdown",
   "metadata": {},
   "source": [
    "Un ejemplo de parte de la Data que voy a utilizar:"
   ]
  },
  {
   "cell_type": "code",
   "execution_count": 1,
   "metadata": {},
   "outputs": [],
   "source": [
    "import numpy as np\n",
    "import pandas as pd\n",
    "from scipy import stats\n",
    "import seaborn as sns\n",
    "import matplotlib.pyplot as plt"
   ]
  },
  {
   "cell_type": "code",
   "execution_count": 4,
   "metadata": {},
   "outputs": [],
   "source": [
    "fireballs = pd.read_csv(\"./cneos_fireball_data.csv\")"
   ]
  },
  {
   "cell_type": "code",
   "execution_count": 5,
   "metadata": {},
   "outputs": [
    {
     "data": {
      "text/html": [
       "<div>\n",
       "<style scoped>\n",
       "    .dataframe tbody tr th:only-of-type {\n",
       "        vertical-align: middle;\n",
       "    }\n",
       "\n",
       "    .dataframe tbody tr th {\n",
       "        vertical-align: top;\n",
       "    }\n",
       "\n",
       "    .dataframe thead th {\n",
       "        text-align: right;\n",
       "    }\n",
       "</style>\n",
       "<table border=\"1\" class=\"dataframe\">\n",
       "  <thead>\n",
       "    <tr style=\"text-align: right;\">\n",
       "      <th></th>\n",
       "      <th>Peak Brightness Date/Time (UT)</th>\n",
       "      <th>Latitude (deg.)</th>\n",
       "      <th>Longitude (deg.)</th>\n",
       "      <th>Altitude (km)</th>\n",
       "      <th>Velocity (km/s)</th>\n",
       "      <th>vx</th>\n",
       "      <th>vy</th>\n",
       "      <th>vz</th>\n",
       "      <th>Total Radiated Energy (J)</th>\n",
       "      <th>Calculated Total Impact Energy (kt)</th>\n",
       "    </tr>\n",
       "  </thead>\n",
       "  <tbody>\n",
       "    <tr>\n",
       "      <th>0</th>\n",
       "      <td>2023-10-30 07:22:56</td>\n",
       "      <td>42.9S</td>\n",
       "      <td>44.7W</td>\n",
       "      <td>33.8</td>\n",
       "      <td>17.6</td>\n",
       "      <td>2.8</td>\n",
       "      <td>12.7</td>\n",
       "      <td>11.9</td>\n",
       "      <td>2.600000e+10</td>\n",
       "      <td>0.092</td>\n",
       "    </tr>\n",
       "    <tr>\n",
       "      <th>1</th>\n",
       "      <td>2023-10-26 08:58:25</td>\n",
       "      <td>45.9N</td>\n",
       "      <td>174.8W</td>\n",
       "      <td>44.2</td>\n",
       "      <td>30.2</td>\n",
       "      <td>15.5</td>\n",
       "      <td>24.9</td>\n",
       "      <td>-7.0</td>\n",
       "      <td>2.910000e+11</td>\n",
       "      <td>0.780</td>\n",
       "    </tr>\n",
       "    <tr>\n",
       "      <th>2</th>\n",
       "      <td>2023-10-16 17:14:52</td>\n",
       "      <td>6.5S</td>\n",
       "      <td>65.4W</td>\n",
       "      <td>35.3</td>\n",
       "      <td>19.8</td>\n",
       "      <td>-12.2</td>\n",
       "      <td>14.9</td>\n",
       "      <td>-4.8</td>\n",
       "      <td>3.000000e+10</td>\n",
       "      <td>0.100</td>\n",
       "    </tr>\n",
       "    <tr>\n",
       "      <th>3</th>\n",
       "      <td>2023-10-14 22:55:26</td>\n",
       "      <td>8.4S</td>\n",
       "      <td>161.9W</td>\n",
       "      <td>37.0</td>\n",
       "      <td>19.3</td>\n",
       "      <td>19.3</td>\n",
       "      <td>-0.4</td>\n",
       "      <td>-1.3</td>\n",
       "      <td>5.400000e+10</td>\n",
       "      <td>0.180</td>\n",
       "    </tr>\n",
       "    <tr>\n",
       "      <th>4</th>\n",
       "      <td>2023-09-28 20:32:35</td>\n",
       "      <td>13.2N</td>\n",
       "      <td>72.4E</td>\n",
       "      <td>37.0</td>\n",
       "      <td>NaN</td>\n",
       "      <td>NaN</td>\n",
       "      <td>NaN</td>\n",
       "      <td>NaN</td>\n",
       "      <td>5.000000e+10</td>\n",
       "      <td>0.160</td>\n",
       "    </tr>\n",
       "  </tbody>\n",
       "</table>\n",
       "</div>"
      ],
      "text/plain": [
       "  Peak Brightness Date/Time (UT) Latitude (deg.) Longitude (deg.)  \\\n",
       "0            2023-10-30 07:22:56           42.9S            44.7W   \n",
       "1            2023-10-26 08:58:25           45.9N           174.8W   \n",
       "2            2023-10-16 17:14:52            6.5S            65.4W   \n",
       "3            2023-10-14 22:55:26            8.4S           161.9W   \n",
       "4            2023-09-28 20:32:35           13.2N            72.4E   \n",
       "\n",
       "   Altitude (km)  Velocity (km/s)    vx    vy    vz  \\\n",
       "0           33.8             17.6   2.8  12.7  11.9   \n",
       "1           44.2             30.2  15.5  24.9  -7.0   \n",
       "2           35.3             19.8 -12.2  14.9  -4.8   \n",
       "3           37.0             19.3  19.3  -0.4  -1.3   \n",
       "4           37.0              NaN   NaN   NaN   NaN   \n",
       "\n",
       "   Total Radiated Energy (J)  Calculated Total Impact Energy (kt)  \n",
       "0               2.600000e+10                                0.092  \n",
       "1               2.910000e+11                                0.780  \n",
       "2               3.000000e+10                                0.100  \n",
       "3               5.400000e+10                                0.180  \n",
       "4               5.000000e+10                                0.160  "
      ]
     },
     "execution_count": 5,
     "metadata": {},
     "output_type": "execute_result"
    }
   ],
   "source": [
    "fireballs.head()"
   ]
  },
  {
   "cell_type": "code",
   "execution_count": 6,
   "metadata": {},
   "outputs": [
    {
     "data": {
      "text/html": [
       "<div>\n",
       "<style scoped>\n",
       "    .dataframe tbody tr th:only-of-type {\n",
       "        vertical-align: middle;\n",
       "    }\n",
       "\n",
       "    .dataframe tbody tr th {\n",
       "        vertical-align: top;\n",
       "    }\n",
       "\n",
       "    .dataframe thead th {\n",
       "        text-align: right;\n",
       "    }\n",
       "</style>\n",
       "<table border=\"1\" class=\"dataframe\">\n",
       "  <thead>\n",
       "    <tr style=\"text-align: right;\">\n",
       "      <th></th>\n",
       "      <th>Altitude (km)</th>\n",
       "      <th>Velocity (km/s)</th>\n",
       "      <th>vx</th>\n",
       "      <th>vy</th>\n",
       "      <th>vz</th>\n",
       "      <th>Total Radiated Energy (J)</th>\n",
       "      <th>Calculated Total Impact Energy (kt)</th>\n",
       "    </tr>\n",
       "  </thead>\n",
       "  <tbody>\n",
       "    <tr>\n",
       "      <th>count</th>\n",
       "      <td>509.000000</td>\n",
       "      <td>301.000000</td>\n",
       "      <td>301.000000</td>\n",
       "      <td>301.000000</td>\n",
       "      <td>301.000000</td>\n",
       "      <td>9.680000e+02</td>\n",
       "      <td>968.000000</td>\n",
       "    </tr>\n",
       "    <tr>\n",
       "      <th>mean</th>\n",
       "      <td>36.278389</td>\n",
       "      <td>18.109302</td>\n",
       "      <td>0.102990</td>\n",
       "      <td>-1.859468</td>\n",
       "      <td>-0.918937</td>\n",
       "      <td>7.409576e+11</td>\n",
       "      <td>1.211702</td>\n",
       "    </tr>\n",
       "    <tr>\n",
       "      <th>std</th>\n",
       "      <td>10.543125</td>\n",
       "      <td>5.764187</td>\n",
       "      <td>11.045404</td>\n",
       "      <td>11.413913</td>\n",
       "      <td>10.473376</td>\n",
       "      <td>1.216034e+13</td>\n",
       "      <td>14.402964</td>\n",
       "    </tr>\n",
       "    <tr>\n",
       "      <th>min</th>\n",
       "      <td>14.000000</td>\n",
       "      <td>9.800000</td>\n",
       "      <td>-35.400000</td>\n",
       "      <td>-43.500000</td>\n",
       "      <td>-31.200000</td>\n",
       "      <td>2.000000e+10</td>\n",
       "      <td>0.073000</td>\n",
       "    </tr>\n",
       "    <tr>\n",
       "      <th>25%</th>\n",
       "      <td>29.600000</td>\n",
       "      <td>14.200000</td>\n",
       "      <td>-8.500000</td>\n",
       "      <td>-10.000000</td>\n",
       "      <td>-9.100000</td>\n",
       "      <td>3.200000e+10</td>\n",
       "      <td>0.110000</td>\n",
       "    </tr>\n",
       "    <tr>\n",
       "      <th>50%</th>\n",
       "      <td>35.000000</td>\n",
       "      <td>16.900000</td>\n",
       "      <td>0.100000</td>\n",
       "      <td>-2.500000</td>\n",
       "      <td>-0.100000</td>\n",
       "      <td>6.200000e+10</td>\n",
       "      <td>0.200000</td>\n",
       "    </tr>\n",
       "    <tr>\n",
       "      <th>75%</th>\n",
       "      <td>40.700000</td>\n",
       "      <td>20.200000</td>\n",
       "      <td>8.600000</td>\n",
       "      <td>5.700000</td>\n",
       "      <td>6.900000</td>\n",
       "      <td>1.452500e+11</td>\n",
       "      <td>0.420000</td>\n",
       "    </tr>\n",
       "    <tr>\n",
       "      <th>max</th>\n",
       "      <td>74.000000</td>\n",
       "      <td>49.000000</td>\n",
       "      <td>27.800000</td>\n",
       "      <td>31.200000</td>\n",
       "      <td>27.000000</td>\n",
       "      <td>3.750000e+14</td>\n",
       "      <td>440.000000</td>\n",
       "    </tr>\n",
       "  </tbody>\n",
       "</table>\n",
       "</div>"
      ],
      "text/plain": [
       "       Altitude (km)  Velocity (km/s)          vx          vy          vz  \\\n",
       "count     509.000000       301.000000  301.000000  301.000000  301.000000   \n",
       "mean       36.278389        18.109302    0.102990   -1.859468   -0.918937   \n",
       "std        10.543125         5.764187   11.045404   11.413913   10.473376   \n",
       "min        14.000000         9.800000  -35.400000  -43.500000  -31.200000   \n",
       "25%        29.600000        14.200000   -8.500000  -10.000000   -9.100000   \n",
       "50%        35.000000        16.900000    0.100000   -2.500000   -0.100000   \n",
       "75%        40.700000        20.200000    8.600000    5.700000    6.900000   \n",
       "max        74.000000        49.000000   27.800000   31.200000   27.000000   \n",
       "\n",
       "       Total Radiated Energy (J)  Calculated Total Impact Energy (kt)  \n",
       "count               9.680000e+02                           968.000000  \n",
       "mean                7.409576e+11                             1.211702  \n",
       "std                 1.216034e+13                            14.402964  \n",
       "min                 2.000000e+10                             0.073000  \n",
       "25%                 3.200000e+10                             0.110000  \n",
       "50%                 6.200000e+10                             0.200000  \n",
       "75%                 1.452500e+11                             0.420000  \n",
       "max                 3.750000e+14                           440.000000  "
      ]
     },
     "execution_count": 6,
     "metadata": {},
     "output_type": "execute_result"
    }
   ],
   "source": [
    "fireballs.describe()"
   ]
  },
  {
   "cell_type": "code",
   "execution_count": 7,
   "metadata": {},
   "outputs": [
    {
     "data": {
      "text/plain": [
       "(968, 10)"
      ]
     },
     "execution_count": 7,
     "metadata": {},
     "output_type": "execute_result"
    }
   ],
   "source": [
    "fireballs.shape"
   ]
  },
  {
   "cell_type": "markdown",
   "metadata": {},
   "source": [
    "Otro ejemplo:"
   ]
  },
  {
   "cell_type": "code",
   "execution_count": 8,
   "metadata": {},
   "outputs": [],
   "source": [
    "solar = pd.read_csv(\"./SolarPrediction.csv\")"
   ]
  },
  {
   "cell_type": "code",
   "execution_count": 9,
   "metadata": {},
   "outputs": [
    {
     "data": {
      "text/html": [
       "<div>\n",
       "<style scoped>\n",
       "    .dataframe tbody tr th:only-of-type {\n",
       "        vertical-align: middle;\n",
       "    }\n",
       "\n",
       "    .dataframe tbody tr th {\n",
       "        vertical-align: top;\n",
       "    }\n",
       "\n",
       "    .dataframe thead th {\n",
       "        text-align: right;\n",
       "    }\n",
       "</style>\n",
       "<table border=\"1\" class=\"dataframe\">\n",
       "  <thead>\n",
       "    <tr style=\"text-align: right;\">\n",
       "      <th></th>\n",
       "      <th>UNIXTime</th>\n",
       "      <th>Data</th>\n",
       "      <th>Time</th>\n",
       "      <th>Radiation</th>\n",
       "      <th>Temperature</th>\n",
       "      <th>Pressure</th>\n",
       "      <th>Humidity</th>\n",
       "      <th>WindDirection(Degrees)</th>\n",
       "      <th>Speed</th>\n",
       "      <th>TimeSunRise</th>\n",
       "      <th>TimeSunSet</th>\n",
       "    </tr>\n",
       "  </thead>\n",
       "  <tbody>\n",
       "    <tr>\n",
       "      <th>0</th>\n",
       "      <td>1475229326</td>\n",
       "      <td>9/29/2016 12:00:00 AM</td>\n",
       "      <td>23:55:26</td>\n",
       "      <td>1.21</td>\n",
       "      <td>48</td>\n",
       "      <td>30.46</td>\n",
       "      <td>59</td>\n",
       "      <td>177.39</td>\n",
       "      <td>5.62</td>\n",
       "      <td>06:13:00</td>\n",
       "      <td>18:13:00</td>\n",
       "    </tr>\n",
       "    <tr>\n",
       "      <th>1</th>\n",
       "      <td>1475229023</td>\n",
       "      <td>9/29/2016 12:00:00 AM</td>\n",
       "      <td>23:50:23</td>\n",
       "      <td>1.21</td>\n",
       "      <td>48</td>\n",
       "      <td>30.46</td>\n",
       "      <td>58</td>\n",
       "      <td>176.78</td>\n",
       "      <td>3.37</td>\n",
       "      <td>06:13:00</td>\n",
       "      <td>18:13:00</td>\n",
       "    </tr>\n",
       "    <tr>\n",
       "      <th>2</th>\n",
       "      <td>1475228726</td>\n",
       "      <td>9/29/2016 12:00:00 AM</td>\n",
       "      <td>23:45:26</td>\n",
       "      <td>1.23</td>\n",
       "      <td>48</td>\n",
       "      <td>30.46</td>\n",
       "      <td>57</td>\n",
       "      <td>158.75</td>\n",
       "      <td>3.37</td>\n",
       "      <td>06:13:00</td>\n",
       "      <td>18:13:00</td>\n",
       "    </tr>\n",
       "    <tr>\n",
       "      <th>3</th>\n",
       "      <td>1475228421</td>\n",
       "      <td>9/29/2016 12:00:00 AM</td>\n",
       "      <td>23:40:21</td>\n",
       "      <td>1.21</td>\n",
       "      <td>48</td>\n",
       "      <td>30.46</td>\n",
       "      <td>60</td>\n",
       "      <td>137.71</td>\n",
       "      <td>3.37</td>\n",
       "      <td>06:13:00</td>\n",
       "      <td>18:13:00</td>\n",
       "    </tr>\n",
       "    <tr>\n",
       "      <th>4</th>\n",
       "      <td>1475228124</td>\n",
       "      <td>9/29/2016 12:00:00 AM</td>\n",
       "      <td>23:35:24</td>\n",
       "      <td>1.17</td>\n",
       "      <td>48</td>\n",
       "      <td>30.46</td>\n",
       "      <td>62</td>\n",
       "      <td>104.95</td>\n",
       "      <td>5.62</td>\n",
       "      <td>06:13:00</td>\n",
       "      <td>18:13:00</td>\n",
       "    </tr>\n",
       "  </tbody>\n",
       "</table>\n",
       "</div>"
      ],
      "text/plain": [
       "     UNIXTime                   Data      Time  Radiation  Temperature  \\\n",
       "0  1475229326  9/29/2016 12:00:00 AM  23:55:26       1.21           48   \n",
       "1  1475229023  9/29/2016 12:00:00 AM  23:50:23       1.21           48   \n",
       "2  1475228726  9/29/2016 12:00:00 AM  23:45:26       1.23           48   \n",
       "3  1475228421  9/29/2016 12:00:00 AM  23:40:21       1.21           48   \n",
       "4  1475228124  9/29/2016 12:00:00 AM  23:35:24       1.17           48   \n",
       "\n",
       "   Pressure  Humidity  WindDirection(Degrees)  Speed TimeSunRise TimeSunSet  \n",
       "0     30.46        59                  177.39   5.62    06:13:00   18:13:00  \n",
       "1     30.46        58                  176.78   3.37    06:13:00   18:13:00  \n",
       "2     30.46        57                  158.75   3.37    06:13:00   18:13:00  \n",
       "3     30.46        60                  137.71   3.37    06:13:00   18:13:00  \n",
       "4     30.46        62                  104.95   5.62    06:13:00   18:13:00  "
      ]
     },
     "execution_count": 9,
     "metadata": {},
     "output_type": "execute_result"
    }
   ],
   "source": [
    "solar.head()"
   ]
  },
  {
   "cell_type": "code",
   "execution_count": 10,
   "metadata": {},
   "outputs": [
    {
     "name": "stdout",
     "output_type": "stream",
     "text": [
      "<class 'pandas.core.frame.DataFrame'>\n",
      "RangeIndex: 32686 entries, 0 to 32685\n",
      "Data columns (total 11 columns):\n",
      " #   Column                  Non-Null Count  Dtype  \n",
      "---  ------                  --------------  -----  \n",
      " 0   UNIXTime                32686 non-null  int64  \n",
      " 1   Data                    32686 non-null  object \n",
      " 2   Time                    32686 non-null  object \n",
      " 3   Radiation               32686 non-null  float64\n",
      " 4   Temperature             32686 non-null  int64  \n",
      " 5   Pressure                32686 non-null  float64\n",
      " 6   Humidity                32686 non-null  int64  \n",
      " 7   WindDirection(Degrees)  32686 non-null  float64\n",
      " 8   Speed                   32686 non-null  float64\n",
      " 9   TimeSunRise             32686 non-null  object \n",
      " 10  TimeSunSet              32686 non-null  object \n",
      "dtypes: float64(4), int64(3), object(4)\n",
      "memory usage: 2.7+ MB\n"
     ]
    }
   ],
   "source": [
    "solar.info()"
   ]
  },
  {
   "cell_type": "code",
   "execution_count": 11,
   "metadata": {},
   "outputs": [
    {
     "data": {
      "text/html": [
       "<div>\n",
       "<style scoped>\n",
       "    .dataframe tbody tr th:only-of-type {\n",
       "        vertical-align: middle;\n",
       "    }\n",
       "\n",
       "    .dataframe tbody tr th {\n",
       "        vertical-align: top;\n",
       "    }\n",
       "\n",
       "    .dataframe thead th {\n",
       "        text-align: right;\n",
       "    }\n",
       "</style>\n",
       "<table border=\"1\" class=\"dataframe\">\n",
       "  <thead>\n",
       "    <tr style=\"text-align: right;\">\n",
       "      <th></th>\n",
       "      <th>UNIXTime</th>\n",
       "      <th>Radiation</th>\n",
       "      <th>Temperature</th>\n",
       "      <th>Pressure</th>\n",
       "      <th>Humidity</th>\n",
       "      <th>WindDirection(Degrees)</th>\n",
       "      <th>Speed</th>\n",
       "    </tr>\n",
       "  </thead>\n",
       "  <tbody>\n",
       "    <tr>\n",
       "      <th>count</th>\n",
       "      <td>3.268600e+04</td>\n",
       "      <td>32686.000000</td>\n",
       "      <td>32686.000000</td>\n",
       "      <td>32686.000000</td>\n",
       "      <td>32686.000000</td>\n",
       "      <td>32686.000000</td>\n",
       "      <td>32686.000000</td>\n",
       "    </tr>\n",
       "    <tr>\n",
       "      <th>mean</th>\n",
       "      <td>1.478047e+09</td>\n",
       "      <td>207.124697</td>\n",
       "      <td>51.103255</td>\n",
       "      <td>30.422879</td>\n",
       "      <td>75.016307</td>\n",
       "      <td>143.489821</td>\n",
       "      <td>6.243869</td>\n",
       "    </tr>\n",
       "    <tr>\n",
       "      <th>std</th>\n",
       "      <td>3.005037e+06</td>\n",
       "      <td>315.916387</td>\n",
       "      <td>6.201157</td>\n",
       "      <td>0.054673</td>\n",
       "      <td>25.990219</td>\n",
       "      <td>83.167500</td>\n",
       "      <td>3.490474</td>\n",
       "    </tr>\n",
       "    <tr>\n",
       "      <th>min</th>\n",
       "      <td>1.472724e+09</td>\n",
       "      <td>1.110000</td>\n",
       "      <td>34.000000</td>\n",
       "      <td>30.190000</td>\n",
       "      <td>8.000000</td>\n",
       "      <td>0.090000</td>\n",
       "      <td>0.000000</td>\n",
       "    </tr>\n",
       "    <tr>\n",
       "      <th>25%</th>\n",
       "      <td>1.475546e+09</td>\n",
       "      <td>1.230000</td>\n",
       "      <td>46.000000</td>\n",
       "      <td>30.400000</td>\n",
       "      <td>56.000000</td>\n",
       "      <td>82.227500</td>\n",
       "      <td>3.370000</td>\n",
       "    </tr>\n",
       "    <tr>\n",
       "      <th>50%</th>\n",
       "      <td>1.478026e+09</td>\n",
       "      <td>2.660000</td>\n",
       "      <td>50.000000</td>\n",
       "      <td>30.430000</td>\n",
       "      <td>85.000000</td>\n",
       "      <td>147.700000</td>\n",
       "      <td>5.620000</td>\n",
       "    </tr>\n",
       "    <tr>\n",
       "      <th>75%</th>\n",
       "      <td>1.480480e+09</td>\n",
       "      <td>354.235000</td>\n",
       "      <td>55.000000</td>\n",
       "      <td>30.460000</td>\n",
       "      <td>97.000000</td>\n",
       "      <td>179.310000</td>\n",
       "      <td>7.870000</td>\n",
       "    </tr>\n",
       "    <tr>\n",
       "      <th>max</th>\n",
       "      <td>1.483265e+09</td>\n",
       "      <td>1601.260000</td>\n",
       "      <td>71.000000</td>\n",
       "      <td>30.560000</td>\n",
       "      <td>103.000000</td>\n",
       "      <td>359.950000</td>\n",
       "      <td>40.500000</td>\n",
       "    </tr>\n",
       "  </tbody>\n",
       "</table>\n",
       "</div>"
      ],
      "text/plain": [
       "           UNIXTime     Radiation   Temperature      Pressure      Humidity  \\\n",
       "count  3.268600e+04  32686.000000  32686.000000  32686.000000  32686.000000   \n",
       "mean   1.478047e+09    207.124697     51.103255     30.422879     75.016307   \n",
       "std    3.005037e+06    315.916387      6.201157      0.054673     25.990219   \n",
       "min    1.472724e+09      1.110000     34.000000     30.190000      8.000000   \n",
       "25%    1.475546e+09      1.230000     46.000000     30.400000     56.000000   \n",
       "50%    1.478026e+09      2.660000     50.000000     30.430000     85.000000   \n",
       "75%    1.480480e+09    354.235000     55.000000     30.460000     97.000000   \n",
       "max    1.483265e+09   1601.260000     71.000000     30.560000    103.000000   \n",
       "\n",
       "       WindDirection(Degrees)         Speed  \n",
       "count            32686.000000  32686.000000  \n",
       "mean               143.489821      6.243869  \n",
       "std                 83.167500      3.490474  \n",
       "min                  0.090000      0.000000  \n",
       "25%                 82.227500      3.370000  \n",
       "50%                147.700000      5.620000  \n",
       "75%                179.310000      7.870000  \n",
       "max                359.950000     40.500000  "
      ]
     },
     "execution_count": 11,
     "metadata": {},
     "output_type": "execute_result"
    }
   ],
   "source": [
    "solar.describe()"
   ]
  },
  {
   "cell_type": "code",
   "execution_count": 12,
   "metadata": {},
   "outputs": [
    {
     "data": {
      "text/plain": [
       "(32686, 11)"
      ]
     },
     "execution_count": 12,
     "metadata": {},
     "output_type": "execute_result"
    }
   ],
   "source": [
    "solar.shape"
   ]
  }
 ],
 "metadata": {
  "interpreter": {
   "hash": "7c77fdb427e7cbc9bc1367dd530fc2b36aacdbbde1ac83c85833b10dfa8b831c"
  },
  "kernelspec": {
   "display_name": "Python 3.7.4 64-bit",
   "language": "python",
   "name": "python3"
  },
  "language_info": {
   "codemirror_mode": {
    "name": "ipython",
    "version": 3
   },
   "file_extension": ".py",
   "mimetype": "text/x-python",
   "name": "python",
   "nbconvert_exporter": "python",
   "pygments_lexer": "ipython3",
   "version": "3.11.3"
  },
  "orig_nbformat": 4
 },
 "nbformat": 4,
 "nbformat_minor": 2
}
